{
 "cells": [
  {
   "cell_type": "markdown",
   "metadata": {},
   "source": [
    "# SandBox para testes em aula do curso Básico ao Avançado em PY3"
   ]
  },
  {
   "cell_type": "markdown",
   "metadata": {},
   "source": [
    "## Seção 2: Python Básico (lógica de programação)"
   ]
  },
  {
   "cell_type": "code",
   "execution_count": null,
   "metadata": {},
   "outputs": [],
   "source": [
    "nome = 'Victor'\n",
    "idade = 30\n",
    "altura = 1.75\n",
    "massa = 64.5\n",
    "ano_atual = 2021\n",
    "ano_nascimento = ano_atual - idade\n",
    "imc = round(massa / (altura ** 2), 2)\n",
    "e_maior = idade > 18"
   ]
  },
  {
   "cell_type": "code",
   "execution_count": null,
   "metadata": {},
   "outputs": [],
   "source": [
    "print(f'{nome} tem {idade} anos de idade e seu imc é {imc:.2f}')\n",
    "print('{} tem {} anos de idade e seu imc é {:.2f}'.format(nome, idade, imc))\n",
    "print('{1} tem {2} anos de idade e seu imc é {0:.2f}'.format(imc, nome, idade))\n",
    "print('{n} tem {i} anos de idade e seu imc é {im:.2f}'.format(im=imc, n=nome, i=idade))\n",
    "\n",
    "if e_maior:\n",
    "    print('{4}: {0}, nascido em {5} tem {1} anos de idade, é maior de idade, possui {3} '\n",
    "          'kg de massa corpórea e {2} m de altura resultando em IMC = {6}'\n",
    "          .format(nome, idade,altura, massa, ano_atual, ano_nascimento, imc))\n",
    "else:\n",
    "    print('{4}: {0}, nascido em {5} tem {1} anos de idade, não é maior de idade, possui {3} '\n",
    "          'kg de massa corpórea e {2} m de altura resultando em IMC = {6}'\n",
    "          .format(nome, idade, altura, massa, ano_atual, ano_nascimento, imc))"
   ]
  },
  {
   "cell_type": "code",
   "execution_count": null,
   "metadata": {},
   "outputs": [],
   "source": [
    "nome = str(input('Qual seu nome? '))\n",
    "print('O usuário digitou: {}, do tipo {}'.format(nome, type(nome)))"
   ]
  },
  {
   "cell_type": "code",
   "execution_count": null,
   "metadata": {},
   "outputs": [],
   "source": [
    "import re\n",
    " \n",
    "def is_float(val):\n",
    "    if isinstance(val, float): return True\n",
    "    if re.search(r'^\\-{,1}[0-9]+\\.{1}[0-9]+$', val): return True\n",
    " \n",
    "    return False\n",
    " \n",
    "def is_int(val):\n",
    "    if isinstance(val, int): return True\n",
    "    if re.search(r'^\\-{,1}[0-9]+$', val): return True\n",
    " \n",
    "    return False\n",
    " \n",
    "def is_number(val):\n",
    "    return is_int(val) or is_float(val)\n",
    " \n",
    "###########\n",
    "#  USAGE  #\n",
    "###########\n",
    " \n",
    "# Float\n",
    "print(is_float('-101.0112'))  # True\n",
    "# Int\n",
    "print(is_int('-1010112'))  # True\n",
    "# Numbers in general (float ou int)\n",
    "print(is_number('-1010.112'))  # True\n",
    " \n",
    "# False\n",
    "print(is_number('123a'))  # False"
   ]
  },
  {
   "cell_type": "code",
   "execution_count": null,
   "metadata": {},
   "outputs": [],
   "source": [
    "num1 = input('Digite um número: ')\n",
    "num2 = input('Digite outro número: ')\n",
    "\n",
    "# isnumeric isdigit isdecimal\n",
    "\n",
    "print(num1.isnumeric(), num2.isnumeric())\n",
    "print(num1.isdecimal(), num2.isdecimal())\n",
    "print(num1.isdigit(), num2.isdigit())\n",
    "\n",
    "try:\n",
    "    num1 = float(num1)\n",
    "    num2 = float(num2)\n",
    "    print(num1 + num2)\n",
    "except:\n",
    "    print('Erro')"
   ]
  },
  {
   "cell_type": "code",
   "execution_count": null,
   "metadata": {},
   "outputs": [],
   "source": [
    "valor = True\n",
    "\n",
    "if valor:\n",
    "    pass\n",
    "else:\n",
    "    print('Falso')\n",
    "    \n",
    "if valor:\n",
    "    ...\n",
    "else:\n",
    "    print('Falso')"
   ]
  },
  {
   "cell_type": "code",
   "execution_count": null,
   "metadata": {},
   "outputs": [],
   "source": [
    "numero = input('Digite um número inteiro: ')\n",
    "e_inteiro = is_int(numero)\n",
    "\n",
    "while e_inteiro == False:\n",
    "    numero = input('Errado, digite um número inteiro: ')\n",
    "    e_inteiro = is_int(numero)\n",
    "\n",
    "if (int(numero) % 2 == 0):\n",
    "    print('O numero digitado é par!')\n",
    "else:\n",
    "    print('O numero digitado é impar!')\n",
    "    "
   ]
  },
  {
   "cell_type": "code",
   "execution_count": null,
   "metadata": {},
   "outputs": [],
   "source": [
    "import datetime as dt\n",
    "\n",
    "horario = input('Digite a hora: ')\n",
    "\n",
    "try:\n",
    "    [horas, minutos] = [int(x) for x in horario.split(':')]\n",
    "    horario = dt.time(hour = horas, minute = minutos)\n",
    "except:\n",
    "    print('Erro de horário')\n",
    "\n",
    "if horario.hour < 12:\n",
    "    print('Bom dia!')\n",
    "if (horario.hour >= 12) and (horario.hour < 18):\n",
    "    print('Boa tarde!')\n",
    "if (horario.hour >= 18):\n",
    "    print('Boa noite!')\n"
   ]
  },
  {
   "cell_type": "code",
   "execution_count": null,
   "metadata": {},
   "outputs": [],
   "source": [
    "nome = input('Digite seu nome: ')\n",
    "\n",
    "if len(nome) <= 4:\n",
    "    print('Seu nome é curto.')\n",
    "elif len(nome) > 6:\n",
    "    print('Seu nome é muito grande.')\n",
    "else:\n",
    "    print('Seu nome é normal.')"
   ]
  },
  {
   "cell_type": "code",
   "execution_count": null,
   "metadata": {},
   "outputs": [],
   "source": [
    "num1 = 10\n",
    "num2 = 3\n",
    "divisao = num1 / num2\n",
    "\n",
    "nome = 'Victor'\n",
    "\n",
    "nome_formatado = '{n:@<10} {n:@<10} {n:@<10} {n:@<10} {n:@<10}'.format(n=nome)\n",
    "\n",
    "nome_ljust = nome.ljust(20, '@')\n",
    "\n",
    "print('{:.2f}'.format(divisao))\n",
    "print(f'{nome:s}')\n",
    "print(f'{num1:#^21.2f}')\n",
    "print(nome_formatado)\n",
    "print(nome_ljust)\n",
    "print(nome.lower())\n",
    "print(nome.upper())\n",
    "print(nome.title())"
   ]
  },
  {
   "cell_type": "code",
   "execution_count": null,
   "metadata": {},
   "outputs": [],
   "source": [
    "texto = 'Python 3.9.2'\n",
    "\n",
    "print(texto[2])\n",
    "print(texto[2:4])\n",
    "print(texto[:6])\n",
    "print(texto[2:])\n",
    "print(texto[2:-3])\n",
    "print(texto[2:-3:2])  # Carctere 2 ao -3 de 2 em 2"
   ]
  },
  {
   "cell_type": "code",
   "execution_count": null,
   "metadata": {},
   "outputs": [],
   "source": [
    "\"\"\"\n",
    "Faça um programa que peça ao usuário para digitar um número inteiro,\n",
    "informe se este número é par ou ímpar. Caso o usuário não digite um número\n",
    "inteiro, informe que não é um número inteiro.\n",
    "\"\"\"\n",
    "numero_inteiro = input('Digite um número inteiro: ')\n",
    "\n",
    "if not numero_inteiro.isdigit():\n",
    "    print('Isso não é um número inteiro')\n",
    "else:\n",
    "    numero_inteiro = int(numero_inteiro)\n",
    "\n",
    "    if not numero_inteiro % 2 == 0:\n",
    "        print(f'{numero_inteiro} é ímpar')\n",
    "    else:\n",
    "        print(f'{numero_inteiro} é par')"
   ]
  },
  {
   "cell_type": "code",
   "execution_count": null,
   "metadata": {},
   "outputs": [],
   "source": [
    "\"\"\"\n",
    "Faça um programa que pergunte a hora ao usuário e, baseando-se no horário \n",
    "descrito, exiba a saudação apropriada. Ex. \n",
    "Bom dia 0-11, Boa tarde 12-17 e Boa noite 18-23.\n",
    "\"\"\"\n",
    "horario = input('Digite um horário (0-23): ')\n",
    "\n",
    "if horario.isdigit():\n",
    "    horario = int(horario)\n",
    "\n",
    "    if horario < 0 or horario > 23:\n",
    "         print(\"Horário deve estar entre 0 e 23\")\n",
    "    else:\n",
    "        if horario <= 11:\n",
    "             print('Boa dia!')\n",
    "        elif horario <= 17:\n",
    "             print('Boa tarde!')\n",
    "        else:\n",
    "            print('Boa noite!')\n",
    "else:\n",
    "    print(\"Por favor, digite um horário entre 0 e 23.\")"
   ]
  },
  {
   "cell_type": "code",
   "execution_count": null,
   "metadata": {},
   "outputs": [],
   "source": [
    "\"\"\"\n",
    "Faça um programa que peça o primeiro nome do usuário. Se o nome tiver 4 letras ou \n",
    "menos escreva \"Seu nome é curto\"; se tiver entre 5 e 6 letras, escreva \n",
    "\"Seu nome é normal\"; maior que 6 escreva \"Seu nome é muito grande\". \n",
    "\"\"\"\n",
    "nome = input('Digite seu nome: ')\n",
    "tamanho = len(nome)\n",
    "\n",
    "if tamanho <= 4:\n",
    "     print('Seu nome é curto.')\n",
    "elif tamanho <= 6:\n",
    "     print('Seu nome é normal.')\n",
    "else:\n",
    "     print('Seu nome é muito grande.')"
   ]
  },
  {
   "cell_type": "code",
   "execution_count": null,
   "metadata": {},
   "outputs": [],
   "source": [
    "\"\"\"\n",
    "CPF = 168.995.350-09\n",
    "------------------------------------------------\n",
    "1 * 10 = 10           #    1 * 11 = 11 <-\n",
    "6 * 9  = 54           #    6 * 10 = 60\n",
    "8 * 8  = 64           #    8 *  9 = 72\n",
    "9 * 7  = 63           #    9 *  8 = 72\n",
    "9 * 6  = 54           #    9 *  7 = 63\n",
    "5 * 5  = 25           #    5 *  6 = 30\n",
    "3 * 4  = 12           #    3 *  5 = 15\n",
    "5 * 3  = 15           #    5 *  4 = 20\n",
    "0 * 2  = 0            #    0 *  3 = 0\n",
    "                      # -> 0 *  2 = 0\n",
    "         297          #             343\n",
    "11 - (297 % 11) = 11  #     11 - (343 % 11) = 9\n",
    "11 > 9 = 0            #\n",
    "Digito 1 = 0          #   Digito 2 = 9\n",
    "\"\"\"\n",
    "\n",
    "# Loop infinito\n",
    "while True:\n",
    "    # cpf = '16899535009'\n",
    "    cpf = input('Digite um CPF: ')\n",
    "    novo_cpf = cpf[:-2]                 # Elimina os dois últimos digitos do CPF\n",
    "    reverso = 10                        # Contador reverso\n",
    "    total = 0\n",
    "\n",
    "    # Loop do CPF\n",
    "    for index in range(19):\n",
    "        if index > 8:                   # Primeiro índice vai de 0 a 9,\n",
    "            index -= 9                  # São os 9 primeiros digitos do CPF\n",
    "\n",
    "        total += int(novo_cpf[index]) * reverso  # Valor total da multiplicação\n",
    "\n",
    "        reverso -= 1                    # Decrementa o contador reverso\n",
    "        if reverso < 2:\n",
    "            reverso = 11\n",
    "            d = 11 - (total % 11)\n",
    "\n",
    "            if d > 9:                   # Se o digito for > que 9 o valor é 0\n",
    "                d = 0\n",
    "            total = 0                   # Zera o total\n",
    "            novo_cpf += str(d)          # Concatena o digito gerado no novo cpf\n",
    "\n",
    "    # Evita sequencias. Ex.: 11111111111, 00000000000...\n",
    "    sequencia = novo_cpf == str(novo_cpf[0]) * len(cpf)\n",
    "\n",
    "    # Descobri que sequências avaliavam como verdadeiro, então também\n",
    "    # adicionei essa checagem aqui\n",
    "    if cpf == novo_cpf and not sequencia:\n",
    "        print('Válido')\n",
    "    else:\n",
    "        print('Inválido')"
   ]
  },
  {
   "cell_type": "code",
   "execution_count": null,
   "metadata": {},
   "outputs": [],
   "source": [
    "from random import randint\n",
    "numero = str(randint(100000000, 999999999))\n",
    "\n",
    "novo_cpf = numero                   # 9 números aleatórios\n",
    "reverso = 10                        # Contador reverso\n",
    "total = 0                           # O total das multiplicações\n",
    "\n",
    "# Loop do CPF\n",
    "for index in range(19):\n",
    "    if index > 8:                   # Primeiro índice vai de 0 a 9,\n",
    "        index -= 9                  # São os 9 primeiros digitos do CPF\n",
    "\n",
    "    total += int(novo_cpf[index]) * reverso  # Valor total da multiplicação\n",
    "\n",
    "    reverso -= 1                    # Decrementa o contador reverso\n",
    "    if reverso < 2:\n",
    "        reverso = 11\n",
    "        d = 11 - (total % 11)\n",
    "\n",
    "        if d > 9:                   # Se o digito for > que 9 o valor é 0\n",
    "            d = 0\n",
    "        total = 0                   # Zera o total\n",
    "        novo_cpf += str(d)          # Concatena o digito gerado no novo cpf\n",
    "\n",
    "print(novo_cpf)"
   ]
  },
  {
   "cell_type": "markdown",
   "metadata": {
    "heading_collapsed": true
   },
   "source": [
    "## Seção 3: Python Intermediário (programação procedural)"
   ]
  },
  {
   "cell_type": "code",
   "execution_count": 1,
   "metadata": {
    "hidden": true
   },
   "outputs": [
    {
     "name": "stdout",
     "output_type": "stream",
     "text": [
      "Olá Joãozinho\n",
      "Oi Maria\n",
      "Hey Eduardo\n"
     ]
    }
   ],
   "source": [
    "\"\"\"\n",
    "1 - Crie uma função que exibe uma saudação com os parâmetros saudacao e nome.\n",
    "\"\"\"\n",
    "\n",
    "def saudacao(saudacao, nome):\n",
    "    print(f'{saudacao} {nome}')\n",
    "\n",
    "saudacao('Olá', 'Joãozinho')\n",
    "saudacao('Oi', 'Maria')\n",
    "saudacao('Hey', 'Eduardo')"
   ]
  },
  {
   "cell_type": "code",
   "execution_count": 2,
   "metadata": {},
   "outputs": [
    {
     "name": "stdout",
     "output_type": "stream",
     "text": [
      "6\n",
      "3\n",
      "4\n"
     ]
    }
   ],
   "source": [
    "\"\"\"\n",
    "2 - Crie uma função que recebe 3 números como parâmetros e exiba a soma entre \n",
    "eles.\n",
    "\"\"\"\n",
    "\n",
    "def soma(n1, n2, n3):\n",
    "    print(n1 + n2 + n3)\n",
    "\n",
    "\n",
    "soma(2, 1, 3)\n",
    "soma(1, 1, 1)\n",
    "soma(2, 1, 1)"
   ]
  },
  {
   "cell_type": "code",
   "execution_count": 3,
   "metadata": {},
   "outputs": [
    {
     "name": "stdout",
     "output_type": "stream",
     "text": [
      "55.0\n",
      "110.0\n",
      "11.0\n",
      "30.0\n"
     ]
    }
   ],
   "source": [
    "\"\"\"\n",
    "3 - Crie uma função que receba 2 números. O primeiro é um valor e o segundo um\n",
    "percentual (ex. 10%). Retorne (return) o valor do primeiro número somado\n",
    "do aumento do percentual do mesmo.\n",
    "\"\"\"\n",
    "\n",
    "def aumento_percentual(valor, percentual):\n",
    "    return valor + (valor * percentual / 100)\n",
    "\n",
    "\n",
    "ap = aumento_percentual(50, 10)\n",
    "print(ap)\n",
    "ap = aumento_percentual(100, 10)\n",
    "print(ap)\n",
    "ap = aumento_percentual(10, 10)\n",
    "print(ap)\n",
    "ap = aumento_percentual(15, 100)\n",
    "print(ap)"
   ]
  },
  {
   "cell_type": "code",
   "execution_count": 6,
   "metadata": {},
   "outputs": [
    {
     "name": "stdout",
     "output_type": "stream",
     "text": [
      "fizz, 24 é divisível por 3\n",
      "fizz, 81 é divisível por 3\n",
      "34\n",
      "fizz, 81 é divisível por 3\n",
      "97\n",
      "79\n",
      "fizz, 51 é divisível por 3\n",
      "fizz, 81 é divisível por 3\n",
      "fizz, 12 é divisível por 3\n",
      "buzz, 55 é divisível por 5\n",
      "59\n",
      "fizz, 81 é divisível por 3\n",
      "fizz, 33 é divisível por 3\n",
      "buzz, 5 é divisível por 5\n",
      "86\n",
      "16\n",
      "14\n",
      "fizzbuzz, 0 é divisível por 3 e 5\n",
      "52\n",
      "77\n",
      "fizzbuzz, 60 é divisível por 3 e 5\n",
      "fizzbuzz, 15 é divisível por 3 e 5\n",
      "34\n",
      "77\n",
      "buzz, 100 é divisível por 5\n",
      "76\n",
      "buzz, 25 é divisível por 5\n",
      "49\n",
      "74\n",
      "fizz, 96 é divisível por 3\n",
      "fizz, 84 é divisível por 3\n",
      "fizzbuzz, 90 é divisível por 3 e 5\n",
      "73\n",
      "7\n",
      "buzz, 20 é divisível por 5\n",
      "14\n",
      "19\n",
      "97\n",
      "fizz, 78 é divisível por 3\n",
      "17\n",
      "fizz, 42 é divisível por 3\n",
      "fizz, 6 é divisível por 3\n",
      "fizz, 87 é divisível por 3\n",
      "fizzbuzz, 60 é divisível por 3 e 5\n",
      "fizz, 33 é divisível por 3\n",
      "86\n",
      "32\n",
      "buzz, 85 é divisível por 5\n",
      "59\n",
      "94\n",
      "79\n",
      "19\n",
      "fizzbuzz, 60 é divisível por 3 e 5\n",
      "8\n",
      "fizz, 87 é divisível por 3\n",
      "58\n",
      "41\n",
      "46\n",
      "77\n",
      "17\n",
      "fizz, 72 é divisível por 3\n",
      "26\n",
      "59\n",
      "34\n",
      "83\n",
      "fizzbuzz, 45 é divisível por 3 e 5\n",
      "buzz, 55 é divisível por 5\n",
      "56\n",
      "8\n",
      "fizz, 12 é divisível por 3\n",
      "buzz, 95 é divisível por 5\n",
      "76\n",
      "fizz, 96 é divisível por 3\n",
      "2\n",
      "77\n",
      "fizzbuzz, 45 é divisível por 3 e 5\n",
      "buzz, 50 é divisível por 5\n",
      "fizz, 93 é divisível por 3\n",
      "fizzbuzz, 90 é divisível por 3 e 5\n",
      "fizz, 87 é divisível por 3\n",
      "buzz, 40 é divisível por 5\n",
      "fizz, 48 é divisível por 3\n",
      "82\n",
      "buzz, 5 é divisível por 5\n",
      "buzz, 85 é divisível por 5\n",
      "98\n",
      "fizzbuzz, 30 é divisível por 3 e 5\n",
      "buzz, 100 é divisível por 5\n",
      "fizz, 66 é divisível por 3\n",
      "92\n",
      "buzz, 65 é divisível por 5\n",
      "67\n",
      "68\n",
      "88\n",
      "fizz, 9 é divisível por 3\n",
      "buzz, 85 é divisível por 5\n",
      "13\n",
      "fizz, 3 é divisível por 3\n",
      "fizz, 6 é divisível por 3\n",
      "fizz, 36 é divisível por 3\n"
     ]
    }
   ],
   "source": [
    "\"\"\"\n",
    "4 - Fizz Buzz - Se o parâmetro da função for divisível por 3, retorne fizz,\n",
    "se o parâmetro da função for divisível por 5, retorne buzz. Se o parâmetro da\n",
    "função for divisível por 5 e por 3, retorne FizzBuzz, caso contrário, retorne o\n",
    "número enviado.\n",
    "\"\"\"\n",
    "\n",
    "\n",
    "def fb(n):\n",
    "    if n % 3 == 0 and n % 5 == 0:\n",
    "        return f'fizzbuzz, {n} é divisível por 3 e 5'\n",
    "    \n",
    "    if n % 5 == 0:\n",
    "        return f'buzz, {n} é divisível por 5'\n",
    "    if n % 3 == 0:\n",
    "        return f'fizz, {n} é divisível por 3'\n",
    "    return n\n",
    "\n",
    "\n",
    "from random import randint\n",
    "\n",
    "for i in range(100):\n",
    "    aleatorio = randint(0, 100)\n",
    "    print(fb(aleatorio))"
   ]
  },
  {
   "cell_type": "code",
   "execution_count": 9,
   "metadata": {},
   "outputs": [
    {
     "name": "stdout",
     "output_type": "stream",
     "text": [
      "Olá mundo!\n"
     ]
    }
   ],
   "source": [
    "\"\"\"\n",
    "1 - Crie uma função1 que recebe uma função2 como parâmetro e retorne o valor da\n",
    "função2 executada.\n",
    "\"\"\"\n",
    "\n",
    "def ola_mundo():\n",
    "    return 'Olá mundo!'\n",
    "\n",
    "\n",
    "def mestre(funcao):\n",
    "    return funcao()\n",
    "\n",
    "master = mestre(ola_mundo)\n",
    "\n",
    "print(master)"
   ]
  },
  {
   "cell_type": "code",
   "execution_count": 8,
   "metadata": {
    "code_folding": []
   },
   "outputs": [
    {
     "name": "stdout",
     "output_type": "stream",
     "text": [
      "Oi Luiz\n",
      "Bom dia! Luiz\n"
     ]
    }
   ],
   "source": [
    "\"\"\"\n",
    "2 - Crie uma função1 que recebe uma função2 como parâmetro e retorne o valor da\n",
    "função2 executada. Faça a função1 executar duas funções que recebam um número \n",
    "diferente de argumentos.\n",
    "\"\"\"\n",
    "\n",
    "def mestre(funcao, *args, **kwargs):\n",
    "    return funcao(*args, **kwargs)\n",
    "\n",
    "\n",
    "def fala_oi(nome):\n",
    "    return f'Oi {nome}'\n",
    "\n",
    "\n",
    "def saudacao(nome, saudacao):\n",
    "    return f'{saudacao} {nome}'\n",
    "\n",
    "\n",
    "executando = mestre(fala_oi, 'Luiz')\n",
    "executando2 = mestre(saudacao, 'Luiz', saudacao='Bom dia!')\n",
    "print(executando)\n",
    "print(executando2)"
   ]
  },
  {
   "cell_type": "code",
   "execution_count": 1,
   "metadata": {},
   "outputs": [
    {
     "name": "stdout",
     "output_type": "stream",
     "text": [
      "\n",
      "Texto explicativo\n",
      "\n",
      "Pergunta 1: Quanto é 2+2? \n",
      "Respostas: \n",
      "[a]: 1\n",
      "[b]: 4\n",
      "[c]: 5\n",
      "Sua resposta: b\n",
      "EHHHHHH!!! Você acertou!!!!\n",
      "\n",
      "Pergunta 2: Quanto é 3x2? \n",
      "Respostas: \n",
      "[a]: 4\n",
      "[b]: 101\n",
      "[c]: 6\n",
      "Sua resposta: c\n",
      "EHHHHHH!!! Você acertou!!!!\n",
      "\n",
      "Você acertou 2 respostas.\n",
      "Sua porcentagem de acerto foi 100.0%.\n"
     ]
    }
   ],
   "source": [
    "print()\n",
    "print('Texto explicativo')\n",
    "\n",
    "perguntas = {\n",
    "    'Pergunta 1': {\n",
    "        'pergunta': 'Quanto é 2+2? ',\n",
    "        'respostas': {\n",
    "            'a': '1',\n",
    "            'b': '4',\n",
    "            'c': '5',\n",
    "        },\n",
    "        'resposta_certa': 'b',\n",
    "    },\n",
    "    'Pergunta 2': {\n",
    "        'pergunta': 'Quanto é 3x2? ',\n",
    "        'respostas': {\n",
    "            'a': '4',\n",
    "            'b': '101',\n",
    "            'c': '6',\n",
    "        },\n",
    "        'resposta_certa': 'c',\n",
    "    },\n",
    "}\n",
    "print()\n",
    "\n",
    "respostas_certas = 0\n",
    "for pergunta, dados_pergunta in perguntas.items():\n",
    "    print(f'{pergunta}: {dados_pergunta[\"pergunta\"]}')\n",
    "\n",
    "    print('Respostas: ')\n",
    "    for resposta, dados_resposta in dados_pergunta['respostas'].items():\n",
    "        print(f'[{resposta}]: {dados_resposta}')\n",
    "\n",
    "    resposta_usuario = input('Sua resposta: ')\n",
    "\n",
    "    if resposta_usuario == dados_pergunta['resposta_certa']:\n",
    "        print('EHHHHHH!!! Você acertou!!!!')\n",
    "        respostas_certas += 1\n",
    "    else:\n",
    "        print('IXXIIIII!!! Você ERROU!!!!')\n",
    "\n",
    "    print()\n",
    "\n",
    "quantidade_perguntas = len(perguntas)\n",
    "porcentagem_acerto = respostas_certas / quantidade_perguntas * 100\n",
    "print(f'Você acertou {respostas_certas} respostas.')\n",
    "print(f'Sua porcentagem de acerto foi {porcentagem_acerto}%.')"
   ]
  },
  {
   "cell_type": "code",
   "execution_count": 2,
   "metadata": {},
   "outputs": [
    {
     "name": "stdout",
     "output_type": "stream",
     "text": [
      "[1, 2, 3, 4, 5, 6, 7, 8, 9, 10] -1\n",
      "[9, 1, 8, 9, 9, 7, 2, 1, 6, 8] 9\n",
      "[1, 3, 2, 2, 8, 6, 5, 9, 6, 7] 2\n",
      "[3, 8, 2, 8, 6, 7, 7, 3, 1, 9] 8\n",
      "[4, 8, 8, 8, 5, 1, 10, 3, 1, 7] 8\n",
      "[1, 3, 7, 2, 2, 1, 5, 1, 9, 9] 2\n",
      "[10, 2, 2, 1, 3, 5, 10, 5, 10, 1] 2\n",
      "[1, 6, 1, 5, 1, 1, 1, 4, 7, 3] 1\n",
      "[1, 3, 7, 1, 10, 5, 9, 2, 5, 7] 1\n",
      "[4, 7, 6, 5, 2, 9, 2, 1, 2, 1] 2\n",
      "[5, 3, 1, 8, 5, 7, 1, 8, 8, 7] 5\n",
      "[10, 9, 8, 7, 6, 5, 4, 3, 2, 1] -1\n"
     ]
    },
    {
     "data": {
      "text/plain": [
       "'\\nOs resultados devem ser:\\n[1, 2, 3, 4, 5, 6, 7, 8, 9, 10] -1\\n[9, 1, 8, 9, 9, 7, 2, 1, 6, 8] 9\\n[1, 3, 2, 2, 8, 6, 5, 9, 6, 7] 2\\n[3, 8, 2, 8, 6, 7, 7, 3, 1, 9] 8\\n[4, 8, 8, 8, 5, 1, 10, 3, 1, 7] 8\\n[1, 3, 7, 2, 2, 1, 5, 1, 9, 9] 2\\n[10, 2, 2, 1, 3, 5, 10, 5, 10, 1] 2\\n[1, 6, 1, 5, 1, 1, 1, 4, 7, 3] 1\\n[1, 3, 7, 1, 10, 5, 9, 2, 5, 7] 1\\n[4, 7, 6, 5, 2, 9, 2, 1, 2, 1] 2\\n[5, 3, 1, 8, 5, 7, 1, 8, 8, 7] 5\\n[10, 9, 8, 7, 6, 5, 4, 3, 2, 1] -1\\n'"
      ]
     },
     "execution_count": 2,
     "metadata": {},
     "output_type": "execute_result"
    }
   ],
   "source": [
    "\"\"\"\n",
    "-> É uma lista de listas de números inteiros\n",
    "-> As listas internas tem o tamanho de 10 elementos\n",
    "-> As listas internas contém números entre 1 a 10 e eles podem ser duplicados\n",
    "Exercício\n",
    "-> Crie uma função que encontra o primeiro duplicado considerando o segundo\n",
    "    número como a duplicação. Retorne a duplicação considerada.\n",
    "        Requisitos:\n",
    "            A ordem do número duplicado é considerada a partir da segunda\n",
    "            ocorrência do número, ou seja, o número duplicado em si.\n",
    "            Exemplo:\n",
    "                [1, 2, 3, ->3<-, 2, 1] -> 1, 2 e 3 são duplicados (retorne 3)\n",
    "                [1, 2, 3, 4, 5, 6] -> Retorne -1 (não tem duplicados)\n",
    "            Se não encontrar duplicados na lista, retorne -1\n",
    "\"\"\"\n",
    "lista_de_listas_de_inteiros = [\n",
    "    [1, 2, 3, 4, 5, 6, 7, 8, 9, 10],\n",
    "    [9, 1, 8, 9, 9, 7, 2, 1, 6, 8],\n",
    "    [1, 3, 2, 2, 8, 6, 5, 9, 6, 7],\n",
    "    [3, 8, 2, 8, 6, 7, 7, 3, 1, 9],\n",
    "    [4, 8, 8, 8, 5, 1, 10, 3, 1, 7],\n",
    "    [1, 3, 7, 2, 2, 1, 5, 1, 9, 9],\n",
    "    [10, 2, 2, 1, 3, 5, 10, 5, 10, 1],\n",
    "    [1, 6, 1, 5, 1, 1, 1, 4, 7, 3],\n",
    "    [1, 3, 7, 1, 10, 5, 9, 2, 5, 7],\n",
    "    [4, 7, 6, 5, 2, 9, 2, 1, 2, 1],\n",
    "    [5, 3, 1, 8, 5, 7, 1, 8, 8, 7],\n",
    "    [10, 9, 8, 7, 6, 5, 4, 3, 2, 1],\n",
    "]\n",
    "\n",
    "\n",
    "def encontra_primeiro_duplicado(param_lista_de_inteiros):\n",
    "    numeros_checados = set()\n",
    "    primeiro_duplicado = -1\n",
    "\n",
    "    for numero in param_lista_de_inteiros:\n",
    "        if numero in numeros_checados:\n",
    "            primeiro_duplicado = numero\n",
    "            break\n",
    "\n",
    "        numeros_checados.add(numero)\n",
    "\n",
    "    return primeiro_duplicado\n",
    "\n",
    "\n",
    "for lista_de_inteiros in lista_de_listas_de_inteiros:\n",
    "    print(lista_de_inteiros, encontra_primeiro_duplicado(lista_de_inteiros))\n",
    "\n",
    "\n",
    "\"\"\"\n",
    "Os resultados devem ser:\n",
    "[1, 2, 3, 4, 5, 6, 7, 8, 9, 10] -1\n",
    "[9, 1, 8, 9, 9, 7, 2, 1, 6, 8] 9\n",
    "[1, 3, 2, 2, 8, 6, 5, 9, 6, 7] 2\n",
    "[3, 8, 2, 8, 6, 7, 7, 3, 1, 9] 8\n",
    "[4, 8, 8, 8, 5, 1, 10, 3, 1, 7] 8\n",
    "[1, 3, 7, 2, 2, 1, 5, 1, 9, 9] 2\n",
    "[10, 2, 2, 1, 3, 5, 10, 5, 10, 1] 2\n",
    "[1, 6, 1, 5, 1, 1, 1, 4, 7, 3] 1\n",
    "[1, 3, 7, 1, 10, 5, 9, 2, 5, 7] 1\n",
    "[4, 7, 6, 5, 2, 9, 2, 1, 2, 1] 2\n",
    "[5, 3, 1, 8, 5, 7, 1, 8, 8, 7] 5\n",
    "[10, 9, 8, 7, 6, 5, 4, 3, 2, 1] -1\n",
    "\"\"\""
   ]
  },
  {
   "cell_type": "code",
   "execution_count": 1,
   "metadata": {},
   "outputs": [
    {
     "data": {
      "text/plain": [
       "{1}"
      ]
     },
     "execution_count": 1,
     "metadata": {},
     "output_type": "execute_result"
    }
   ],
   "source": [
    "dados = set()\n",
    "num = 1\n",
    "dados.add(num)\n",
    "dados"
   ]
  },
  {
   "cell_type": "code",
   "execution_count": 5,
   "metadata": {},
   "outputs": [
    {
     "name": "stdout",
     "output_type": "stream",
     "text": [
      "0123456789.0123456789.0123456789.0123456789.0123456789.0123456789.0123456789.0123456789.0123456789.0123456789.0123456789\n"
     ]
    }
   ],
   "source": [
    "string = '01234567890123456789012345678901234567890123456789012345678901234567890123456789012345678901234567890123456789'\n",
    "tamanho_substring = 10\n",
    "\n",
    "def transformador_string(string, tamanho_substring):\n",
    "    lista = [string[i:i + tamanho_substring] for i in range(0, len(string), tamanho_substring)]\n",
    "    retorno = '.'.join(lista)\n",
    "    return print(retorno)\n",
    "\n",
    "\n",
    "transformador_string(string, tamanho_substring)   "
   ]
  },
  {
   "cell_type": "code",
   "execution_count": 10,
   "metadata": {},
   "outputs": [
    {
     "name": "stdout",
     "output_type": "stream",
     "text": [
      "0\n",
      "1\n",
      "2\n",
      "3\n",
      "4\n",
      "5\n",
      "True\n"
     ]
    }
   ],
   "source": [
    "lista = iter([0, 1, 2, 3, 4, 5])\n",
    "print(next(lista))\n",
    "print(next(lista))\n",
    "print(next(lista))\n",
    "print(next(lista))\n",
    "print(next(lista))\n",
    "print(next(lista))\n",
    "print(hasattr(lista, '__next__'))"
   ]
  },
  {
   "cell_type": "code",
   "execution_count": 17,
   "metadata": {},
   "outputs": [],
   "source": [
    "import sys\n",
    "import time\n",
    "\n",
    "def gera():\n",
    "    for n in range(100):\n",
    "        yield n\n",
    "        time.sleep(0.1)\n",
    "        \n",
    "g = gera()\n",
    "\n",
    "#for v in g:\n",
    "#    print(v)"
   ]
  },
  {
   "cell_type": "code",
   "execution_count": 3,
   "metadata": {},
   "outputs": [
    {
     "data": {
      "text/plain": [
       "100.0"
      ]
     },
     "execution_count": 3,
     "metadata": {},
     "output_type": "execute_result"
    }
   ],
   "source": [
    "carrinho = []\n",
    "carrinho.append(('Produto 1', 30))\n",
    "carrinho.append(('Produto 2', 20))\n",
    "carrinho.append(('Produto 3', 50))\n",
    "\n",
    "total = sum([float(y) for x, y in carrinho])\n",
    "total"
   ]
  },
  {
   "cell_type": "code",
   "execution_count": 12,
   "metadata": {},
   "outputs": [
    {
     "data": {
      "text/plain": [
       "[(0, 'SP', 'Sao Paulo'),\n",
       " (1, 'MG', 'Belo Horizonte'),\n",
       " (2, 'BA', 'Salvador'),\n",
       " (3, 'AL', 'Belo Monte')]"
      ]
     },
     "execution_count": 12,
     "metadata": {},
     "output_type": "execute_result"
    }
   ],
   "source": [
    "from itertools import zip_longest, count\n",
    "\n",
    "indice = count()\n",
    "cidades = ['Sao Paulo', 'Belo Horizonte', 'Salvador', 'Belo Monte']\n",
    "estados = ['SP', 'MG', 'BA', 'AL']\n",
    "\n",
    "cidades_estados = zip(indice, estados, cidades)\n",
    "\n",
    "list(cidades_estados)"
   ]
  },
  {
   "cell_type": "code",
   "execution_count": 16,
   "metadata": {},
   "outputs": [
    {
     "name": "stdout",
     "output_type": "stream",
     "text": [
      "[11, 4, 6, 44]\n",
      "[11]\n",
      "[11, 4]\n",
      "[11, 4, 6]\n",
      "[11, 4, 6, 44]\n",
      "[11]\n",
      "[11, 4]\n",
      "[11, 4, 6]\n",
      "[11, 4, 6, 44]\n"
     ]
    }
   ],
   "source": [
    "\"\"\"\n",
    "Considerando duas listas de inteiros ou floats (lista A e lista B)\n",
    "Some os valores nas listas retornando uma nova lista com os valores somados:\n",
    "Se uma lista for maior que a outra, a soma só vai considerar o tamanho da\n",
    "menor.\n",
    "Exemplo:\n",
    "lista_a     = [1, 2, 3, 4, 5, 6, 7]\n",
    "lista_b     = [1, 2, 3, 4]\n",
    "=================== resultado\n",
    "lista_soma  = [2, 4, 6, 8]\n",
    "\"\"\"\n",
    "lista_a = [10, 2, 3, 40, 5, 6, 7]\n",
    "lista_b = [1, 2, 3, 4]\n",
    "lista_soma = [x + y for x, y in zip(lista_a, lista_b)]\n",
    "print(lista_soma)\n",
    "\n",
    "lista_soma = []\n",
    "for i in range(len(lista_b)):\n",
    "    lista_soma.append(lista_a[i] + lista_b[i])\n",
    "    print(lista_soma)\n",
    "    \n",
    "lista_soma = []\n",
    "for i, _ in enumerate(lista_b):\n",
    "    lista_soma.append(lista_a[i] + lista_b[i])\n",
    "    print(lista_soma)"
   ]
  },
  {
   "cell_type": "code",
   "execution_count": 22,
   "metadata": {},
   "outputs": [
    {
     "name": "stdout",
     "output_type": "stream",
     "text": [
      "-1\n",
      "-2\n",
      "-3\n",
      "-4\n",
      "-5\n",
      "-6\n",
      "-7\n",
      "-8\n",
      "-9\n",
      "-10\n",
      "[(-11, 'Luiz'), (-12, 'Joao'), (-13, 'Maria'), (-14, 'Jose'), (-15, 'Silva'), (-16, 'Eduardo')]\n"
     ]
    }
   ],
   "source": [
    "from itertools import count\n",
    "\n",
    "contador = count(start=-1, step=-1)\n",
    "\n",
    "for valor in contador:\n",
    "    print(round(valor, 2))\n",
    "    \n",
    "    if valor >= 10 or valor <= -10:\n",
    "        break\n",
    "        \n",
    "        \n",
    "lista = ['Luiz', 'Joao', 'Maria', 'Jose', 'Silva', 'Eduardo']\n",
    "lista = zip(contador, lista)\n",
    "print(list(lista))"
   ]
  },
  {
   "cell_type": "code",
   "execution_count": 28,
   "metadata": {
    "collapsed": true
   },
   "outputs": [
    {
     "name": "stdout",
     "output_type": "stream",
     "text": [
      "('Luiz', 'Joao', 'Maria')\n",
      "('Luiz', 'Joao', 'Jose')\n",
      "('Luiz', 'Joao', 'Silva')\n",
      "('Luiz', 'Joao', 'Eduardo')\n",
      "('Luiz', 'Maria', 'Jose')\n",
      "('Luiz', 'Maria', 'Silva')\n",
      "('Luiz', 'Maria', 'Eduardo')\n",
      "('Luiz', 'Jose', 'Silva')\n",
      "('Luiz', 'Jose', 'Eduardo')\n",
      "('Luiz', 'Silva', 'Eduardo')\n",
      "('Joao', 'Maria', 'Jose')\n",
      "('Joao', 'Maria', 'Silva')\n",
      "('Joao', 'Maria', 'Eduardo')\n",
      "('Joao', 'Jose', 'Silva')\n",
      "('Joao', 'Jose', 'Eduardo')\n",
      "('Joao', 'Silva', 'Eduardo')\n",
      "('Maria', 'Jose', 'Silva')\n",
      "('Maria', 'Jose', 'Eduardo')\n",
      "('Maria', 'Silva', 'Eduardo')\n",
      "('Jose', 'Silva', 'Eduardo')\n",
      "##################\n",
      "('Luiz', 'Joao', 'Maria')\n",
      "('Luiz', 'Joao', 'Jose')\n",
      "('Luiz', 'Joao', 'Silva')\n",
      "('Luiz', 'Joao', 'Eduardo')\n",
      "('Luiz', 'Maria', 'Joao')\n",
      "('Luiz', 'Maria', 'Jose')\n",
      "('Luiz', 'Maria', 'Silva')\n",
      "('Luiz', 'Maria', 'Eduardo')\n",
      "('Luiz', 'Jose', 'Joao')\n",
      "('Luiz', 'Jose', 'Maria')\n",
      "('Luiz', 'Jose', 'Silva')\n",
      "('Luiz', 'Jose', 'Eduardo')\n",
      "('Luiz', 'Silva', 'Joao')\n",
      "('Luiz', 'Silva', 'Maria')\n",
      "('Luiz', 'Silva', 'Jose')\n",
      "('Luiz', 'Silva', 'Eduardo')\n",
      "('Luiz', 'Eduardo', 'Joao')\n",
      "('Luiz', 'Eduardo', 'Maria')\n",
      "('Luiz', 'Eduardo', 'Jose')\n",
      "('Luiz', 'Eduardo', 'Silva')\n",
      "('Joao', 'Luiz', 'Maria')\n",
      "('Joao', 'Luiz', 'Jose')\n",
      "('Joao', 'Luiz', 'Silva')\n",
      "('Joao', 'Luiz', 'Eduardo')\n",
      "('Joao', 'Maria', 'Luiz')\n",
      "('Joao', 'Maria', 'Jose')\n",
      "('Joao', 'Maria', 'Silva')\n",
      "('Joao', 'Maria', 'Eduardo')\n",
      "('Joao', 'Jose', 'Luiz')\n",
      "('Joao', 'Jose', 'Maria')\n",
      "('Joao', 'Jose', 'Silva')\n",
      "('Joao', 'Jose', 'Eduardo')\n",
      "('Joao', 'Silva', 'Luiz')\n",
      "('Joao', 'Silva', 'Maria')\n",
      "('Joao', 'Silva', 'Jose')\n",
      "('Joao', 'Silva', 'Eduardo')\n",
      "('Joao', 'Eduardo', 'Luiz')\n",
      "('Joao', 'Eduardo', 'Maria')\n",
      "('Joao', 'Eduardo', 'Jose')\n",
      "('Joao', 'Eduardo', 'Silva')\n",
      "('Maria', 'Luiz', 'Joao')\n",
      "('Maria', 'Luiz', 'Jose')\n",
      "('Maria', 'Luiz', 'Silva')\n",
      "('Maria', 'Luiz', 'Eduardo')\n",
      "('Maria', 'Joao', 'Luiz')\n",
      "('Maria', 'Joao', 'Jose')\n",
      "('Maria', 'Joao', 'Silva')\n",
      "('Maria', 'Joao', 'Eduardo')\n",
      "('Maria', 'Jose', 'Luiz')\n",
      "('Maria', 'Jose', 'Joao')\n",
      "('Maria', 'Jose', 'Silva')\n",
      "('Maria', 'Jose', 'Eduardo')\n",
      "('Maria', 'Silva', 'Luiz')\n",
      "('Maria', 'Silva', 'Joao')\n",
      "('Maria', 'Silva', 'Jose')\n",
      "('Maria', 'Silva', 'Eduardo')\n",
      "('Maria', 'Eduardo', 'Luiz')\n",
      "('Maria', 'Eduardo', 'Joao')\n",
      "('Maria', 'Eduardo', 'Jose')\n",
      "('Maria', 'Eduardo', 'Silva')\n",
      "('Jose', 'Luiz', 'Joao')\n",
      "('Jose', 'Luiz', 'Maria')\n",
      "('Jose', 'Luiz', 'Silva')\n",
      "('Jose', 'Luiz', 'Eduardo')\n",
      "('Jose', 'Joao', 'Luiz')\n",
      "('Jose', 'Joao', 'Maria')\n",
      "('Jose', 'Joao', 'Silva')\n",
      "('Jose', 'Joao', 'Eduardo')\n",
      "('Jose', 'Maria', 'Luiz')\n",
      "('Jose', 'Maria', 'Joao')\n",
      "('Jose', 'Maria', 'Silva')\n",
      "('Jose', 'Maria', 'Eduardo')\n",
      "('Jose', 'Silva', 'Luiz')\n",
      "('Jose', 'Silva', 'Joao')\n",
      "('Jose', 'Silva', 'Maria')\n",
      "('Jose', 'Silva', 'Eduardo')\n",
      "('Jose', 'Eduardo', 'Luiz')\n",
      "('Jose', 'Eduardo', 'Joao')\n",
      "('Jose', 'Eduardo', 'Maria')\n",
      "('Jose', 'Eduardo', 'Silva')\n",
      "('Silva', 'Luiz', 'Joao')\n",
      "('Silva', 'Luiz', 'Maria')\n",
      "('Silva', 'Luiz', 'Jose')\n",
      "('Silva', 'Luiz', 'Eduardo')\n",
      "('Silva', 'Joao', 'Luiz')\n",
      "('Silva', 'Joao', 'Maria')\n",
      "('Silva', 'Joao', 'Jose')\n",
      "('Silva', 'Joao', 'Eduardo')\n",
      "('Silva', 'Maria', 'Luiz')\n",
      "('Silva', 'Maria', 'Joao')\n",
      "('Silva', 'Maria', 'Jose')\n",
      "('Silva', 'Maria', 'Eduardo')\n",
      "('Silva', 'Jose', 'Luiz')\n",
      "('Silva', 'Jose', 'Joao')\n",
      "('Silva', 'Jose', 'Maria')\n",
      "('Silva', 'Jose', 'Eduardo')\n",
      "('Silva', 'Eduardo', 'Luiz')\n",
      "('Silva', 'Eduardo', 'Joao')\n",
      "('Silva', 'Eduardo', 'Maria')\n",
      "('Silva', 'Eduardo', 'Jose')\n",
      "('Eduardo', 'Luiz', 'Joao')\n",
      "('Eduardo', 'Luiz', 'Maria')\n",
      "('Eduardo', 'Luiz', 'Jose')\n",
      "('Eduardo', 'Luiz', 'Silva')\n",
      "('Eduardo', 'Joao', 'Luiz')\n",
      "('Eduardo', 'Joao', 'Maria')\n",
      "('Eduardo', 'Joao', 'Jose')\n",
      "('Eduardo', 'Joao', 'Silva')\n",
      "('Eduardo', 'Maria', 'Luiz')\n",
      "('Eduardo', 'Maria', 'Joao')\n",
      "('Eduardo', 'Maria', 'Jose')\n",
      "('Eduardo', 'Maria', 'Silva')\n",
      "('Eduardo', 'Jose', 'Luiz')\n",
      "('Eduardo', 'Jose', 'Joao')\n",
      "('Eduardo', 'Jose', 'Maria')\n",
      "('Eduardo', 'Jose', 'Silva')\n",
      "('Eduardo', 'Silva', 'Luiz')\n",
      "('Eduardo', 'Silva', 'Joao')\n",
      "('Eduardo', 'Silva', 'Maria')\n",
      "('Eduardo', 'Silva', 'Jose')\n",
      "##################\n",
      "('Luiz', 'Luiz', 'Luiz')\n",
      "('Luiz', 'Luiz', 'Joao')\n",
      "('Luiz', 'Luiz', 'Maria')\n",
      "('Luiz', 'Luiz', 'Jose')\n",
      "('Luiz', 'Luiz', 'Silva')\n",
      "('Luiz', 'Luiz', 'Eduardo')\n",
      "('Luiz', 'Joao', 'Luiz')\n",
      "('Luiz', 'Joao', 'Joao')\n",
      "('Luiz', 'Joao', 'Maria')\n",
      "('Luiz', 'Joao', 'Jose')\n",
      "('Luiz', 'Joao', 'Silva')\n",
      "('Luiz', 'Joao', 'Eduardo')\n",
      "('Luiz', 'Maria', 'Luiz')\n",
      "('Luiz', 'Maria', 'Joao')\n",
      "('Luiz', 'Maria', 'Maria')\n",
      "('Luiz', 'Maria', 'Jose')\n",
      "('Luiz', 'Maria', 'Silva')\n",
      "('Luiz', 'Maria', 'Eduardo')\n",
      "('Luiz', 'Jose', 'Luiz')\n",
      "('Luiz', 'Jose', 'Joao')\n",
      "('Luiz', 'Jose', 'Maria')\n",
      "('Luiz', 'Jose', 'Jose')\n",
      "('Luiz', 'Jose', 'Silva')\n",
      "('Luiz', 'Jose', 'Eduardo')\n",
      "('Luiz', 'Silva', 'Luiz')\n",
      "('Luiz', 'Silva', 'Joao')\n",
      "('Luiz', 'Silva', 'Maria')\n",
      "('Luiz', 'Silva', 'Jose')\n",
      "('Luiz', 'Silva', 'Silva')\n",
      "('Luiz', 'Silva', 'Eduardo')\n",
      "('Luiz', 'Eduardo', 'Luiz')\n",
      "('Luiz', 'Eduardo', 'Joao')\n",
      "('Luiz', 'Eduardo', 'Maria')\n",
      "('Luiz', 'Eduardo', 'Jose')\n",
      "('Luiz', 'Eduardo', 'Silva')\n",
      "('Luiz', 'Eduardo', 'Eduardo')\n",
      "('Joao', 'Luiz', 'Luiz')\n",
      "('Joao', 'Luiz', 'Joao')\n",
      "('Joao', 'Luiz', 'Maria')\n",
      "('Joao', 'Luiz', 'Jose')\n",
      "('Joao', 'Luiz', 'Silva')\n",
      "('Joao', 'Luiz', 'Eduardo')\n",
      "('Joao', 'Joao', 'Luiz')\n",
      "('Joao', 'Joao', 'Joao')\n",
      "('Joao', 'Joao', 'Maria')\n",
      "('Joao', 'Joao', 'Jose')\n",
      "('Joao', 'Joao', 'Silva')\n",
      "('Joao', 'Joao', 'Eduardo')\n",
      "('Joao', 'Maria', 'Luiz')\n",
      "('Joao', 'Maria', 'Joao')\n",
      "('Joao', 'Maria', 'Maria')\n",
      "('Joao', 'Maria', 'Jose')\n",
      "('Joao', 'Maria', 'Silva')\n",
      "('Joao', 'Maria', 'Eduardo')\n",
      "('Joao', 'Jose', 'Luiz')\n",
      "('Joao', 'Jose', 'Joao')\n",
      "('Joao', 'Jose', 'Maria')\n",
      "('Joao', 'Jose', 'Jose')\n",
      "('Joao', 'Jose', 'Silva')\n",
      "('Joao', 'Jose', 'Eduardo')\n",
      "('Joao', 'Silva', 'Luiz')\n",
      "('Joao', 'Silva', 'Joao')\n",
      "('Joao', 'Silva', 'Maria')\n",
      "('Joao', 'Silva', 'Jose')\n",
      "('Joao', 'Silva', 'Silva')\n",
      "('Joao', 'Silva', 'Eduardo')\n",
      "('Joao', 'Eduardo', 'Luiz')\n",
      "('Joao', 'Eduardo', 'Joao')\n",
      "('Joao', 'Eduardo', 'Maria')\n",
      "('Joao', 'Eduardo', 'Jose')\n",
      "('Joao', 'Eduardo', 'Silva')\n",
      "('Joao', 'Eduardo', 'Eduardo')\n",
      "('Maria', 'Luiz', 'Luiz')\n",
      "('Maria', 'Luiz', 'Joao')\n",
      "('Maria', 'Luiz', 'Maria')\n",
      "('Maria', 'Luiz', 'Jose')\n",
      "('Maria', 'Luiz', 'Silva')\n",
      "('Maria', 'Luiz', 'Eduardo')\n",
      "('Maria', 'Joao', 'Luiz')\n",
      "('Maria', 'Joao', 'Joao')\n",
      "('Maria', 'Joao', 'Maria')\n",
      "('Maria', 'Joao', 'Jose')\n",
      "('Maria', 'Joao', 'Silva')\n",
      "('Maria', 'Joao', 'Eduardo')\n",
      "('Maria', 'Maria', 'Luiz')\n",
      "('Maria', 'Maria', 'Joao')\n",
      "('Maria', 'Maria', 'Maria')\n",
      "('Maria', 'Maria', 'Jose')\n",
      "('Maria', 'Maria', 'Silva')\n",
      "('Maria', 'Maria', 'Eduardo')\n",
      "('Maria', 'Jose', 'Luiz')\n",
      "('Maria', 'Jose', 'Joao')\n",
      "('Maria', 'Jose', 'Maria')\n",
      "('Maria', 'Jose', 'Jose')\n",
      "('Maria', 'Jose', 'Silva')\n",
      "('Maria', 'Jose', 'Eduardo')\n",
      "('Maria', 'Silva', 'Luiz')\n",
      "('Maria', 'Silva', 'Joao')\n",
      "('Maria', 'Silva', 'Maria')\n",
      "('Maria', 'Silva', 'Jose')\n",
      "('Maria', 'Silva', 'Silva')\n",
      "('Maria', 'Silva', 'Eduardo')\n",
      "('Maria', 'Eduardo', 'Luiz')\n",
      "('Maria', 'Eduardo', 'Joao')\n",
      "('Maria', 'Eduardo', 'Maria')\n",
      "('Maria', 'Eduardo', 'Jose')\n",
      "('Maria', 'Eduardo', 'Silva')\n",
      "('Maria', 'Eduardo', 'Eduardo')\n",
      "('Jose', 'Luiz', 'Luiz')\n",
      "('Jose', 'Luiz', 'Joao')\n",
      "('Jose', 'Luiz', 'Maria')\n",
      "('Jose', 'Luiz', 'Jose')\n",
      "('Jose', 'Luiz', 'Silva')\n",
      "('Jose', 'Luiz', 'Eduardo')\n",
      "('Jose', 'Joao', 'Luiz')\n",
      "('Jose', 'Joao', 'Joao')\n",
      "('Jose', 'Joao', 'Maria')\n",
      "('Jose', 'Joao', 'Jose')\n",
      "('Jose', 'Joao', 'Silva')\n",
      "('Jose', 'Joao', 'Eduardo')\n",
      "('Jose', 'Maria', 'Luiz')\n",
      "('Jose', 'Maria', 'Joao')\n",
      "('Jose', 'Maria', 'Maria')\n",
      "('Jose', 'Maria', 'Jose')\n",
      "('Jose', 'Maria', 'Silva')\n",
      "('Jose', 'Maria', 'Eduardo')\n",
      "('Jose', 'Jose', 'Luiz')\n",
      "('Jose', 'Jose', 'Joao')\n",
      "('Jose', 'Jose', 'Maria')\n",
      "('Jose', 'Jose', 'Jose')\n",
      "('Jose', 'Jose', 'Silva')\n",
      "('Jose', 'Jose', 'Eduardo')\n",
      "('Jose', 'Silva', 'Luiz')\n",
      "('Jose', 'Silva', 'Joao')\n",
      "('Jose', 'Silva', 'Maria')\n",
      "('Jose', 'Silva', 'Jose')\n",
      "('Jose', 'Silva', 'Silva')\n",
      "('Jose', 'Silva', 'Eduardo')\n",
      "('Jose', 'Eduardo', 'Luiz')\n",
      "('Jose', 'Eduardo', 'Joao')\n",
      "('Jose', 'Eduardo', 'Maria')\n",
      "('Jose', 'Eduardo', 'Jose')\n",
      "('Jose', 'Eduardo', 'Silva')\n",
      "('Jose', 'Eduardo', 'Eduardo')\n",
      "('Silva', 'Luiz', 'Luiz')\n",
      "('Silva', 'Luiz', 'Joao')\n",
      "('Silva', 'Luiz', 'Maria')\n",
      "('Silva', 'Luiz', 'Jose')\n",
      "('Silva', 'Luiz', 'Silva')\n",
      "('Silva', 'Luiz', 'Eduardo')\n",
      "('Silva', 'Joao', 'Luiz')\n",
      "('Silva', 'Joao', 'Joao')\n",
      "('Silva', 'Joao', 'Maria')\n",
      "('Silva', 'Joao', 'Jose')\n",
      "('Silva', 'Joao', 'Silva')\n",
      "('Silva', 'Joao', 'Eduardo')\n",
      "('Silva', 'Maria', 'Luiz')\n",
      "('Silva', 'Maria', 'Joao')\n",
      "('Silva', 'Maria', 'Maria')\n",
      "('Silva', 'Maria', 'Jose')\n",
      "('Silva', 'Maria', 'Silva')\n",
      "('Silva', 'Maria', 'Eduardo')\n",
      "('Silva', 'Jose', 'Luiz')\n",
      "('Silva', 'Jose', 'Joao')\n",
      "('Silva', 'Jose', 'Maria')\n",
      "('Silva', 'Jose', 'Jose')\n",
      "('Silva', 'Jose', 'Silva')\n",
      "('Silva', 'Jose', 'Eduardo')\n",
      "('Silva', 'Silva', 'Luiz')\n",
      "('Silva', 'Silva', 'Joao')\n",
      "('Silva', 'Silva', 'Maria')\n",
      "('Silva', 'Silva', 'Jose')\n",
      "('Silva', 'Silva', 'Silva')\n",
      "('Silva', 'Silva', 'Eduardo')\n",
      "('Silva', 'Eduardo', 'Luiz')\n",
      "('Silva', 'Eduardo', 'Joao')\n",
      "('Silva', 'Eduardo', 'Maria')\n",
      "('Silva', 'Eduardo', 'Jose')\n",
      "('Silva', 'Eduardo', 'Silva')\n",
      "('Silva', 'Eduardo', 'Eduardo')\n",
      "('Eduardo', 'Luiz', 'Luiz')\n",
      "('Eduardo', 'Luiz', 'Joao')\n",
      "('Eduardo', 'Luiz', 'Maria')\n",
      "('Eduardo', 'Luiz', 'Jose')\n",
      "('Eduardo', 'Luiz', 'Silva')\n",
      "('Eduardo', 'Luiz', 'Eduardo')\n",
      "('Eduardo', 'Joao', 'Luiz')\n",
      "('Eduardo', 'Joao', 'Joao')\n",
      "('Eduardo', 'Joao', 'Maria')\n",
      "('Eduardo', 'Joao', 'Jose')\n",
      "('Eduardo', 'Joao', 'Silva')\n",
      "('Eduardo', 'Joao', 'Eduardo')\n",
      "('Eduardo', 'Maria', 'Luiz')\n",
      "('Eduardo', 'Maria', 'Joao')\n",
      "('Eduardo', 'Maria', 'Maria')\n",
      "('Eduardo', 'Maria', 'Jose')\n",
      "('Eduardo', 'Maria', 'Silva')\n",
      "('Eduardo', 'Maria', 'Eduardo')\n",
      "('Eduardo', 'Jose', 'Luiz')\n",
      "('Eduardo', 'Jose', 'Joao')\n",
      "('Eduardo', 'Jose', 'Maria')\n",
      "('Eduardo', 'Jose', 'Jose')\n",
      "('Eduardo', 'Jose', 'Silva')\n",
      "('Eduardo', 'Jose', 'Eduardo')\n",
      "('Eduardo', 'Silva', 'Luiz')\n",
      "('Eduardo', 'Silva', 'Joao')\n",
      "('Eduardo', 'Silva', 'Maria')\n",
      "('Eduardo', 'Silva', 'Jose')\n",
      "('Eduardo', 'Silva', 'Silva')\n",
      "('Eduardo', 'Silva', 'Eduardo')\n",
      "('Eduardo', 'Eduardo', 'Luiz')\n",
      "('Eduardo', 'Eduardo', 'Joao')\n",
      "('Eduardo', 'Eduardo', 'Maria')\n",
      "('Eduardo', 'Eduardo', 'Jose')\n",
      "('Eduardo', 'Eduardo', 'Silva')\n",
      "('Eduardo', 'Eduardo', 'Eduardo')\n"
     ]
    }
   ],
   "source": [
    "from itertools import combinations, permutations, product\n",
    "\n",
    "pessoas = ['Luiz', 'Joao', 'Maria', 'Jose', 'Silva', 'Eduardo']\n",
    "\n",
    "for grupo in combinations(pessoas, 3):\n",
    "    print(grupo)\n",
    "\n",
    "print('##################')\n",
    "\n",
    "for grupo in permutations(pessoas, 3):\n",
    "    print(grupo)\n",
    "    \n",
    "print('##################')\n",
    "\n",
    "for grupo in product(pessoas, repeat=3):\n",
    "    print(grupo)"
   ]
  },
  {
   "cell_type": "code",
   "execution_count": 38,
   "metadata": {},
   "outputs": [
    {
     "name": "stdout",
     "output_type": "stream",
     "text": [
      "Agrupamento: A\n",
      "\t{'nome': 'Luiz', 'nota': 'A'}\n",
      "\t{'nome': 'Fabrício', 'nota': 'A'}\n",
      "\t{'nome': 'João', 'nota': 'A'}\n",
      "\t3 alunos tiraram nota A\n",
      "Agrupamento: B\n",
      "\t{'nome': 'Letícia', 'nota': 'B'}\n",
      "\t{'nome': 'Eduardo', 'nota': 'B'}\n",
      "\t{'nome': 'Anderson', 'nota': 'B'}\n",
      "\t3 alunos tiraram nota B\n",
      "Agrupamento: C\n",
      "\t{'nome': 'Rosemary', 'nota': 'C'}\n",
      "\t{'nome': 'André', 'nota': 'C'}\n",
      "\t2 alunos tiraram nota C\n",
      "Agrupamento: D\n",
      "\t{'nome': 'Joana', 'nota': 'D'}\n",
      "\t1 alunos tiraram nota D\n"
     ]
    }
   ],
   "source": [
    "from itertools import groupby, tee\n",
    "\n",
    "alunos = [\n",
    "    {'nome': 'Luiz', 'nota': 'A'},\n",
    "    {'nome': 'Letícia', 'nota': 'B'},\n",
    "    {'nome': 'Fabrício', 'nota': 'A'},\n",
    "    {'nome': 'Rosemary', 'nota': 'C'},\n",
    "    {'nome': 'Joana', 'nota': 'D'},\n",
    "    {'nome': 'João', 'nota': 'A'},\n",
    "    {'nome': 'Eduardo', 'nota': 'B'},\n",
    "    {'nome': 'André', 'nota': 'C'},\n",
    "    {'nome': 'Anderson', 'nota': 'B'},\n",
    "]\n",
    "\n",
    "\n",
    "def ordena(item):\n",
    "    return item['nota']\n",
    "\n",
    "\n",
    "alunos.sort(key=ordena)\n",
    "alunos_agrupados = groupby(alunos, ordena)\n",
    "\n",
    "'''\n",
    "# Sem tee (com list)\n",
    "for agrupamento, valores_agrupados in alunos_agrupados:\n",
    "    valores = list(valores_agrupados)\n",
    "    print(f'Agrupamento: {agrupamento}')\n",
    "    for aluno in valores:\n",
    "        print(f'\\t{aluno}')\n",
    "    quantidade = len(valores)\n",
    "    print(f'\\t{quantidade} alunos tiraram nota {agrupamento}')\n",
    "'''\n",
    "\n",
    "# Com tee\n",
    "for agrupamento, valores_agrupados in alunos_agrupados:\n",
    "    v1, v2 = tee(valores_agrupados)\n",
    "    \n",
    "    print(f'Agrupamento: {agrupamento}')\n",
    "    \n",
    "    for aluno in v1:\n",
    "        print(f'\\t{aluno}')\n",
    "\n",
    "    quantidade = len(list(v2))\n",
    "    print(f'\\t{quantidade} alunos tiraram nota {agrupamento}')"
   ]
  },
  {
   "cell_type": "code",
   "execution_count": 4,
   "metadata": {},
   "outputs": [],
   "source": [
    "from functools import reduce\n",
    "\n",
    "produtos =[\n",
    "    {'nome': 'p1', 'preco': 13},\n",
    "    {'nome': 'p2', 'preco': 55.55},\n",
    "    {'nome': 'p3', 'preco': 5.59},\n",
    "    {'nome': 'p4', 'preco': 22},\n",
    "    {'nome': 'p5', 'preco': 81.23},\n",
    "    {'nome': 'p6', 'preco': 5.7},\n",
    "    {'nome': 'p7', 'preco': 10.90},\n",
    "    {'nome': 'p8', 'preco': 89.82},\n",
    "    {'nome': 'p9', 'preco': 12},\n",
    "    {'nome': 'p10', 'preco': 2.90}\n",
    "]\n",
    "\n",
    "pessoas = [\n",
    "    {'nome': 'Luiz', 'idade': 12},\n",
    "    {'nome': 'Eduarda', 'idade': 43},\n",
    "    {'nome': 'Joana', 'idade': 65},\n",
    "    {'nome': 'Lucas', 'idade': 14},\n",
    "    {'nome': 'Felipe', 'idade': 17},\n",
    "    {'nome': 'Maria', 'idade': 19},\n",
    "    {'nome': 'Júlia', 'idade': 25},\n",
    "    {'nome': 'Diniz', 'idade': 32},\n",
    "    {'nome': 'Max', 'idade': 23},\n",
    "    {'nome': 'Eduarda', 'idade': 59},\n",
    "]\n",
    "\n",
    "lista =[1, 2, 3, 4, 5, 6, 7, 8, 9, 10]"
   ]
  },
  {
   "cell_type": "code",
   "execution_count": 6,
   "metadata": {},
   "outputs": [
    {
     "data": {
      "text/plain": [
       "[2, 4, 6, 8, 10, 12, 14, 16, 18, 20]"
      ]
     },
     "execution_count": 6,
     "metadata": {},
     "output_type": "execute_result"
    }
   ],
   "source": [
    "nova_lista = map(lambda x: x * 2, lista)\n",
    "list(nova_lista)"
   ]
  },
  {
   "cell_type": "code",
   "execution_count": 8,
   "metadata": {},
   "outputs": [
    {
     "data": {
      "text/plain": [
       "[2, 4, 6, 8, 10, 12, 14, 16, 18, 20]"
      ]
     },
     "execution_count": 8,
     "metadata": {},
     "output_type": "execute_result"
    }
   ],
   "source": [
    "nova_lista = [x * 2 for x in lista]\n",
    "list(nova_lista)"
   ]
  },
  {
   "cell_type": "code",
   "execution_count": 9,
   "metadata": {},
   "outputs": [
    {
     "name": "stdout",
     "output_type": "stream",
     "text": [
      "{'nome': 'p1', 'preco': 13}\n",
      "{'nome': 'p2', 'preco': 55.55}\n",
      "{'nome': 'p3', 'preco': 5.59}\n",
      "{'nome': 'p4', 'preco': 22}\n",
      "{'nome': 'p5', 'preco': 81.23}\n",
      "{'nome': 'p6', 'preco': 5.7}\n",
      "{'nome': 'p7', 'preco': 10.9}\n",
      "{'nome': 'p8', 'preco': 89.82}\n",
      "{'nome': 'p9', 'preco': 12}\n",
      "{'nome': 'p10', 'preco': 2.9}\n"
     ]
    }
   ],
   "source": [
    "for produto in produtos:\n",
    "    print(produto)"
   ]
  },
  {
   "cell_type": "code",
   "execution_count": 14,
   "metadata": {},
   "outputs": [
    {
     "data": {
      "text/plain": [
       "[13, 55.55, 5.59, 22, 81.23, 5.7, 10.9, 89.82, 12, 2.9]"
      ]
     },
     "execution_count": 14,
     "metadata": {},
     "output_type": "execute_result"
    }
   ],
   "source": [
    "precos = map(lambda p: p['preco'], produtos)\n",
    "list(precos)"
   ]
  },
  {
   "cell_type": "code",
   "execution_count": 15,
   "metadata": {},
   "outputs": [],
   "source": [
    "def aumenta_preco(p):\n",
    "    p['preco'] = round(p['preco'] * 1.05, 2)\n",
    "    return p"
   ]
  },
  {
   "cell_type": "code",
   "execution_count": 16,
   "metadata": {},
   "outputs": [
    {
     "name": "stdout",
     "output_type": "stream",
     "text": [
      "{'nome': 'p1', 'preco': 13.65}\n",
      "{'nome': 'p2', 'preco': 58.33}\n",
      "{'nome': 'p3', 'preco': 5.87}\n",
      "{'nome': 'p4', 'preco': 23.1}\n",
      "{'nome': 'p5', 'preco': 85.29}\n",
      "{'nome': 'p6', 'preco': 5.99}\n",
      "{'nome': 'p7', 'preco': 11.45}\n",
      "{'nome': 'p8', 'preco': 94.31}\n",
      "{'nome': 'p9', 'preco': 12.6}\n",
      "{'nome': 'p10', 'preco': 3.04}\n"
     ]
    }
   ],
   "source": [
    "novos_produtos = map(aumenta_preco, produtos)\n",
    "\n",
    "for produto in novos_produtos:\n",
    "    print(produto)"
   ]
  },
  {
   "cell_type": "code",
   "execution_count": 19,
   "metadata": {},
   "outputs": [
    {
     "data": {
      "text/plain": [
       "[6, 7, 8, 9, 10]"
      ]
     },
     "execution_count": 19,
     "metadata": {},
     "output_type": "execute_result"
    }
   ],
   "source": [
    "nova_lista = filter(lambda x: x > 5, lista)\n",
    "list(nova_lista)"
   ]
  },
  {
   "cell_type": "code",
   "execution_count": 20,
   "metadata": {},
   "outputs": [
    {
     "data": {
      "text/plain": [
       "[6, 7, 8, 9, 10]"
      ]
     },
     "execution_count": 20,
     "metadata": {},
     "output_type": "execute_result"
    }
   ],
   "source": [
    "nova_lista = [x for x in lista if x > 5]\n",
    "nova_lista"
   ]
  },
  {
   "cell_type": "code",
   "execution_count": 21,
   "metadata": {},
   "outputs": [],
   "source": [
    "def filtra(produto):\n",
    "    if produto['preco'] > 50:\n",
    "        return True"
   ]
  },
  {
   "cell_type": "code",
   "execution_count": 22,
   "metadata": {},
   "outputs": [
    {
     "name": "stdout",
     "output_type": "stream",
     "text": [
      "{'nome': 'p2', 'preco': 58.33}\n",
      "{'nome': 'p5', 'preco': 85.29}\n",
      "{'nome': 'p8', 'preco': 94.31}\n"
     ]
    }
   ],
   "source": [
    "nova_lista = filter(filtra, produtos)\n",
    "for produto in nova_lista:\n",
    "    print(produto)"
   ]
  },
  {
   "cell_type": "code",
   "execution_count": 23,
   "metadata": {},
   "outputs": [
    {
     "name": "stdout",
     "output_type": "stream",
     "text": [
      "55\n"
     ]
    }
   ],
   "source": [
    "acumula = 0\n",
    "for item in lista:\n",
    "    acumula += item\n",
    "    \n",
    "print(acumula)"
   ]
  },
  {
   "cell_type": "code",
   "execution_count": 25,
   "metadata": {},
   "outputs": [
    {
     "data": {
      "text/plain": [
       "55"
      ]
     },
     "execution_count": 25,
     "metadata": {},
     "output_type": "execute_result"
    }
   ],
   "source": [
    "soma_lista = reduce(lambda ac, i: i + ac, lista, 0)\n",
    "soma_lista"
   ]
  },
  {
   "cell_type": "code",
   "execution_count": 28,
   "metadata": {},
   "outputs": [
    {
     "data": {
      "text/plain": [
       "313.63"
      ]
     },
     "execution_count": 28,
     "metadata": {},
     "output_type": "execute_result"
    }
   ],
   "source": [
    "soma_precos = round(reduce(lambda ac, p: p['preco'] + ac, produtos, 0), 2)\n",
    "soma_precos"
   ]
  },
  {
   "cell_type": "code",
   "execution_count": 30,
   "metadata": {},
   "outputs": [
    {
     "name": "stdout",
     "output_type": "stream",
     "text": [
      "Erro:  name 'abcd' is not defined\n"
     ]
    }
   ],
   "source": [
    "try:\n",
    "    print(abcd)\n",
    "except NameError as erro:\n",
    "    print('Erro: ', erro)\n",
    "    pass"
   ]
  },
  {
   "cell_type": "code",
   "execution_count": 38,
   "metadata": {},
   "outputs": [
    {
     "name": "stdout",
     "output_type": "stream",
     "text": [
      "Erro inesperado!!\n",
      "Finalmente, essa é sempre executa! Fechando!!\n"
     ]
    }
   ],
   "source": [
    "try:\n",
    "    abcd = {}\n",
    "    print(abcd[1])\n",
    "except NameError as erro:\n",
    "    print('Erro: ', erro)\n",
    "except IndexError as erro:\n",
    "    print('Erro de índice.')\n",
    "except Exception:\n",
    "    print('Erro inesperado!!')\n",
    "else:\n",
    "    print('Executado com sucesso!')\n",
    "finally:\n",
    "    abcd = None\n",
    "    print('Finalmente, essa é sempre executa! Fechando!!')"
   ]
  },
  {
   "cell_type": "code",
   "execution_count": 53,
   "metadata": {},
   "outputs": [],
   "source": [
    "def divide(n1, n2):\n",
    "    try:\n",
    "        return n1 / n2\n",
    "    except ZeroDivisionError as error:\n",
    "        print(error)\n",
    "        return float('inf')\n",
    "        raise"
   ]
  },
  {
   "cell_type": "code",
   "execution_count": null,
   "metadata": {},
   "outputs": [],
   "source": [
    "def divide(n1, n2):\n",
    "    if n2 == 0:\n",
    "        raise ValueError('n2 não pode ser 0')\n",
    "    return n1 / n2"
   ]
  },
  {
   "cell_type": "code",
   "execution_count": 55,
   "metadata": {},
   "outputs": [
    {
     "name": "stdout",
     "output_type": "stream",
     "text": [
      "n2 não pode ser 0\n"
     ]
    }
   ],
   "source": [
    "try:\n",
    "    divide(2, 0)\n",
    "except ValueError as error:\n",
    "    print(error)"
   ]
  },
  {
   "cell_type": "code",
   "execution_count": 56,
   "metadata": {},
   "outputs": [
    {
     "ename": "ValueError",
     "evalue": "n2 não pode ser 0",
     "output_type": "error",
     "traceback": [
      "\u001b[1;31m---------------------------------------------------------------------------\u001b[0m",
      "\u001b[1;31mValueError\u001b[0m                                Traceback (most recent call last)",
      "\u001b[1;32m~\\AppData\\Local\\Temp/ipykernel_9524/1029623480.py\u001b[0m in \u001b[0;36m<module>\u001b[1;34m\u001b[0m\n\u001b[1;32m----> 1\u001b[1;33m \u001b[0mdivide\u001b[0m\u001b[1;33m(\u001b[0m\u001b[1;36m2\u001b[0m\u001b[1;33m,\u001b[0m \u001b[1;36m0\u001b[0m\u001b[1;33m)\u001b[0m\u001b[1;33m\u001b[0m\u001b[1;33m\u001b[0m\u001b[0m\n\u001b[0m",
      "\u001b[1;32m~\\AppData\\Local\\Temp/ipykernel_9524/396272125.py\u001b[0m in \u001b[0;36mdivide\u001b[1;34m(n1, n2)\u001b[0m\n\u001b[0;32m      1\u001b[0m \u001b[1;32mdef\u001b[0m \u001b[0mdivide\u001b[0m\u001b[1;33m(\u001b[0m\u001b[0mn1\u001b[0m\u001b[1;33m,\u001b[0m \u001b[0mn2\u001b[0m\u001b[1;33m)\u001b[0m\u001b[1;33m:\u001b[0m\u001b[1;33m\u001b[0m\u001b[1;33m\u001b[0m\u001b[0m\n\u001b[0;32m      2\u001b[0m     \u001b[1;32mif\u001b[0m \u001b[0mn2\u001b[0m \u001b[1;33m==\u001b[0m \u001b[1;36m0\u001b[0m\u001b[1;33m:\u001b[0m\u001b[1;33m\u001b[0m\u001b[1;33m\u001b[0m\u001b[0m\n\u001b[1;32m----> 3\u001b[1;33m         \u001b[1;32mraise\u001b[0m \u001b[0mValueError\u001b[0m\u001b[1;33m(\u001b[0m\u001b[1;34m'n2 não pode ser 0'\u001b[0m\u001b[1;33m)\u001b[0m\u001b[1;33m\u001b[0m\u001b[1;33m\u001b[0m\u001b[0m\n\u001b[0m\u001b[0;32m      4\u001b[0m     \u001b[1;32mreturn\u001b[0m \u001b[0mn1\u001b[0m \u001b[1;33m/\u001b[0m \u001b[0mn2\u001b[0m\u001b[1;33m\u001b[0m\u001b[1;33m\u001b[0m\u001b[0m\n",
      "\u001b[1;31mValueError\u001b[0m: n2 não pode ser 0"
     ]
    }
   ],
   "source": [
    "divide(2, 0)"
   ]
  },
  {
   "cell_type": "code",
   "execution_count": 57,
   "metadata": {},
   "outputs": [
    {
     "name": "stdout",
     "output_type": "stream",
     "text": [
      "Digite um numero: 5\n",
      "55555\n"
     ]
    }
   ],
   "source": [
    "numero = input('Digite um numero: ')\n",
    "print(numero * 5)"
   ]
  },
  {
   "cell_type": "code",
   "execution_count": 58,
   "metadata": {},
   "outputs": [
    {
     "name": "stdout",
     "output_type": "stream",
     "text": [
      "Digite um numero: 2.5\n",
      "12.5\n"
     ]
    }
   ],
   "source": [
    "numero = float(input('Digite um numero: '))\n",
    "print(numero * 5)"
   ]
  },
  {
   "cell_type": "code",
   "execution_count": 59,
   "metadata": {},
   "outputs": [],
   "source": [
    "def converte_numero(valor):\n",
    "    try:\n",
    "        valor = int(valor)\n",
    "        return valor\n",
    "    except ValueError:\n",
    "        try:\n",
    "            valor = float(valor)\n",
    "            return valor\n",
    "        except ValueError:\n",
    "            pass"
   ]
  },
  {
   "cell_type": "code",
   "execution_count": 63,
   "metadata": {},
   "outputs": [
    {
     "name": "stdout",
     "output_type": "stream",
     "text": [
      "Digite um numero: 2.5\n",
      "12.5\n"
     ]
    }
   ],
   "source": [
    "numero = converte_numero(input('Digite um numero: '))\n",
    "if numero is not None:\n",
    "    print(numero * 5)"
   ]
  },
  {
   "cell_type": "code",
   "execution_count": 64,
   "metadata": {},
   "outputs": [
    {
     "name": "stdout",
     "output_type": "stream",
     "text": [
      "win32\n"
     ]
    }
   ],
   "source": [
    "import sys\n",
    "\n",
    "print(sys.platform)"
   ]
  },
  {
   "cell_type": "code",
   "execution_count": 1,
   "metadata": {},
   "outputs": [],
   "source": [
    "file = open('abc.txt', 'w+')"
   ]
  },
  {
   "cell_type": "code",
   "execution_count": 8,
   "metadata": {},
   "outputs": [
    {
     "name": "stdout",
     "output_type": "stream",
     "text": [
      "Linha 1\n",
      "Linha 2\n",
      "Linha 3\n",
      "\n",
      "Linha 1\n",
      "Linha 2\n",
      "Linha 3\n",
      "\n",
      "Linha 1\n",
      "Linha 2\n",
      "Linha 3\n",
      "\n",
      "Linha 1\n",
      "Linha 2\n",
      "Linha 3\n"
     ]
    }
   ],
   "source": [
    "file = open('abc.txt', 'w+')\n",
    "\n",
    "file.write('Linha 1\\n')\n",
    "file.write('Linha 2\\n')\n",
    "file.write('Linha 3\\n')\n",
    "\n",
    "file.seek(0, 0)\n",
    "print(file.read())\n",
    "\n",
    "file.seek(0, 0)\n",
    "print(file.readline(), end='')\n",
    "print(file.readline(), end='')\n",
    "print(file.readline(), end='\\n')\n",
    "\n",
    "file.seek(0, 0)\n",
    "for linha in file.readlines():\n",
    "    print(linha, end='')\n",
    "\n",
    "print('')\n",
    "file.seek(0, 0)\n",
    "for linha in file:\n",
    "    print(linha, end='')\n",
    "\n",
    "file.close()"
   ]
  },
  {
   "cell_type": "code",
   "execution_count": 9,
   "metadata": {},
   "outputs": [
    {
     "name": "stdout",
     "output_type": "stream",
     "text": [
      "Linha\n"
     ]
    }
   ],
   "source": [
    "try:\n",
    "    file = open('abc.txt', 'w+')\n",
    "    file.write('Linha')\n",
    "    file.seek(0, 0)\n",
    "    print(file.read())\n",
    "    \n",
    "finally:\n",
    "    file.close()"
   ]
  },
  {
   "cell_type": "code",
   "execution_count": 13,
   "metadata": {},
   "outputs": [
    {
     "name": "stdout",
     "output_type": "stream",
     "text": [
      "Linha 1\n",
      "Linha 2\n",
      "Linha 3\n",
      "Linha 4\n",
      "Linha 5\n",
      "Linha 6\n",
      "\n"
     ]
    }
   ],
   "source": [
    "## MELHOR MANEIRA DE SE TRABALHAR, O PYTHON JÁ FECHA O ARQUIVO APÓS PROCESSO!!!!\n",
    "\n",
    "with open('abc.txt', 'a+') as file:\n",
    "    file.write('Linha 4\\n')\n",
    "    file.write('Linha 5\\n')\n",
    "    file.write('Linha 6\\n')\n",
    "    file.seek(0, 0)\n",
    "    print(file.read())\n",
    "    "
   ]
  },
  {
   "cell_type": "code",
   "execution_count": 14,
   "metadata": {},
   "outputs": [
    {
     "name": "stdout",
     "output_type": "stream",
     "text": [
      "{\n",
      " \"P1\": {\n",
      "  \"nome\": \"Luiz\",\n",
      "  \"idade\": 25\n",
      " },\n",
      " \"P2\": {\n",
      "  \"nome\": \"Rose\",\n",
      "  \"idade\": 30\n",
      " }\n",
      "}\n"
     ]
    }
   ],
   "source": [
    "import json\n",
    "\n",
    "d1 = {\n",
    "    'P1': {\n",
    "        'nome': 'Luiz',\n",
    "        'idade': 25\n",
    "    },\n",
    "    'P2': {\n",
    "        'nome': 'Rose',\n",
    "        'idade': 30\n",
    "    }\n",
    "}\n",
    "\n",
    "d1_json = json.dumps(d1, indent=True)\n",
    "\n",
    "with open('abc.json', 'w+') as file:\n",
    "    file.write(d1_json)\n",
    "\n",
    "print(d1_json)"
   ]
  },
  {
   "cell_type": "code",
   "execution_count": 20,
   "metadata": {},
   "outputs": [
    {
     "name": "stdout",
     "output_type": "stream",
     "text": [
      "{'P1': {'nome': 'Luiz', 'idade': 25}, 'P2': {'nome': 'Rose', 'idade': 30}}\n"
     ]
    }
   ],
   "source": [
    "with open('abc.json', 'r') as file:\n",
    "    d1_json = file.read()\n",
    "    d1_json = json.loads(d1_json)\n",
    "    print(d1_json)"
   ]
  },
  {
   "cell_type": "code",
   "execution_count": null,
   "metadata": {},
   "outputs": [],
   "source": [
    "## COMO VOLTAR UMA PASTA NO SISTEMA PARA MÓDULOS RODAREM PELO SEU PONTO DE VISTA!!!\n",
    "\n",
    "try:\n",
    "    import sys\n",
    "    importrt os\n",
    "    \n",
    "    sys.path.append(\n",
    "        os.path.abspath(\n",
    "            os.path.join(\n",
    "                os.path.dirname(__file__),\n",
    "                '../'\n",
    "            )\n",
    "        )\n",
    "    )\n",
    "except ImportError:\n",
    "    raise"
   ]
  },
  {
   "cell_type": "code",
   "execution_count": 21,
   "metadata": {
    "collapsed": true
   },
   "outputs": [
    {
     "name": "stdout",
     "output_type": "stream",
     "text": [
      "012345678910111213141516171819202122232425262728293031323334353637383940414243444546474849505152535455565758596061626364656667686970717273747576777879808182838485868788899091929394959697989910010110210310410510610710810911011111211311411511611711811912012112212312412512612712812913013113213313413513613713813914014114214314414514614714814915015115215315415515615715815916016116216316416516616716816917017117217317417517617717817918018118218318418518618718818919019119219319419519619719819920020120220320420520620720820921021121221321421521621721821922022122222322422522622722822923023123223323423523623723823924024124224324424524624724824925025125225325425525625725825926026126226326426526626726826927027127227327427527627727827928028128228328428528628728828929029129229329429529629729829930030130230330430530630730830931031131231331431531631731831932032132232332432532632732832933033133233333433533633733833934034134234334434534634734834935035135235335435535635735835936036136236336436536636736836937037137237337437537637737837938038138238338438538638738838939039139239339439539639739839940040140240340440540640740840941041141241341441541641741841942042142242342442542642742842943043143243343443543643743843944044144244344444544644744844945045145245345445545645745845946046146246346446546646746846947047147247347447547647747847948048148248348448548648748848949049149249349449549649749849950050150250350450550650750850951051151251351451551651751851952052152252352452552652752852953053153253353453553653753853954054154254354454554654754854955055155255355455555655755855956056156256356456556656756856957057157257357457557657757857958058158258358458558658758858959059159259359459559659759859960060160260360460560660760860961061161261361461561661761861962062162262362462562662762862963063163263363463563663763863964064164264364464564664764864965065165265365465565665765865966066166266366466566666766866967067167267367467567667767867968068168268368468568668768868969069169269369469569669769869970070170270370470570670770870971071171271371471571671771871972072172272372472572672772872973073173273373473573673773873974074174274374474574674774874975075175275375475575675775875976076176276376476576676776876977077177277377477577677777877978078178278378478578678778878979079179279379479579679779879980080180280380480580680780880981081181281381481581681781881982082182282382482582682782882983083183283383483583683783883984084184284384484584684784884985085185285385485585685785885986086186286386486586686786886987087187287387487587687787887988088188288388488588688788888989089189289389489589689789889990090190290390490590690790890991091191291391491591691791891992092192292392492592692792892993093193293393493593693793893994094194294394494594694794894995095195295395495595695795895996096196296396496596696796896997097197297397497597697797897998098198298398498598698798898999099199299399499599699799899910001001100210031004100510061007100810091010101110121013101410151016101710181019102010211022102310241025102610271028102910301031103210331034103510361037103810391040104110421043104410451046104710481049105010511052105310541055105610571058105910601061106210631064106510661067106810691070107110721073107410751076107710781079108010811082108310841085108610871088108910901091109210931094109510961097109810991100110111021103110411051106110711081109111011111112111311141115111611171118111911201121112211231124112511261127112811291130113111321133113411351136113711381139114011411142114311441145114611471148114911501151115211531154115511561157115811591160116111621163116411651166116711681169117011711172117311741175117611771178117911801181118211831184118511861187118811891190119111921193119411951196119711981199120012011202120312041205120612071208120912101211121212131214121512161217121812191220122112221223122412251226122712281229123012311232123312341235123612371238123912401241124212431244124512461247124812491250125112521253125412551256125712581259126012611262126312641265126612671268126912701271127212731274127512761277127812791280128112821283128412851286128712881289129012911292129312941295129612971298129913001301130213031304130513061307130813091310131113121313131413151316131713181319132013211322132313241325132613271328132913301331133213331334133513361337133813391340134113421343134413451346134713481349135013511352135313541355135613571358135913601361136213631364136513661367136813691370137113721373137413751376137713781379138013811382138313841385138613871388138913901391139213931394139513961397139813991400140114021403140414051406140714081409141014111412141314141415141614171418141914201421142214231424142514261427142814291430143114321433143414351436143714381439144014411442144314441445144614471448144914501451145214531454145514561457145814591460146114621463146414651466146714681469147014711472147314741475147614771478147914801481148214831484148514861487148814891490149114921493149414951496149714981499150015011502150315041505150615071508150915101511151215131514151515161517151815191520152115221523152415251526152715281529153015311532153315341535153615371538153915401541154215431544154515461547154815491550155115521553155415551556155715581559156015611562156315641565156615671568156915701571157215731574157515761577157815791580158115821583158415851586158715881589159015911592159315941595159615971598159916001601160216031604160516061607160816091610161116121613161416151616161716181619162016211622162316241625162616271628162916301631163216331634163516361637163816391640164116421643164416451646164716481649165016511652165316541655165616571658165916601661166216631664166516661667166816691670167116721673167416751676167716781679168016811682168316841685168616871688168916901691169216931694169516961697169816991700170117021703170417051706170717081709171017111712171317141715171617171718171917201721172217231724172517261727172817291730173117321733173417351736173717381739174017411742174317441745174617471748174917501751175217531754175517561757175817591760176117621763176417651766176717681769177017711772177317741775177617771778177917801781178217831784178517861787178817891790179117921793179417951796179717981799180018011802180318041805180618071808180918101811181218131814181518161817181818191820182118221823182418251826182718281829183018311832183318341835183618371838183918401841184218431844184518461847184818491850185118521853185418551856185718581859186018611862186318641865186618671868186918701871187218731874187518761877187818791880188118821883188418851886188718881889189018911892189318941895189618971898189919001901190219031904190519061907190819091910191119121913191419151916191719181919192019211922192319241925192619271928192919301931193219331934193519361937193819391940194119421943194419451946194719481949195019511952195319541955195619571958195919601961196219631964196519661967196819691970197119721973197419751976197719781979198019811982198319841985198619871988198919901991199219931994199519961997199819992000200120022003200420052006200720082009201020112012201320142015201620172018201920202021202220232024202520262027202820292030203120322033203420352036203720382039204020412042204320442045204620472048204920502051205220532054205520562057205820592060206120622063206420652066206720682069207020712072207320742075207620772078207920802081208220832084208520862087208820892090209120922093209420952096209720982099210021012102210321042105210621072108210921102111211221132114211521162117211821192120212121222123212421252126212721282129213021312132213321342135213621372138213921402141214221432144214521462147214821492150215121522153215421552156215721582159216021612162216321642165216621672168216921702171217221732174217521762177217821792180218121822183218421852186218721882189219021912192219321942195219621972198219922002201220222032204220522062207220822092210221122122213221422152216221722182219222022212222222322242225222622272228222922302231223222332234223522362237223822392240224122422243224422452246224722482249225022512252225322542255225622572258225922602261226222632264226522662267226822692270227122722273227422752276227722782279228022812282228322842285228622872288228922902291229222932294229522962297229822992300230123022303230423052306230723082309231023112312231323142315231623172318231923202321232223232324232523262327232823292330233123322333233423352336233723382339234023412342234323442345234623472348234923502351235223532354235523562357235823592360236123622363236423652366236723682369237023712372237323742375237623772378237923802381238223832384238523862387238823892390239123922393239423952396239723982399240024012402240324042405240624072408240924102411241224132414241524162417241824192420242124222423242424252426242724282429243024312432243324342435243624372438243924402441244224432444244524462447244824492450245124522453245424552456245724582459246024612462246324642465246624672468246924702471247224732474247524762477247824792480248124822483248424852486248724882489249024912492249324942495249624972498249925002501250225032504250525062507250825092510251125122513251425152516251725182519252025212522252325242525252625272528252925302531253225332534253525362537253825392540254125422543254425452546254725482549255025512552255325542555255625572558255925602561256225632564256525662567256825692570257125722573257425752576257725782579258025812582258325842585258625872588258925902591259225932594259525962597259825992600260126022603260426052606260726082609261026112612261326142615261626172618261926202621262226232624262526262627262826292630263126322633263426352636263726382639264026412642264326442645264626472648264926502651265226532654265526562657265826592660266126622663266426652666266726682669267026712672267326742675267626772678267926802681268226832684268526862687268826892690269126922693269426952696269726982699270027012702270327042705270627072708270927102711271227132714271527162717271827192720272127222723272427252726272727282729273027312732273327342735273627372738273927402741274227432744274527462747274827492750275127522753275427552756275727582759276027612762276327642765276627672768276927702771277227732774277527762777277827792780278127822783278427852786278727882789279027912792279327942795279627972798279928002801280228032804280528062807280828092810281128122813281428152816281728182819282028212822282328242825282628272828282928302831283228332834283528362837283828392840284128422843284428452846284728482849285028512852285328542855285628572858285928602861286228632864286528662867286828692870287128722873287428752876287728782879288028812882288328842885288628872888288928902891289228932894289528962897289828992900290129022903290429052906290729082909291029112912291329142915291629172918291929202921292229232924292529262927292829292930293129322933293429352936293729382939294029412942294329442945294629472948294929502951295229532954295529562957295829592960296129622963296429652966296729682969297029712972297329742975297629772978297929802981298229832984298529862987298829892990299129922993299429952996299729982999300030013002300330043005300630073008300930103011301230133014301530163017301830193020302130223023302430253026302730283029303030313032303330343035303630373038303930403041304230433044304530463047304830493050305130523053305430553056305730583059306030613062306330643065306630673068306930703071307230733074307530763077307830793080308130823083308430853086308730883089309030913092309330943095309630973098309931003101310231033104310531063107310831093110311131123113311431153116311731183119312031213122312331243125312631273128312931303131313231333134313531363137313831393140314131423143314431453146314731483149315031513152315331543155315631573158315931603161316231633164316531663167316831693170317131723173317431753176317731783179318031813182318331843185318631873188318931903191319231933194319531963197319831993200320132023203320432053206320732083209321032113212321332143215321632173218321932203221322232233224322532263227322832293230323132323233323432353236323732383239324032413242324332443245324632473248324932503251325232533254325532563257325832593260326132623263326432653266326732683269327032713272327332743275327632773278327932803281328232833284328532863287328832893290329132923293329432953296329732983299330033013302330333043305330633073308330933103311331233133314331533163317331833193320332133223323332433253326332733283329333033313332333333343335333633373338333933403341334233433344334533463347334833493350335133523353335433553356335733583359336033613362336333643365336633673368336933703371337233733374337533763377337833793380338133823383338433853386338733883389339033913392339333943395339633973398339934003401340234033404340534063407340834093410341134123413341434153416341734183419342034213422342334243425342634273428342934303431343234333434343534363437343834393440344134423443344434453446344734483449345034513452345334543455345634573458345934603461346234633464346534663467346834693470347134723473347434753476347734783479348034813482348334843485348634873488348934903491349234933494349534963497349834993500350135023503350435053506350735083509351035113512351335143515351635173518351935203521352235233524352535263527352835293530353135323533353435353536353735383539354035413542354335443545354635473548354935503551355235533554355535563557355835593560356135623563356435653566356735683569357035713572357335743575357635773578357935803581358235833584358535863587358835893590359135923593359435953596359735983599360036013602360336043605360636073608360936103611361236133614361536163617361836193620362136223623362436253626362736283629363036313632363336343635363636373638363936403641364236433644364536463647364836493650365136523653365436553656365736583659366036613662366336643665366636673668366936703671367236733674367536763677367836793680368136823683368436853686368736883689369036913692369336943695369636973698369937003701370237033704370537063707370837093710371137123713371437153716371737183719372037213722372337243725372637273728372937303731373237333734373537363737373837393740374137423743374437453746374737483749375037513752375337543755375637573758375937603761376237633764376537663767376837693770377137723773377437753776377737783779378037813782378337843785378637873788378937903791379237933794379537963797379837993800380138023803380438053806380738083809381038113812381338143815381638173818381938203821382238233824382538263827382838293830383138323833383438353836383738383839384038413842384338443845384638473848384938503851385238533854385538563857385838593860386138623863386438653866386738683869387038713872387338743875387638773878387938803881388238833884388538863887388838893890389138923893389438953896389738983899390039013902390339043905390639073908390939103911391239133914391539163917391839193920392139223923392439253926392739283929393039313932393339343935393639373938393939403941394239433944394539463947394839493950395139523953395439553956395739583959396039613962396339643965396639673968396939703971397239733974397539763977397839793980398139823983398439853986398739883989399039913992399339943995399639973998399940004001400240034004400540064007400840094010401140124013401440154016401740184019402040214022402340244025402640274028402940304031403240334034403540364037403840394040404140424043404440454046404740484049405040514052405340544055405640574058405940604061406240634064406540664067406840694070407140724073407440754076407740784079408040814082408340844085408640874088408940904091409240934094409540964097409840994100410141024103410441054106410741084109411041114112411341144115411641174118411941204121412241234124412541264127412841294130413141324133413441354136413741384139414041414142414341444145414641474148414941504151415241534154415541564157415841594160416141624163416441654166416741684169417041714172417341744175417641774178417941804181418241834184418541864187418841894190419141924193419441954196419741984199420042014202420342044205420642074208420942104211421242134214421542164217421842194220422142224223422442254226422742284229423042314232423342344235423642374238423942404241424242434244424542464247424842494250425142524253425442554256425742584259426042614262426342644265426642674268426942704271427242734274427542764277427842794280428142824283428442854286428742884289429042914292429342944295429642974298429943004301430243034304430543064307430843094310431143124313431443154316431743184319432043214322432343244325432643274328432943304331433243334334433543364337433843394340434143424343434443454346434743484349435043514352435343544355435643574358435943604361436243634364436543664367436843694370437143724373437443754376437743784379438043814382438343844385438643874388438943904391439243934394439543964397439843994400440144024403440444054406440744084409441044114412441344144415441644174418441944204421442244234424442544264427442844294430443144324433443444354436443744384439444044414442444344444445444644474448444944504451445244534454445544564457445844594460446144624463446444654466446744684469"
     ]
    },
    {
     "name": "stdout",
     "output_type": "stream",
     "text": [
      "44704471447244734474447544764477447844794480448144824483448444854486448744884489449044914492449344944495449644974498449945004501450245034504450545064507450845094510451145124513451445154516451745184519452045214522452345244525452645274528452945304531453245334534453545364537453845394540454145424543454445454546454745484549455045514552455345544555455645574558455945604561456245634564456545664567456845694570457145724573457445754576457745784579458045814582458345844585458645874588458945904591459245934594459545964597459845994600460146024603460446054606460746084609461046114612461346144615461646174618461946204621462246234624462546264627462846294630463146324633463446354636463746384639464046414642464346444645464646474648464946504651465246534654465546564657465846594660466146624663466446654666466746684669467046714672467346744675467646774678467946804681468246834684468546864687468846894690469146924693469446954696469746984699470047014702470347044705470647074708470947104711471247134714471547164717471847194720472147224723472447254726472747284729473047314732473347344735473647374738473947404741474247434744474547464747474847494750475147524753475447554756475747584759476047614762476347644765476647674768476947704771477247734774477547764777477847794780478147824783478447854786478747884789479047914792479347944795479647974798479948004801480248034804480548064807480848094810481148124813481448154816481748184819482048214822482348244825482648274828482948304831483248334834483548364837483848394840484148424843484448454846484748484849485048514852485348544855485648574858485948604861486248634864486548664867486848694870487148724873487448754876487748784879488048814882488348844885488648874888488948904891489248934894489548964897489848994900490149024903490449054906490749084909491049114912491349144915491649174918491949204921492249234924492549264927492849294930493149324933493449354936493749384939494049414942494349444945494649474948494949504951495249534954495549564957495849594960496149624963496449654966496749684969497049714972497349744975497649774978497949804981498249834984498549864987498849894990499149924993499449954996499749984999500050015002500350045005500650075008500950105011501250135014501550165017501850195020502150225023502450255026502750285029503050315032503350345035503650375038503950405041504250435044504550465047504850495050505150525053505450555056505750585059506050615062506350645065506650675068506950705071507250735074507550765077507850795080508150825083508450855086508750885089509050915092509350945095509650975098509951005101510251035104510551065107510851095110511151125113511451155116511751185119512051215122512351245125512651275128512951305131513251335134513551365137513851395140514151425143514451455146514751485149515051515152515351545155515651575158515951605161516251635164516551665167516851695170517151725173517451755176517751785179518051815182518351845185518651875188518951905191519251935194519551965197519851995200520152025203520452055206520752085209521052115212521352145215521652175218521952205221522252235224522552265227522852295230523152325233523452355236523752385239524052415242524352445245524652475248524952505251525252535254525552565257525852595260526152625263526452655266526752685269527052715272527352745275527652775278527952805281528252835284528552865287528852895290529152925293529452955296529752985299530053015302530353045305530653075308530953105311531253135314531553165317531853195320532153225323532453255326532753285329533053315332533353345335533653375338533953405341534253435344534553465347534853495350535153525353535453555356535753585359536053615362536353645365536653675368536953705371537253735374537553765377537853795380538153825383538453855386538753885389539053915392539353945395539653975398539954005401540254035404540554065407540854095410541154125413541454155416541754185419542054215422542354245425542654275428542954305431543254335434543554365437543854395440544154425443544454455446544754485449545054515452545354545455545654575458545954605461546254635464546554665467546854695470547154725473547454755476547754785479548054815482548354845485548654875488548954905491549254935494549554965497549854995500550155025503550455055506550755085509551055115512551355145515551655175518551955205521552255235524552555265527552855295530553155325533553455355536553755385539554055415542554355445545554655475548554955505551555255535554555555565557555855595560556155625563556455655566556755685569557055715572557355745575557655775578557955805581558255835584558555865587558855895590559155925593559455955596559755985599560056015602560356045605560656075608560956105611561256135614561556165617561856195620562156225623562456255626562756285629563056315632563356345635563656375638563956405641564256435644564556465647564856495650565156525653565456555656565756585659566056615662566356645665566656675668566956705671567256735674567556765677567856795680568156825683568456855686568756885689569056915692569356945695569656975698569957005701570257035704570557065707570857095710571157125713571457155716571757185719572057215722572357245725572657275728572957305731573257335734573557365737573857395740574157425743574457455746574757485749575057515752575357545755575657575758575957605761576257635764576557665767576857695770577157725773577457755776577757785779578057815782578357845785578657875788578957905791579257935794579557965797579857995800580158025803580458055806580758085809581058115812581358145815581658175818581958205821582258235824582558265827582858295830583158325833583458355836583758385839584058415842584358445845584658475848584958505851585258535854585558565857585858595860586158625863586458655866586758685869587058715872587358745875587658775878587958805881588258835884588558865887588858895890589158925893589458955896589758985899590059015902590359045905590659075908590959105911591259135914591559165917591859195920592159225923592459255926592759285929593059315932593359345935593659375938593959405941594259435944594559465947594859495950595159525953595459555956595759585959596059615962596359645965596659675968596959705971597259735974597559765977597859795980598159825983598459855986598759885989599059915992599359945995599659975998599960006001600260036004600560066007600860096010601160126013601460156016601760186019602060216022602360246025602660276028602960306031603260336034603560366037603860396040604160426043604460456046604760486049605060516052605360546055605660576058605960606061606260636064606560666067606860696070607160726073607460756076607760786079608060816082608360846085608660876088608960906091609260936094609560966097609860996100610161026103610461056106610761086109611061116112611361146115611661176118611961206121612261236124612561266127612861296130613161326133613461356136613761386139614061416142614361446145614661476148614961506151615261536154615561566157615861596160616161626163616461656166616761686169617061716172617361746175617661776178617961806181618261836184618561866187618861896190619161926193619461956196619761986199620062016202620362046205620662076208620962106211621262136214621562166217621862196220622162226223622462256226622762286229623062316232623362346235623662376238623962406241624262436244624562466247624862496250625162526253625462556256625762586259626062616262626362646265626662676268626962706271627262736274627562766277627862796280628162826283628462856286628762886289629062916292629362946295629662976298629963006301630263036304630563066307630863096310631163126313631463156316631763186319632063216322632363246325632663276328632963306331633263336334633563366337633863396340634163426343634463456346634763486349635063516352635363546355635663576358635963606361636263636364636563666367636863696370637163726373637463756376637763786379638063816382638363846385638663876388638963906391639263936394639563966397639863996400640164026403640464056406640764086409641064116412641364146415641664176418641964206421642264236424642564266427642864296430643164326433643464356436643764386439644064416442644364446445644664476448644964506451645264536454645564566457645864596460646164626463646464656466646764686469647064716472647364746475647664776478647964806481648264836484648564866487648864896490649164926493649464956496649764986499650065016502650365046505650665076508650965106511651265136514651565166517651865196520652165226523652465256526652765286529653065316532653365346535653665376538653965406541654265436544654565466547654865496550655165526553655465556556655765586559656065616562656365646565656665676568656965706571657265736574657565766577657865796580658165826583658465856586658765886589659065916592659365946595659665976598659966006601660266036604660566066607660866096610661166126613661466156616661766186619662066216622662366246625662666276628662966306631663266336634663566366637663866396640664166426643664466456646664766486649665066516652665366546655665666576658665966606661666266636664666566666667666866696670667166726673667466756676667766786679668066816682668366846685668666876688668966906691669266936694669566966697669866996700670167026703670467056706670767086709671067116712671367146715671667176718671967206721672267236724672567266727672867296730673167326733673467356736673767386739674067416742674367446745"
     ]
    },
    {
     "name": "stdout",
     "output_type": "stream",
     "text": [
      "6746674767486749675067516752675367546755675667576758675967606761676267636764676567666767676867696770677167726773677467756776677767786779678067816782678367846785678667876788678967906791679267936794679567966797679867996800680168026803680468056806680768086809681068116812681368146815681668176818681968206821682268236824682568266827682868296830683168326833683468356836683768386839684068416842684368446845684668476848684968506851685268536854685568566857685868596860686168626863686468656866686768686869687068716872687368746875687668776878687968806881688268836884688568866887688868896890689168926893689468956896689768986899690069016902690369046905690669076908690969106911691269136914691569166917691869196920692169226923692469256926692769286929693069316932693369346935693669376938693969406941694269436944694569466947694869496950695169526953695469556956695769586959696069616962696369646965696669676968696969706971697269736974697569766977697869796980698169826983698469856986698769886989699069916992699369946995699669976998699970007001700270037004700570067007700870097010701170127013701470157016701770187019702070217022702370247025702670277028702970307031703270337034703570367037703870397040704170427043704470457046704770487049705070517052705370547055705670577058705970607061706270637064706570667067706870697070707170727073707470757076707770787079708070817082708370847085708670877088708970907091709270937094709570967097709870997100710171027103710471057106710771087109711071117112711371147115711671177118711971207121712271237124712571267127712871297130713171327133713471357136713771387139714071417142714371447145714671477148714971507151715271537154715571567157715871597160716171627163716471657166716771687169717071717172717371747175717671777178717971807181718271837184718571867187718871897190719171927193719471957196719771987199720072017202720372047205720672077208720972107211721272137214721572167217721872197220722172227223722472257226722772287229723072317232723372347235723672377238723972407241724272437244724572467247724872497250725172527253725472557256725772587259726072617262726372647265726672677268726972707271727272737274727572767277727872797280728172827283728472857286728772887289729072917292729372947295729672977298729973007301730273037304730573067307730873097310731173127313731473157316731773187319732073217322732373247325732673277328732973307331733273337334733573367337733873397340734173427343734473457346734773487349735073517352735373547355735673577358735973607361736273637364736573667367736873697370737173727373737473757376737773787379738073817382738373847385738673877388738973907391739273937394739573967397739873997400740174027403740474057406740774087409741074117412741374147415741674177418741974207421742274237424742574267427742874297430743174327433743474357436743774387439744074417442744374447445744674477448744974507451745274537454745574567457745874597460746174627463746474657466746774687469747074717472747374747475747674777478747974807481748274837484748574867487748874897490749174927493749474957496749774987499750075017502750375047505750675077508750975107511751275137514751575167517751875197520752175227523752475257526752775287529753075317532753375347535753675377538753975407541754275437544754575467547754875497550755175527553755475557556755775587559756075617562756375647565756675677568756975707571757275737574757575767577757875797580758175827583758475857586758775887589759075917592759375947595759675977598759976007601760276037604760576067607760876097610761176127613761476157616761776187619762076217622762376247625762676277628762976307631763276337634763576367637763876397640764176427643764476457646764776487649765076517652765376547655765676577658765976607661766276637664766576667667766876697670767176727673767476757676767776787679768076817682768376847685768676877688768976907691769276937694769576967697769876997700770177027703770477057706770777087709771077117712771377147715771677177718771977207721772277237724772577267727772877297730773177327733773477357736773777387739774077417742774377447745774677477748774977507751775277537754775577567757775877597760776177627763776477657766776777687769777077717772777377747775777677777778777977807781778277837784778577867787778877897790779177927793779477957796779777987799780078017802780378047805780678077808780978107811781278137814781578167817781878197820782178227823782478257826782778287829783078317832783378347835783678377838783978407841784278437844784578467847784878497850785178527853785478557856785778587859786078617862786378647865786678677868786978707871787278737874787578767877787878797880788178827883788478857886788778887889789078917892789378947895789678977898789979007901790279037904790579067907790879097910791179127913791479157916791779187919792079217922792379247925792679277928792979307931793279337934793579367937793879397940794179427943794479457946794779487949795079517952795379547955795679577958795979607961796279637964796579667967796879697970797179727973797479757976797779787979798079817982798379847985798679877988798979907991799279937994799579967997799879998000800180028003800480058006800780088009801080118012801380148015801680178018801980208021802280238024802580268027802880298030803180328033803480358036803780388039804080418042804380448045804680478048804980508051805280538054805580568057805880598060806180628063806480658066806780688069807080718072807380748075807680778078807980808081808280838084808580868087808880898090809180928093809480958096809780988099810081018102810381048105810681078108810981108111811281138114811581168117811881198120812181228123812481258126812781288129813081318132813381348135813681378138813981408141814281438144814581468147814881498150815181528153815481558156815781588159816081618162816381648165816681678168816981708171817281738174817581768177817881798180818181828183818481858186818781888189819081918192819381948195819681978198819982008201820282038204820582068207820882098210821182128213821482158216821782188219822082218222822382248225822682278228822982308231823282338234823582368237823882398240824182428243824482458246824782488249825082518252825382548255825682578258825982608261826282638264826582668267826882698270827182728273827482758276827782788279828082818282828382848285828682878288828982908291829282938294829582968297829882998300830183028303830483058306830783088309831083118312831383148315831683178318831983208321832283238324832583268327832883298330833183328333833483358336833783388339834083418342834383448345834683478348834983508351835283538354835583568357835883598360836183628363836483658366836783688369837083718372837383748375837683778378837983808381838283838384838583868387838883898390839183928393839483958396839783988399840084018402840384048405840684078408840984108411841284138414841584168417841884198420842184228423842484258426842784288429843084318432843384348435843684378438843984408441844284438444844584468447844884498450845184528453845484558456845784588459846084618462846384648465846684678468846984708471847284738474847584768477847884798480848184828483848484858486848784888489849084918492849384948495849684978498849985008501850285038504850585068507850885098510851185128513851485158516851785188519852085218522852385248525852685278528852985308531853285338534853585368537853885398540854185428543854485458546854785488549855085518552855385548555855685578558855985608561856285638564856585668567856885698570857185728573857485758576857785788579858085818582858385848585858685878588858985908591859285938594859585968597859885998600860186028603860486058606860786088609861086118612861386148615861686178618861986208621862286238624862586268627862886298630863186328633863486358636863786388639864086418642864386448645864686478648864986508651865286538654865586568657865886598660866186628663866486658666866786688669867086718672867386748675867686778678867986808681868286838684868586868687868886898690869186928693869486958696869786988699870087018702870387048705870687078708870987108711871287138714871587168717871887198720872187228723872487258726872787288729873087318732873387348735873687378738873987408741874287438744874587468747874887498750875187528753875487558756875787588759876087618762876387648765876687678768876987708771877287738774877587768777877887798780878187828783878487858786878787888789879087918792879387948795879687978798879988008801880288038804880588068807880888098810881188128813881488158816881788188819882088218822882388248825882688278828882988308831883288338834883588368837883888398840884188428843884488458846884788488849885088518852885388548855885688578858885988608861886288638864886588668867886888698870887188728873887488758876887788788879888088818882888388848885888688878888888988908891889288938894889588968897889888998900890189028903890489058906890789088909891089118912891389148915891689178918891989208921892289238924892589268927892889298930893189328933893489358936893789388939894089418942894389448945894689478948894989508951895289538954895589568957895889598960896189628963896489658966896789688969897089718972897389748975897689778978897989808981898289838984898589868987898889898990899189928993899489958996899789988999900090019002900390049005900690079008900990109011901290139014901590169017901890199020902190229023902490259026902790289029903090319032903390349035903690379038903990409041904290439044904590469047904890499050905190529053905490559056905790589059906090619062906390649065906690679068"
     ]
    },
    {
     "name": "stdout",
     "output_type": "stream",
     "text": [
      "9069907090719072907390749075907690779078907990809081908290839084908590869087908890899090909190929093909490959096909790989099910091019102910391049105910691079108910991109111911291139114911591169117911891199120912191229123912491259126912791289129913091319132913391349135913691379138913991409141914291439144914591469147914891499150915191529153915491559156915791589159916091619162916391649165916691679168916991709171917291739174917591769177917891799180918191829183918491859186918791889189919091919192919391949195919691979198919992009201920292039204920592069207920892099210921192129213921492159216921792189219922092219222922392249225922692279228922992309231923292339234923592369237923892399240924192429243924492459246924792489249925092519252925392549255925692579258925992609261926292639264926592669267926892699270927192729273927492759276927792789279928092819282928392849285928692879288928992909291929292939294929592969297929892999300930193029303930493059306930793089309931093119312931393149315931693179318931993209321932293239324932593269327932893299330933193329333933493359336933793389339934093419342934393449345934693479348934993509351935293539354935593569357935893599360936193629363936493659366936793689369937093719372937393749375937693779378937993809381938293839384938593869387938893899390939193929393939493959396939793989399940094019402940394049405940694079408940994109411941294139414941594169417941894199420942194229423942494259426942794289429943094319432943394349435943694379438943994409441944294439444944594469447944894499450945194529453945494559456945794589459946094619462946394649465946694679468946994709471947294739474947594769477947894799480948194829483948494859486948794889489949094919492949394949495949694979498949995009501950295039504950595069507950895099510951195129513951495159516951795189519952095219522952395249525952695279528952995309531953295339534953595369537953895399540954195429543954495459546954795489549955095519552955395549555955695579558955995609561956295639564956595669567956895699570957195729573957495759576957795789579958095819582958395849585958695879588958995909591959295939594959595969597959895999600960196029603960496059606960796089609961096119612961396149615961696179618961996209621962296239624962596269627962896299630963196329633963496359636963796389639964096419642964396449645964696479648964996509651965296539654965596569657965896599660966196629663966496659666966796689669967096719672967396749675967696779678967996809681968296839684968596869687968896899690969196929693969496959696969796989699970097019702970397049705970697079708970997109711971297139714971597169717971897199720972197229723972497259726972797289729973097319732973397349735973697379738973997409741974297439744974597469747974897499750975197529753975497559756975797589759976097619762976397649765976697679768976997709771977297739774977597769777977897799780978197829783978497859786978797889789979097919792979397949795979697979798979998009801980298039804980598069807980898099810981198129813981498159816981798189819982098219822982398249825982698279828982998309831983298339834983598369837983898399840984198429843984498459846984798489849985098519852985398549855985698579858985998609861986298639864986598669867986898699870987198729873987498759876987798789879988098819882988398849885988698879888988998909891989298939894989598969897989898999900990199029903990499059906990799089909991099119912991399149915991699179918991999209921992299239924992599269927992899299930993199329933993499359936993799389939994099419942994399449945994699479948994999509951995299539954995599569957995899599960996199629963996499659966996799689969997099719972997399749975997699779978997999809981998299839984998599869987998899899990999199929993999499959996999799989999\n",
      "A função levou 812.88ms para ser executada.\n"
     ]
    }
   ],
   "source": [
    "'''\n",
    "# Funções como variáveis\n",
    "def fala_oi():\n",
    "    print('Oi')\n",
    "\n",
    "\n",
    "# A variável é igual a função\n",
    "variavel = fala_oi\n",
    "print(type(variavel))  # function\n",
    "variavel()  # Oi\n",
    "'''\n",
    "\n",
    "'''\n",
    "# Uma função dentro de outra\n",
    "def master():\n",
    "    # Função interna\n",
    "    def slave():\n",
    "        print('Oi')\n",
    "    # Função a ser executada\n",
    "    return slave\n",
    "\n",
    "# Variável recebe função\n",
    "variavel = master()\n",
    "# Executa a função interna de master\n",
    "variavel()\n",
    "'''\n",
    "\n",
    "'''\n",
    "# Função como parâmetro\n",
    "def master(funcao):\n",
    "    # Função interna\n",
    "    def slave():\n",
    "        # executa a função enviada\n",
    "        funcao()\n",
    "    # Retorna a função interna sem executar\n",
    "    return slave\n",
    "\n",
    "# Uma função qualquer\n",
    "def fala_oi():\n",
    "    print('Oi')\n",
    "\n",
    "# Variável como função\n",
    "variavel = master(fala_oi)\n",
    "# Executa a variável/função\n",
    "variavel()\n",
    "'''\n",
    "\n",
    "'''\n",
    "# Recebe uma função\n",
    "def master(funcao):\n",
    "    # Cria uma função interna\n",
    "    def slave():\n",
    "        # Decora\n",
    "        print('Estou decorada.')\n",
    "        # Executa a função enviada\n",
    "        funcao()\n",
    "    # Retorna a função interna sem executar\n",
    "    return slave\n",
    "\n",
    "# Uma função qualquer\n",
    "def fala_oi():\n",
    "    print('Oi')\n",
    "\n",
    "# Decorando\n",
    "fala_oi = master(fala_oi)\n",
    "fala_oi()\n",
    "'''\n",
    "\n",
    "'''\n",
    "# Função decoradora\n",
    "def master(funcao):\n",
    "    def slave():\n",
    "        print('Estou decorada.')\n",
    "        funcao()\n",
    "    return slave\n",
    "\n",
    "# Sintax sugar do decorador\n",
    "@master\n",
    "def fala_oi():\n",
    "    print('Oi')\n",
    "\n",
    "fala_oi()\n",
    "'''\n",
    "\n",
    "'''\n",
    "# Decorando com parâmetros\n",
    "def master(funcao):\n",
    "    def slave(*args, **kwargs):\n",
    "        print('Estou decorada.')\n",
    "        funcao(*args, **kwargs)\n",
    "    return slave\n",
    "\n",
    "@master\n",
    "def fala_oi(msg):\n",
    "    print(msg)\n",
    "\n",
    "\n",
    "fala_oi('Olá, sou Luiz')\n",
    "'''\n",
    "\n",
    "from time import time\n",
    "from time import sleep\n",
    "\n",
    "\n",
    "def velocidade(funcao):\n",
    "    \"\"\"\n",
    "    Função decoradora: Verifica o tempo que uma função leva para executar\n",
    "    \"\"\"\n",
    "    def envolve(*args, **kwargs):\n",
    "        \"\"\" Função que envolve e executa outra função \"\"\"\n",
    "        # Tempo inicial\n",
    "        start = time()\n",
    "        # Executa a função\n",
    "        resultado = funcao(*args, **kwargs)\n",
    "        # Tempo final\n",
    "        end = time()\n",
    "        # Resultado de tempo em ms\n",
    "        tempo = (end - start) * 1000\n",
    "        # Mostra o tempo\n",
    "        print(f'\\nA função levou {tempo:.2f}ms para ser executada.')\n",
    "        # Retorna a função original executada\n",
    "        return resultado\n",
    "    # Retorna a função que envolve\n",
    "    return envolve\n",
    "\n",
    "\n",
    "@velocidade\n",
    "def demora(qtd):\n",
    "    \"\"\" Função decorada \"\"\"\n",
    "    for i in range(qtd):\n",
    "        print(i, end='')\n",
    "\n",
    "\n",
    "# Executa a função decorada\n",
    "demora(10000)\n",
    "\n",
    "\n",
    "## ALGO PARECIDO\n",
    "def demora(qtd):\n",
    "    \"\"\" Função decorada \"\"\"\n",
    "    for i in range(qtd):\n",
    "        print(i, end='')\n",
    "        \n",
    "demora = velocidade(demora)\n",
    "\n",
    "demora(10000)\n",
    "\n"
   ]
  },
  {
   "cell_type": "code",
   "execution_count": 22,
   "metadata": {},
   "outputs": [
    {
     "name": "stdout",
     "output_type": "stream",
     "text": [
      "['Fabrício', 'João', 'Maria', 'Eduardo']\n",
      "['Marcos', 'Jonas', 'Zico']\n",
      "['José']\n"
     ]
    }
   ],
   "source": [
    "# Mutável: Listas, dicionários\n",
    "# Imutável: Tuplas, strings, números, True, False, None\n",
    "\n",
    "\n",
    "def lista_de_clientes(clientes_iteravel, lista=None):\n",
    "    if lista is None:\n",
    "        lista = []\n",
    "    lista.extend(clientes_iteravel)\n",
    "    return lista\n",
    "\n",
    "\n",
    "lista_clientes_1 = ['Fabrício']\n",
    "clientes1 = lista_de_clientes(['João', 'Maria', 'Eduardo'], lista_clientes_1)\n",
    "clientes2 = lista_de_clientes(['Marcos', 'Jonas', 'Zico'])\n",
    "clientes3 = lista_de_clientes(['José'])\n",
    "\n",
    "print(clientes1)\n",
    "print(clientes2)\n",
    "print(clientes3)\n"
   ]
  },
  {
   "cell_type": "code",
   "execution_count": 24,
   "metadata": {},
   "outputs": [],
   "source": [
    "\"\"\"\n",
    "Faça uma lista de tarefas com as seguintes opções:\n",
    "    adicionar tarefa\n",
    "    listar tarefas\n",
    "    opção de desfazer (a cada vez que chamarmos, desfaz a última ação)\n",
    "    opção de refazer (a cada vez que chamarmos, refaz a última ação)\n",
    "    ['Tarefa 1', 'Tarefa 2']\n",
    "    ['Tarefa 1'] <- Desfazer\n",
    "    ['Tarefa 1', 'Tarefa 2'] <- Refazer\n",
    "    input <- Nova tarefa\n",
    "\"\"\"\n",
    "\n",
    "\n",
    "def show_op(todo_list):\n",
    "    print()\n",
    "    print('Tarefas: ')\n",
    "    print(todo_list)\n",
    "    print()\n",
    "\n",
    "\n",
    "def do_undo(todo_list, redo_list):\n",
    "    if not todo_list:\n",
    "        print('Nada a desfazer')\n",
    "        return\n",
    "\n",
    "    last_todo = todo_list.pop()\n",
    "    redo_list.append(last_todo)\n",
    "\n",
    "\n",
    "def do_redo(todo_list, redo_list):\n",
    "    if not redo_list:\n",
    "        print('Nada a refazer')\n",
    "        return\n",
    "\n",
    "    last_redo = redo_list.pop()\n",
    "    todo_list.append(last_redo)\n",
    "\n",
    "\n",
    "def do_add(todo, todo_list):\n",
    "    todo_list.append(todo)\n",
    "\n",
    "\n",
    "if __name__ == '__main__':\n",
    "    todo_list = []\n",
    "    redo_list = []\n",
    "\n",
    "    while True:\n",
    "        todo = input('Digite uma tarefa ou undo, redo, ls: ')\n",
    "\n",
    "        if todo == 'ls':\n",
    "            show_op(todo_list)\n",
    "            continue\n",
    "        elif todo == 'undo':\n",
    "            do_undo(todo_list, redo_list)\n",
    "            continue\n",
    "        elif todo == 'redo':\n",
    "            do_redo(todo_list, redo_list)\n",
    "            continue\n",
    "\n",
    "        do_add(todo, todo_list)"
   ]
  },
  {
   "cell_type": "code",
   "execution_count": 25,
   "metadata": {},
   "outputs": [
    {
     "name": "stdout",
     "output_type": "stream",
     "text": [
      "04.252.011/0001-10 é válido\n",
      "57.995.212/0001-73\n",
      "42.751.143/0001-85\n",
      "26.378.518/0001-57\n",
      "13.182.492/0001-25\n",
      "19.479.745/0001-03\n",
      "54.937.615/0001-78\n",
      "39.558.849/0001-10\n",
      "69.230.295/0001-99\n",
      "86.827.327/0001-57\n",
      "98.334.943/0001-55\n",
      "18.194.868/0001-35\n",
      "70.873.910/0001-64\n",
      "78.886.808/0001-05\n",
      "86.861.467/0001-41\n",
      "04.925.271/0001-09\n",
      "77.926.385/0001-47\n",
      "14.369.517/0001-67\n",
      "91.400.473/0001-31\n",
      "47.352.208/0001-33\n",
      "14.645.406/0001-36\n",
      "37.657.658/0001-80\n",
      "57.597.953/0001-04\n",
      "15.845.436/0001-59\n",
      "95.777.276/0001-97\n",
      "86.868.355/0001-12\n",
      "48.723.811/0001-47\n",
      "25.798.320/0001-60\n",
      "55.603.190/0001-23\n",
      "81.479.921/0001-80\n",
      "14.746.335/0001-68\n",
      "68.419.646/0001-41\n",
      "64.705.889/0001-95\n",
      "71.909.224/0001-69\n",
      "34.592.743/0001-10\n",
      "17.944.719/0001-83\n",
      "90.959.274/0001-03\n",
      "58.499.464/0001-74\n",
      "84.192.495/0001-98\n",
      "41.489.825/0001-07\n",
      "28.257.505/0001-55\n",
      "63.223.809/0001-00\n",
      "72.210.487/0001-48\n",
      "84.568.664/0001-41\n",
      "13.495.423/0001-71\n",
      "01.769.537/0001-83\n",
      "46.817.718/0001-76\n",
      "76.489.774/0001-90\n",
      "72.705.672/0001-03\n",
      "97.718.338/0001-15\n",
      "38.608.338/0001-01\n",
      "69.206.621/0001-22\n",
      "44.405.763/0001-98\n",
      "08.812.795/0001-44\n",
      "12.891.940/0001-05\n",
      "93.167.746/0001-75\n",
      "40.682.978/0001-03\n",
      "34.801.834/0001-18\n",
      "07.976.363/0001-06\n",
      "80.218.547/0001-05\n",
      "77.615.685/0001-05\n",
      "98.430.529/0001-40\n",
      "64.207.797/0001-85\n",
      "18.263.785/0001-50\n",
      "25.950.233/0001-86\n",
      "00.192.856/0001-06\n",
      "45.941.340/0001-55\n",
      "12.187.109/0001-69\n",
      "54.919.104/0001-23\n",
      "85.357.314/0001-07\n",
      "04.115.438/0001-76\n",
      "28.239.949/0001-68\n",
      "20.634.269/0001-37\n",
      "66.737.713/0001-40\n",
      "96.717.502/0001-07\n",
      "00.591.876/0001-50\n",
      "61.247.475/0001-71\n",
      "54.211.573/0001-93\n",
      "74.358.859/0001-03\n",
      "78.700.229/0001-26\n",
      "19.656.164/0001-08\n",
      "02.347.967/0001-70\n",
      "69.880.270/0001-30\n",
      "56.995.245/0001-50\n",
      "77.745.225/0001-00\n",
      "82.196.762/0001-70\n",
      "63.108.717/0001-71\n",
      "99.494.165/0001-24\n",
      "84.255.958/0001-13\n",
      "67.611.942/0001-87\n",
      "32.465.959/0001-99\n",
      "14.154.149/0001-30\n",
      "98.608.235/0001-65\n",
      "81.266.644/0001-28\n",
      "95.480.817/0001-10\n",
      "42.748.967/0001-04\n",
      "62.969.721/0001-61\n",
      "76.906.121/0001-69\n",
      "75.273.544/0001-26\n",
      "88.732.203/0001-13\n",
      "40.772.471/0001-32\n"
     ]
    }
   ],
   "source": [
    "\"\"\"\n",
    "04.252.011/0001-10 40.688.134/0001-61 71.506.168/0001-11 12.544.992/0001-05\n",
    "\n",
    "0   4   2   5   2   0   1   1   0   0   0   1\n",
    "5   4   3   2   9   8   7   6   5   4   3   2\n",
    "0   16  6   10  18  0   7   6   0   0   0   2 = 65\n",
    "Fórmula -> 11 - (65 % 11) = 1\n",
    "Primeiro digito = 1 (Se o digito for maior que 9, ele se torna 0)\n",
    "\n",
    "0   4   2   5   2   0   1   1   0   0   0   1   1   X\n",
    "6   5   4   3   2   9   8   7   6   5   4   3   2\n",
    "0   20  8   15  4   0   8   7   0   0   0   3   2 = 67\n",
    "Fórmula -> 11 - (67 % 11) = 10 (Como o resultado é maior que 9, então é 0)\n",
    "Segundo digito = 0\n",
    "\n",
    "Novo CNPJ + Digitos = 04.252.011/0001-10\n",
    "CNPJ Original =       04.252.011/0001-10\n",
    "Válido\n",
    "\n",
    "Recap.\n",
    "543298765432 -> Primeiro digito\n",
    "6543298765432 -> Segunro digito\n",
    "\"\"\"\n",
    "import geracnpj.cnpj as cnpj\n",
    "\n",
    "cnpj1 = '04.252.011/0001-10'\n",
    "\n",
    "if cnpj.valida(cnpj1):\n",
    "    print(f'{cnpj1} é válido')\n",
    "else:\n",
    "    print(f'{cnpj1} é inválido')\n",
    "\n",
    "for i in range(100):\n",
    "    novo_cnpj = cnpj.gera()\n",
    "    formatado = cnpj.formata(novo_cnpj)\n",
    "    print(formatado)\n",
    "\n"
   ]
  },
  {
   "cell_type": "code",
   "execution_count": 27,
   "metadata": {},
   "outputs": [
    {
     "name": "stdout",
     "output_type": "stream",
     "text": [
      "04.252.011/0001-10 é válido\n"
     ]
    }
   ],
   "source": [
    "\"\"\"\n",
    "04.252.011/0001-10 40.688.134/0001-61 71.506.168/0001-11 12.544.992/0001-05\n",
    "\n",
    "0   4   2   5   2   0   1   1   0   0   0   1\n",
    "5   4   3   2   9   8   7   6   5   4   3   2\n",
    "0   16  6   10  18  0   7   6   0   0   0   2 = 65\n",
    "Fórmula -> 11 - (65 % 11) = 1\n",
    "Primeiro digito = 1 (Se o digito for maior que 9, ele se torna 0)\n",
    "\n",
    "0   4   2   5   2   0   1   1   0   0   0   1   1   X\n",
    "6   5   4   3   2   9   8   7   6   5   4   3   2\n",
    "0   20  8   15  4   0   8   7   0   0   0   3   2 = 67\n",
    "Fórmula -> 11 - (67 % 11) = 10 (Como o resultado é maior que 9, então é 0)\n",
    "Segundo digito = 0\n",
    "\n",
    "Novo CNPJ + Digitos = 04.252.011/0001-10\n",
    "CNPJ Original =       04.252.011/0001-10\n",
    "Válido\n",
    "\n",
    "Recap.\n",
    "543298765432 -> Primeiro digito\n",
    "6543298765432 -> Segunro digito\n",
    "\"\"\"\n",
    "import validacnpj.cnpj as cnpj1\n",
    "\n",
    "cnpj1 = '04.252.011/0001-10'\n",
    "\n",
    "if cnpj.valida(cnpj1):\n",
    "    print(f'{cnpj1} é válido')\n",
    "else:\n",
    "    print(f'{cnpj1} é inválido')\n"
   ]
  },
  {
   "cell_type": "markdown",
   "metadata": {},
   "source": [
    "## Seção 4: Programação Orientada a Objeto"
   ]
  },
  {
   "cell_type": "code",
   "execution_count": null,
   "metadata": {},
   "outputs": [],
   "source": []
  },
  {
   "cell_type": "code",
   "execution_count": null,
   "metadata": {},
   "outputs": [],
   "source": []
  },
  {
   "cell_type": "code",
   "execution_count": null,
   "metadata": {},
   "outputs": [],
   "source": []
  },
  {
   "cell_type": "code",
   "execution_count": null,
   "metadata": {},
   "outputs": [],
   "source": []
  },
  {
   "cell_type": "code",
   "execution_count": null,
   "metadata": {},
   "outputs": [],
   "source": []
  },
  {
   "cell_type": "code",
   "execution_count": null,
   "metadata": {},
   "outputs": [],
   "source": []
  },
  {
   "cell_type": "code",
   "execution_count": null,
   "metadata": {},
   "outputs": [],
   "source": []
  },
  {
   "cell_type": "code",
   "execution_count": null,
   "metadata": {},
   "outputs": [],
   "source": []
  },
  {
   "cell_type": "code",
   "execution_count": null,
   "metadata": {},
   "outputs": [],
   "source": []
  },
  {
   "cell_type": "code",
   "execution_count": null,
   "metadata": {},
   "outputs": [],
   "source": []
  },
  {
   "cell_type": "code",
   "execution_count": null,
   "metadata": {},
   "outputs": [],
   "source": []
  },
  {
   "cell_type": "code",
   "execution_count": null,
   "metadata": {},
   "outputs": [],
   "source": []
  },
  {
   "cell_type": "code",
   "execution_count": null,
   "metadata": {},
   "outputs": [],
   "source": []
  },
  {
   "cell_type": "code",
   "execution_count": null,
   "metadata": {},
   "outputs": [],
   "source": []
  },
  {
   "cell_type": "code",
   "execution_count": null,
   "metadata": {},
   "outputs": [],
   "source": []
  },
  {
   "cell_type": "code",
   "execution_count": null,
   "metadata": {},
   "outputs": [],
   "source": []
  },
  {
   "cell_type": "code",
   "execution_count": null,
   "metadata": {},
   "outputs": [],
   "source": []
  },
  {
   "cell_type": "code",
   "execution_count": null,
   "metadata": {},
   "outputs": [],
   "source": []
  },
  {
   "cell_type": "code",
   "execution_count": null,
   "metadata": {},
   "outputs": [],
   "source": []
  }
 ],
 "metadata": {
  "hide_input": false,
  "kernelspec": {
   "display_name": "snappyenv (Python 3.6.15)",
   "language": "python",
   "name": "python3"
  },
  "language_info": {
   "codemirror_mode": {
    "name": "ipython",
    "version": 3
   },
   "file_extension": ".py",
   "mimetype": "text/x-python",
   "name": "python",
   "nbconvert_exporter": "python",
   "pygments_lexer": "ipython3",
   "version": "3.6.15"
  },
  "toc": {
   "base_numbering": 1,
   "nav_menu": {},
   "number_sections": true,
   "sideBar": true,
   "skip_h1_title": false,
   "title_cell": "Table of Contents",
   "title_sidebar": "Contents",
   "toc_cell": false,
   "toc_position": {},
   "toc_section_display": true,
   "toc_window_display": false
  },
  "varInspector": {
   "cols": {
    "lenName": 16,
    "lenType": 16,
    "lenVar": 40
   },
   "kernels_config": {
    "python": {
     "delete_cmd_postfix": "",
     "delete_cmd_prefix": "del ",
     "library": "var_list.py",
     "varRefreshCmd": "print(var_dic_list())"
    },
    "r": {
     "delete_cmd_postfix": ") ",
     "delete_cmd_prefix": "rm(",
     "library": "var_list.r",
     "varRefreshCmd": "cat(var_dic_list()) "
    }
   },
   "types_to_exclude": [
    "module",
    "function",
    "builtin_function_or_method",
    "instance",
    "_Feature"
   ],
   "window_display": false
  }
 },
 "nbformat": 4,
 "nbformat_minor": 4
}
