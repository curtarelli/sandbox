{
 "cells": [
  {
   "cell_type": "code",
   "execution_count": 6,
   "id": "1f350e96",
   "metadata": {},
   "outputs": [],
   "source": [
    "from pessoa import Pessoa"
   ]
  },
  {
   "cell_type": "code",
   "execution_count": 5,
   "id": "2ceb8546",
   "metadata": {},
   "outputs": [],
   "source": [
    "p1 = Pessoa('Luiz', 15)\n",
    "p2 = Pessoa('Victor', 31)"
   ]
  },
  {
   "cell_type": "code",
   "execution_count": null,
   "id": "b224ae28",
   "metadata": {},
   "outputs": [],
   "source": [
    "#p1.nome = r'Luiz'\n",
    "#p1.idade = 15\n",
    "#print(p1.nome)\n",
    "#p1.falar()"
   ]
  },
  {
   "cell_type": "code",
   "execution_count": null,
   "id": "bccc3046",
   "metadata": {},
   "outputs": [],
   "source": [
    "p1.comer('maçã')\n",
    "p1.comer('maçã')\n",
    "p1.parar_comer()\n",
    "p1.comer('maçã')\n",
    "p1.parar_comer()\n",
    "p1.parar_comer()"
   ]
  },
  {
   "cell_type": "code",
   "execution_count": null,
   "id": "2b08afc3",
   "metadata": {},
   "outputs": [],
   "source": [
    "print(p1.get_ano_nascimento())"
   ]
  },
  {
   "cell_type": "code",
   "execution_count": null,
   "id": "7c06546b",
   "metadata": {},
   "outputs": [],
   "source": []
  },
  {
   "cell_type": "code",
   "execution_count": null,
   "id": "7f7a4a51",
   "metadata": {},
   "outputs": [],
   "source": []
  },
  {
   "cell_type": "code",
   "execution_count": null,
   "id": "9d7904c0",
   "metadata": {},
   "outputs": [],
   "source": []
  }
 ],
 "metadata": {
  "hide_input": false,
  "kernelspec": {
   "display_name": "snappyenv (Python 3.6.15)",
   "language": "python",
   "name": "python3"
  },
  "language_info": {
   "codemirror_mode": {
    "name": "ipython",
    "version": 3
   },
   "file_extension": ".py",
   "mimetype": "text/x-python",
   "name": "python",
   "nbconvert_exporter": "python",
   "pygments_lexer": "ipython3",
   "version": "3.6.15"
  },
  "toc": {
   "base_numbering": 1,
   "nav_menu": {},
   "number_sections": true,
   "sideBar": true,
   "skip_h1_title": false,
   "title_cell": "Table of Contents",
   "title_sidebar": "Contents",
   "toc_cell": false,
   "toc_position": {},
   "toc_section_display": true,
   "toc_window_display": false
  },
  "varInspector": {
   "cols": {
    "lenName": 16,
    "lenType": 16,
    "lenVar": 40
   },
   "kernels_config": {
    "python": {
     "delete_cmd_postfix": "",
     "delete_cmd_prefix": "del ",
     "library": "var_list.py",
     "varRefreshCmd": "print(var_dic_list())"
    },
    "r": {
     "delete_cmd_postfix": ") ",
     "delete_cmd_prefix": "rm(",
     "library": "var_list.r",
     "varRefreshCmd": "cat(var_dic_list()) "
    }
   },
   "types_to_exclude": [
    "module",
    "function",
    "builtin_function_or_method",
    "instance",
    "_Feature"
   ],
   "window_display": false
  }
 },
 "nbformat": 4,
 "nbformat_minor": 5
}
