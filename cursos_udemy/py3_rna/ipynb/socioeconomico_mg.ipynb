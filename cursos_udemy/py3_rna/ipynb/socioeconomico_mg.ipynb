{
 "cells": [
  {
   "cell_type": "markdown",
   "metadata": {
    "id": "-aI0jH2a1cTy"
   },
   "source": [
    "# **Análise Socioeconômica do estado de Minas Gerais**"
   ]
  },
  {
   "cell_type": "markdown",
   "metadata": {
    "id": "yQkP1Bo71tTZ"
   },
   "source": [
    "Esse projeto tem por objetivo utilizar algoritmos de redes neurais artificiais para realizar uma análise socioeconômica do estado de Minas Gerais utilizando as respostas dos questionários dos inscritos no Enem de 2019."
   ]
  },
  {
   "cell_type": "code",
   "execution_count": 2,
   "metadata": {
    "id": "UO4hsRRanayZ"
   },
   "outputs": [],
   "source": [
    "import numpy as np\n",
    "import pandas as pd\n",
    "import seaborn as sns\n",
    "import matplotlib.pyplot as plt\n",
    "import warnings\n",
    "warnings.filterwarnings(\"ignore\", category=FutureWarning)"
   ]
  },
  {
   "cell_type": "code",
   "execution_count": 4,
   "metadata": {
    "id": "yHzXBjPBwD1p"
   },
   "outputs": [],
   "source": [
    "dados = pd.read_csv(r'C:\\Users\\Optimus\\GitHUB\\cursos_udemy\\py3_rna\\planilhas\\socioeconomico_mg_enem.csv', sep=';', encoding='iso-8859-1')"
   ]
  },
  {
   "cell_type": "markdown",
   "metadata": {
    "id": "GUIOVJsR7v2N"
   },
   "source": [
    "# **Tratamento e Análise Exploratória dos Dados**"
   ]
  },
  {
   "cell_type": "markdown",
   "metadata": {
    "id": "iWNSmrFFCE-g"
   },
   "source": [
    "## **Limpeza dos dados**"
   ]
  },
  {
   "cell_type": "code",
   "execution_count": 5,
   "metadata": {
    "id": "eU4x6WgS1SL5"
   },
   "outputs": [
    {
     "data": {
      "text/html": [
       "<div>\n",
       "<style scoped>\n",
       "    .dataframe tbody tr th:only-of-type {\n",
       "        vertical-align: middle;\n",
       "    }\n",
       "\n",
       "    .dataframe tbody tr th {\n",
       "        vertical-align: top;\n",
       "    }\n",
       "\n",
       "    .dataframe thead th {\n",
       "        text-align: right;\n",
       "    }\n",
       "</style>\n",
       "<table border=\"1\" class=\"dataframe\">\n",
       "  <thead>\n",
       "    <tr style=\"text-align: right;\">\n",
       "      <th></th>\n",
       "      <th>NU_INSCRICAO</th>\n",
       "      <th>NO_MUNICIPIO_RESIDENCIA</th>\n",
       "      <th>SG_UF_RESIDENCIA</th>\n",
       "      <th>TP_SEXO</th>\n",
       "      <th>Q001</th>\n",
       "      <th>Q002</th>\n",
       "      <th>Q003</th>\n",
       "      <th>Q004</th>\n",
       "      <th>Q005</th>\n",
       "      <th>Q006</th>\n",
       "      <th>...</th>\n",
       "      <th>Q016</th>\n",
       "      <th>Q017</th>\n",
       "      <th>Q018</th>\n",
       "      <th>Q019</th>\n",
       "      <th>Q020</th>\n",
       "      <th>Q021</th>\n",
       "      <th>Q022</th>\n",
       "      <th>Q023</th>\n",
       "      <th>Q024</th>\n",
       "      <th>Q025</th>\n",
       "    </tr>\n",
       "  </thead>\n",
       "  <tbody>\n",
       "    <tr>\n",
       "      <th>0</th>\n",
       "      <td>1,90001E+11</td>\n",
       "      <td>Uberlândia</td>\n",
       "      <td>MG</td>\n",
       "      <td>M</td>\n",
       "      <td>E</td>\n",
       "      <td>F</td>\n",
       "      <td>B</td>\n",
       "      <td>D</td>\n",
       "      <td>3</td>\n",
       "      <td>I</td>\n",
       "      <td>...</td>\n",
       "      <td>B</td>\n",
       "      <td>A</td>\n",
       "      <td>A</td>\n",
       "      <td>D</td>\n",
       "      <td>A</td>\n",
       "      <td>A</td>\n",
       "      <td>D</td>\n",
       "      <td>B</td>\n",
       "      <td>B</td>\n",
       "      <td>B</td>\n",
       "    </tr>\n",
       "    <tr>\n",
       "      <th>1</th>\n",
       "      <td>1,90001E+11</td>\n",
       "      <td>Canaã</td>\n",
       "      <td>MG</td>\n",
       "      <td>M</td>\n",
       "      <td>B</td>\n",
       "      <td>B</td>\n",
       "      <td>A</td>\n",
       "      <td>A</td>\n",
       "      <td>5</td>\n",
       "      <td>D</td>\n",
       "      <td>...</td>\n",
       "      <td>A</td>\n",
       "      <td>A</td>\n",
       "      <td>A</td>\n",
       "      <td>B</td>\n",
       "      <td>A</td>\n",
       "      <td>A</td>\n",
       "      <td>C</td>\n",
       "      <td>A</td>\n",
       "      <td>A</td>\n",
       "      <td>A</td>\n",
       "    </tr>\n",
       "    <tr>\n",
       "      <th>2</th>\n",
       "      <td>1,90001E+11</td>\n",
       "      <td>Araxá</td>\n",
       "      <td>MG</td>\n",
       "      <td>M</td>\n",
       "      <td>C</td>\n",
       "      <td>C</td>\n",
       "      <td>B</td>\n",
       "      <td>B</td>\n",
       "      <td>3</td>\n",
       "      <td>F</td>\n",
       "      <td>...</td>\n",
       "      <td>A</td>\n",
       "      <td>A</td>\n",
       "      <td>A</td>\n",
       "      <td>C</td>\n",
       "      <td>B</td>\n",
       "      <td>A</td>\n",
       "      <td>C</td>\n",
       "      <td>A</td>\n",
       "      <td>A</td>\n",
       "      <td>B</td>\n",
       "    </tr>\n",
       "    <tr>\n",
       "      <th>3</th>\n",
       "      <td>1,90001E+11</td>\n",
       "      <td>Belo Horizonte</td>\n",
       "      <td>MG</td>\n",
       "      <td>M</td>\n",
       "      <td>G</td>\n",
       "      <td>D</td>\n",
       "      <td>D</td>\n",
       "      <td>D</td>\n",
       "      <td>3</td>\n",
       "      <td>P</td>\n",
       "      <td>...</td>\n",
       "      <td>B</td>\n",
       "      <td>A</td>\n",
       "      <td>B</td>\n",
       "      <td>B</td>\n",
       "      <td>A</td>\n",
       "      <td>A</td>\n",
       "      <td>D</td>\n",
       "      <td>A</td>\n",
       "      <td>D</td>\n",
       "      <td>B</td>\n",
       "    </tr>\n",
       "    <tr>\n",
       "      <th>4</th>\n",
       "      <td>1,90001E+11</td>\n",
       "      <td>São João da Ponte</td>\n",
       "      <td>MG</td>\n",
       "      <td>M</td>\n",
       "      <td>B</td>\n",
       "      <td>D</td>\n",
       "      <td>B</td>\n",
       "      <td>B</td>\n",
       "      <td>3</td>\n",
       "      <td>D</td>\n",
       "      <td>...</td>\n",
       "      <td>A</td>\n",
       "      <td>A</td>\n",
       "      <td>A</td>\n",
       "      <td>B</td>\n",
       "      <td>B</td>\n",
       "      <td>A</td>\n",
       "      <td>C</td>\n",
       "      <td>A</td>\n",
       "      <td>B</td>\n",
       "      <td>A</td>\n",
       "    </tr>\n",
       "    <tr>\n",
       "      <th>5</th>\n",
       "      <td>1,90001E+11</td>\n",
       "      <td>Espinosa</td>\n",
       "      <td>MG</td>\n",
       "      <td>M</td>\n",
       "      <td>C</td>\n",
       "      <td>G</td>\n",
       "      <td>C</td>\n",
       "      <td>D</td>\n",
       "      <td>5</td>\n",
       "      <td>I</td>\n",
       "      <td>...</td>\n",
       "      <td>B</td>\n",
       "      <td>A</td>\n",
       "      <td>A</td>\n",
       "      <td>C</td>\n",
       "      <td>B</td>\n",
       "      <td>A</td>\n",
       "      <td>E</td>\n",
       "      <td>A</td>\n",
       "      <td>B</td>\n",
       "      <td>B</td>\n",
       "    </tr>\n",
       "    <tr>\n",
       "      <th>6</th>\n",
       "      <td>1,90001E+11</td>\n",
       "      <td>Três Corações</td>\n",
       "      <td>MG</td>\n",
       "      <td>F</td>\n",
       "      <td>E</td>\n",
       "      <td>E</td>\n",
       "      <td>C</td>\n",
       "      <td>B</td>\n",
       "      <td>3</td>\n",
       "      <td>C</td>\n",
       "      <td>...</td>\n",
       "      <td>B</td>\n",
       "      <td>A</td>\n",
       "      <td>A</td>\n",
       "      <td>B</td>\n",
       "      <td>B</td>\n",
       "      <td>B</td>\n",
       "      <td>E</td>\n",
       "      <td>A</td>\n",
       "      <td>B</td>\n",
       "      <td>B</td>\n",
       "    </tr>\n",
       "    <tr>\n",
       "      <th>7</th>\n",
       "      <td>1,90001E+11</td>\n",
       "      <td>Betim</td>\n",
       "      <td>MG</td>\n",
       "      <td>M</td>\n",
       "      <td>H</td>\n",
       "      <td>D</td>\n",
       "      <td>C</td>\n",
       "      <td>F</td>\n",
       "      <td>3</td>\n",
       "      <td>F</td>\n",
       "      <td>...</td>\n",
       "      <td>B</td>\n",
       "      <td>A</td>\n",
       "      <td>A</td>\n",
       "      <td>B</td>\n",
       "      <td>A</td>\n",
       "      <td>A</td>\n",
       "      <td>D</td>\n",
       "      <td>A</td>\n",
       "      <td>B</td>\n",
       "      <td>B</td>\n",
       "    </tr>\n",
       "  </tbody>\n",
       "</table>\n",
       "<p>8 rows × 29 columns</p>\n",
       "</div>"
      ],
      "text/plain": [
       "  NU_INSCRICAO NO_MUNICIPIO_RESIDENCIA SG_UF_RESIDENCIA TP_SEXO Q001 Q002  \\\n",
       "0  1,90001E+11              Uberlândia               MG       M    E    F   \n",
       "1  1,90001E+11                   Canaã               MG       M    B    B   \n",
       "2  1,90001E+11                   Araxá               MG       M    C    C   \n",
       "3  1,90001E+11          Belo Horizonte               MG       M    G    D   \n",
       "4  1,90001E+11       São João da Ponte               MG       M    B    D   \n",
       "5  1,90001E+11                Espinosa               MG       M    C    G   \n",
       "6  1,90001E+11           Três Corações               MG       F    E    E   \n",
       "7  1,90001E+11                   Betim               MG       M    H    D   \n",
       "\n",
       "  Q003 Q004  Q005 Q006  ... Q016 Q017 Q018 Q019 Q020 Q021 Q022 Q023 Q024 Q025  \n",
       "0    B    D     3    I  ...    B    A    A    D    A    A    D    B    B    B  \n",
       "1    A    A     5    D  ...    A    A    A    B    A    A    C    A    A    A  \n",
       "2    B    B     3    F  ...    A    A    A    C    B    A    C    A    A    B  \n",
       "3    D    D     3    P  ...    B    A    B    B    A    A    D    A    D    B  \n",
       "4    B    B     3    D  ...    A    A    A    B    B    A    C    A    B    A  \n",
       "5    C    D     5    I  ...    B    A    A    C    B    A    E    A    B    B  \n",
       "6    C    B     3    C  ...    B    A    A    B    B    B    E    A    B    B  \n",
       "7    C    F     3    F  ...    B    A    A    B    A    A    D    A    B    B  \n",
       "\n",
       "[8 rows x 29 columns]"
      ]
     },
     "execution_count": 5,
     "metadata": {},
     "output_type": "execute_result"
    }
   ],
   "source": [
    "dados.head(8)"
   ]
  },
  {
   "cell_type": "code",
   "execution_count": 6,
   "metadata": {
    "id": "_vOS26Ol1k5L"
   },
   "outputs": [
    {
     "data": {
      "text/plain": [
       "(538896, 29)"
      ]
     },
     "execution_count": 6,
     "metadata": {},
     "output_type": "execute_result"
    }
   ],
   "source": [
    "dados.shape"
   ]
  },
  {
   "cell_type": "code",
   "execution_count": 7,
   "metadata": {
    "id": "W0a_qrQj1pj-"
   },
   "outputs": [],
   "source": [
    "dados1 = dados.drop(columns=['SG_UF_RESIDENCIA'])"
   ]
  },
  {
   "cell_type": "code",
   "execution_count": 8,
   "metadata": {
    "id": "Qfd7a2ge1yAO"
   },
   "outputs": [
    {
     "data": {
      "text/html": [
       "<div>\n",
       "<style scoped>\n",
       "    .dataframe tbody tr th:only-of-type {\n",
       "        vertical-align: middle;\n",
       "    }\n",
       "\n",
       "    .dataframe tbody tr th {\n",
       "        vertical-align: top;\n",
       "    }\n",
       "\n",
       "    .dataframe thead th {\n",
       "        text-align: right;\n",
       "    }\n",
       "</style>\n",
       "<table border=\"1\" class=\"dataframe\">\n",
       "  <thead>\n",
       "    <tr style=\"text-align: right;\">\n",
       "      <th></th>\n",
       "      <th>NU_INSCRICAO</th>\n",
       "      <th>NO_MUNICIPIO_RESIDENCIA</th>\n",
       "      <th>TP_SEXO</th>\n",
       "      <th>Q001</th>\n",
       "      <th>Q002</th>\n",
       "      <th>Q003</th>\n",
       "      <th>Q004</th>\n",
       "      <th>Q005</th>\n",
       "      <th>Q006</th>\n",
       "      <th>Q007</th>\n",
       "      <th>...</th>\n",
       "      <th>Q016</th>\n",
       "      <th>Q017</th>\n",
       "      <th>Q018</th>\n",
       "      <th>Q019</th>\n",
       "      <th>Q020</th>\n",
       "      <th>Q021</th>\n",
       "      <th>Q022</th>\n",
       "      <th>Q023</th>\n",
       "      <th>Q024</th>\n",
       "      <th>Q025</th>\n",
       "    </tr>\n",
       "  </thead>\n",
       "  <tbody>\n",
       "    <tr>\n",
       "      <th>0</th>\n",
       "      <td>1,90001E+11</td>\n",
       "      <td>Uberlândia</td>\n",
       "      <td>M</td>\n",
       "      <td>E</td>\n",
       "      <td>F</td>\n",
       "      <td>B</td>\n",
       "      <td>D</td>\n",
       "      <td>3</td>\n",
       "      <td>I</td>\n",
       "      <td>A</td>\n",
       "      <td>...</td>\n",
       "      <td>B</td>\n",
       "      <td>A</td>\n",
       "      <td>A</td>\n",
       "      <td>D</td>\n",
       "      <td>A</td>\n",
       "      <td>A</td>\n",
       "      <td>D</td>\n",
       "      <td>B</td>\n",
       "      <td>B</td>\n",
       "      <td>B</td>\n",
       "    </tr>\n",
       "    <tr>\n",
       "      <th>1</th>\n",
       "      <td>1,90001E+11</td>\n",
       "      <td>Canaã</td>\n",
       "      <td>M</td>\n",
       "      <td>B</td>\n",
       "      <td>B</td>\n",
       "      <td>A</td>\n",
       "      <td>A</td>\n",
       "      <td>5</td>\n",
       "      <td>D</td>\n",
       "      <td>A</td>\n",
       "      <td>...</td>\n",
       "      <td>A</td>\n",
       "      <td>A</td>\n",
       "      <td>A</td>\n",
       "      <td>B</td>\n",
       "      <td>A</td>\n",
       "      <td>A</td>\n",
       "      <td>C</td>\n",
       "      <td>A</td>\n",
       "      <td>A</td>\n",
       "      <td>A</td>\n",
       "    </tr>\n",
       "    <tr>\n",
       "      <th>2</th>\n",
       "      <td>1,90001E+11</td>\n",
       "      <td>Araxá</td>\n",
       "      <td>M</td>\n",
       "      <td>C</td>\n",
       "      <td>C</td>\n",
       "      <td>B</td>\n",
       "      <td>B</td>\n",
       "      <td>3</td>\n",
       "      <td>F</td>\n",
       "      <td>A</td>\n",
       "      <td>...</td>\n",
       "      <td>A</td>\n",
       "      <td>A</td>\n",
       "      <td>A</td>\n",
       "      <td>C</td>\n",
       "      <td>B</td>\n",
       "      <td>A</td>\n",
       "      <td>C</td>\n",
       "      <td>A</td>\n",
       "      <td>A</td>\n",
       "      <td>B</td>\n",
       "    </tr>\n",
       "    <tr>\n",
       "      <th>3</th>\n",
       "      <td>1,90001E+11</td>\n",
       "      <td>Belo Horizonte</td>\n",
       "      <td>M</td>\n",
       "      <td>G</td>\n",
       "      <td>D</td>\n",
       "      <td>D</td>\n",
       "      <td>D</td>\n",
       "      <td>3</td>\n",
       "      <td>P</td>\n",
       "      <td>B</td>\n",
       "      <td>...</td>\n",
       "      <td>B</td>\n",
       "      <td>A</td>\n",
       "      <td>B</td>\n",
       "      <td>B</td>\n",
       "      <td>A</td>\n",
       "      <td>A</td>\n",
       "      <td>D</td>\n",
       "      <td>A</td>\n",
       "      <td>D</td>\n",
       "      <td>B</td>\n",
       "    </tr>\n",
       "    <tr>\n",
       "      <th>4</th>\n",
       "      <td>1,90001E+11</td>\n",
       "      <td>São João da Ponte</td>\n",
       "      <td>M</td>\n",
       "      <td>B</td>\n",
       "      <td>D</td>\n",
       "      <td>B</td>\n",
       "      <td>B</td>\n",
       "      <td>3</td>\n",
       "      <td>D</td>\n",
       "      <td>A</td>\n",
       "      <td>...</td>\n",
       "      <td>A</td>\n",
       "      <td>A</td>\n",
       "      <td>A</td>\n",
       "      <td>B</td>\n",
       "      <td>B</td>\n",
       "      <td>A</td>\n",
       "      <td>C</td>\n",
       "      <td>A</td>\n",
       "      <td>B</td>\n",
       "      <td>A</td>\n",
       "    </tr>\n",
       "  </tbody>\n",
       "</table>\n",
       "<p>5 rows × 28 columns</p>\n",
       "</div>"
      ],
      "text/plain": [
       "  NU_INSCRICAO NO_MUNICIPIO_RESIDENCIA TP_SEXO Q001 Q002 Q003 Q004  Q005 Q006  \\\n",
       "0  1,90001E+11              Uberlândia       M    E    F    B    D     3    I   \n",
       "1  1,90001E+11                   Canaã       M    B    B    A    A     5    D   \n",
       "2  1,90001E+11                   Araxá       M    C    C    B    B     3    F   \n",
       "3  1,90001E+11          Belo Horizonte       M    G    D    D    D     3    P   \n",
       "4  1,90001E+11       São João da Ponte       M    B    D    B    B     3    D   \n",
       "\n",
       "  Q007  ... Q016 Q017 Q018 Q019 Q020 Q021 Q022 Q023 Q024 Q025  \n",
       "0    A  ...    B    A    A    D    A    A    D    B    B    B  \n",
       "1    A  ...    A    A    A    B    A    A    C    A    A    A  \n",
       "2    A  ...    A    A    A    C    B    A    C    A    A    B  \n",
       "3    B  ...    B    A    B    B    A    A    D    A    D    B  \n",
       "4    A  ...    A    A    A    B    B    A    C    A    B    A  \n",
       "\n",
       "[5 rows x 28 columns]"
      ]
     },
     "execution_count": 8,
     "metadata": {},
     "output_type": "execute_result"
    }
   ],
   "source": [
    "dados1.head()"
   ]
  },
  {
   "cell_type": "code",
   "execution_count": 9,
   "metadata": {
    "id": "mwzzOMmI3l9W"
   },
   "outputs": [],
   "source": [
    "dados1 = dados1.drop(columns=['Q001','Q002','Q003','Q004','Q013','Q018','Q020'],)"
   ]
  },
  {
   "cell_type": "code",
   "execution_count": 10,
   "metadata": {
    "id": "RKzRl8Ur32Aj"
   },
   "outputs": [
    {
     "data": {
      "text/html": [
       "<div>\n",
       "<style scoped>\n",
       "    .dataframe tbody tr th:only-of-type {\n",
       "        vertical-align: middle;\n",
       "    }\n",
       "\n",
       "    .dataframe tbody tr th {\n",
       "        vertical-align: top;\n",
       "    }\n",
       "\n",
       "    .dataframe thead th {\n",
       "        text-align: right;\n",
       "    }\n",
       "</style>\n",
       "<table border=\"1\" class=\"dataframe\">\n",
       "  <thead>\n",
       "    <tr style=\"text-align: right;\">\n",
       "      <th></th>\n",
       "      <th>NU_INSCRICAO</th>\n",
       "      <th>NO_MUNICIPIO_RESIDENCIA</th>\n",
       "      <th>TP_SEXO</th>\n",
       "      <th>Q005</th>\n",
       "      <th>Q006</th>\n",
       "      <th>Q007</th>\n",
       "      <th>Q008</th>\n",
       "      <th>Q009</th>\n",
       "      <th>Q010</th>\n",
       "      <th>Q011</th>\n",
       "      <th>...</th>\n",
       "      <th>Q014</th>\n",
       "      <th>Q015</th>\n",
       "      <th>Q016</th>\n",
       "      <th>Q017</th>\n",
       "      <th>Q019</th>\n",
       "      <th>Q021</th>\n",
       "      <th>Q022</th>\n",
       "      <th>Q023</th>\n",
       "      <th>Q024</th>\n",
       "      <th>Q025</th>\n",
       "    </tr>\n",
       "  </thead>\n",
       "  <tbody>\n",
       "    <tr>\n",
       "      <th>0</th>\n",
       "      <td>1,90001E+11</td>\n",
       "      <td>Uberlândia</td>\n",
       "      <td>M</td>\n",
       "      <td>3</td>\n",
       "      <td>I</td>\n",
       "      <td>A</td>\n",
       "      <td>C</td>\n",
       "      <td>D</td>\n",
       "      <td>B</td>\n",
       "      <td>A</td>\n",
       "      <td>...</td>\n",
       "      <td>B</td>\n",
       "      <td>A</td>\n",
       "      <td>B</td>\n",
       "      <td>A</td>\n",
       "      <td>D</td>\n",
       "      <td>A</td>\n",
       "      <td>D</td>\n",
       "      <td>B</td>\n",
       "      <td>B</td>\n",
       "      <td>B</td>\n",
       "    </tr>\n",
       "    <tr>\n",
       "      <th>1</th>\n",
       "      <td>1,90001E+11</td>\n",
       "      <td>Canaã</td>\n",
       "      <td>M</td>\n",
       "      <td>5</td>\n",
       "      <td>D</td>\n",
       "      <td>A</td>\n",
       "      <td>B</td>\n",
       "      <td>C</td>\n",
       "      <td>A</td>\n",
       "      <td>B</td>\n",
       "      <td>...</td>\n",
       "      <td>A</td>\n",
       "      <td>A</td>\n",
       "      <td>A</td>\n",
       "      <td>A</td>\n",
       "      <td>B</td>\n",
       "      <td>A</td>\n",
       "      <td>C</td>\n",
       "      <td>A</td>\n",
       "      <td>A</td>\n",
       "      <td>A</td>\n",
       "    </tr>\n",
       "    <tr>\n",
       "      <th>2</th>\n",
       "      <td>1,90001E+11</td>\n",
       "      <td>Araxá</td>\n",
       "      <td>M</td>\n",
       "      <td>3</td>\n",
       "      <td>F</td>\n",
       "      <td>A</td>\n",
       "      <td>B</td>\n",
       "      <td>D</td>\n",
       "      <td>A</td>\n",
       "      <td>A</td>\n",
       "      <td>...</td>\n",
       "      <td>B</td>\n",
       "      <td>B</td>\n",
       "      <td>A</td>\n",
       "      <td>A</td>\n",
       "      <td>C</td>\n",
       "      <td>A</td>\n",
       "      <td>C</td>\n",
       "      <td>A</td>\n",
       "      <td>A</td>\n",
       "      <td>B</td>\n",
       "    </tr>\n",
       "    <tr>\n",
       "      <th>3</th>\n",
       "      <td>1,90001E+11</td>\n",
       "      <td>Belo Horizonte</td>\n",
       "      <td>M</td>\n",
       "      <td>3</td>\n",
       "      <td>P</td>\n",
       "      <td>B</td>\n",
       "      <td>D</td>\n",
       "      <td>D</td>\n",
       "      <td>C</td>\n",
       "      <td>A</td>\n",
       "      <td>...</td>\n",
       "      <td>B</td>\n",
       "      <td>A</td>\n",
       "      <td>B</td>\n",
       "      <td>A</td>\n",
       "      <td>B</td>\n",
       "      <td>A</td>\n",
       "      <td>D</td>\n",
       "      <td>A</td>\n",
       "      <td>D</td>\n",
       "      <td>B</td>\n",
       "    </tr>\n",
       "    <tr>\n",
       "      <th>4</th>\n",
       "      <td>1,90001E+11</td>\n",
       "      <td>São João da Ponte</td>\n",
       "      <td>M</td>\n",
       "      <td>3</td>\n",
       "      <td>D</td>\n",
       "      <td>A</td>\n",
       "      <td>B</td>\n",
       "      <td>D</td>\n",
       "      <td>B</td>\n",
       "      <td>B</td>\n",
       "      <td>...</td>\n",
       "      <td>A</td>\n",
       "      <td>A</td>\n",
       "      <td>A</td>\n",
       "      <td>A</td>\n",
       "      <td>B</td>\n",
       "      <td>A</td>\n",
       "      <td>C</td>\n",
       "      <td>A</td>\n",
       "      <td>B</td>\n",
       "      <td>A</td>\n",
       "    </tr>\n",
       "  </tbody>\n",
       "</table>\n",
       "<p>5 rows × 21 columns</p>\n",
       "</div>"
      ],
      "text/plain": [
       "  NU_INSCRICAO NO_MUNICIPIO_RESIDENCIA TP_SEXO  Q005 Q006 Q007 Q008 Q009 Q010  \\\n",
       "0  1,90001E+11              Uberlândia       M     3    I    A    C    D    B   \n",
       "1  1,90001E+11                   Canaã       M     5    D    A    B    C    A   \n",
       "2  1,90001E+11                   Araxá       M     3    F    A    B    D    A   \n",
       "3  1,90001E+11          Belo Horizonte       M     3    P    B    D    D    C   \n",
       "4  1,90001E+11       São João da Ponte       M     3    D    A    B    D    B   \n",
       "\n",
       "  Q011  ... Q014 Q015 Q016 Q017 Q019 Q021 Q022 Q023 Q024 Q025  \n",
       "0    A  ...    B    A    B    A    D    A    D    B    B    B  \n",
       "1    B  ...    A    A    A    A    B    A    C    A    A    A  \n",
       "2    A  ...    B    B    A    A    C    A    C    A    A    B  \n",
       "3    A  ...    B    A    B    A    B    A    D    A    D    B  \n",
       "4    B  ...    A    A    A    A    B    A    C    A    B    A  \n",
       "\n",
       "[5 rows x 21 columns]"
      ]
     },
     "execution_count": 10,
     "metadata": {},
     "output_type": "execute_result"
    }
   ],
   "source": [
    "dados1.head()"
   ]
  },
  {
   "cell_type": "code",
   "execution_count": 11,
   "metadata": {
    "id": "4EqTMf067_1X"
   },
   "outputs": [
    {
     "data": {
      "text/plain": [
       "NU_INSCRICAO               0\n",
       "NO_MUNICIPIO_RESIDENCIA    0\n",
       "TP_SEXO                    0\n",
       "Q005                       0\n",
       "Q006                       0\n",
       "Q007                       0\n",
       "Q008                       0\n",
       "Q009                       0\n",
       "Q010                       0\n",
       "Q011                       0\n",
       "Q012                       0\n",
       "Q014                       0\n",
       "Q015                       0\n",
       "Q016                       0\n",
       "Q017                       0\n",
       "Q019                       0\n",
       "Q021                       0\n",
       "Q022                       0\n",
       "Q023                       0\n",
       "Q024                       0\n",
       "Q025                       0\n",
       "dtype: int64"
      ]
     },
     "execution_count": 11,
     "metadata": {},
     "output_type": "execute_result"
    }
   ],
   "source": [
    "dados1.isnull().sum()"
   ]
  },
  {
   "cell_type": "markdown",
   "metadata": {
    "id": "Hu3PwNXD8P6E"
   },
   "source": [
    "## **Análise quantitativa dos atributos**"
   ]
  },
  {
   "cell_type": "code",
   "execution_count": 12,
   "metadata": {
    "id": "q6WtZHOx4n82"
   },
   "outputs": [
    {
     "data": {
      "text/plain": [
       "F    326374\n",
       "M    212522\n",
       "Name: TP_SEXO, dtype: int64"
      ]
     },
     "execution_count": 12,
     "metadata": {},
     "output_type": "execute_result"
    }
   ],
   "source": [
    "dados1['TP_SEXO'].value_counts()"
   ]
  },
  {
   "cell_type": "code",
   "execution_count": 13,
   "metadata": {
    "id": "UliaIN1d9Ip2"
   },
   "outputs": [
    {
     "data": {
      "image/png": "[encoded data removed]",
      "text/plain": [
       "<Figure size 432x432 with 1 Axes>"
      ]
     },
     "metadata": {},
     "output_type": "display_data"
    }
   ],
   "source": [
    "dados1.TP_SEXO.value_counts().plot(figsize=(6,6),kind='pie', autopct='%.1f%%')\n",
    "plt.axis('equal');"
   ]
  },
  {
   "cell_type": "markdown",
   "metadata": {
    "id": "imNr86klOqVy"
   },
   "source": []
  },
  {
   "cell_type": "markdown",
   "metadata": {
    "id": "l-rtMFKoHsOu"
   },
   "source": [
    "![Q025.png](data:image/png;base64,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)"
   ]
  },
  {
   "cell_type": "code",
   "execution_count": 14,
   "metadata": {
    "id": "y4DKG7Wr4tzn"
   },
   "outputs": [
    {
     "data": {
      "text/plain": [
       "B    454439\n",
       "A     84457\n",
       "Name: Q025, dtype: int64"
      ]
     },
     "execution_count": 14,
     "metadata": {},
     "output_type": "execute_result"
    }
   ],
   "source": [
    "dados1['Q025'].value_counts()"
   ]
  },
  {
   "cell_type": "code",
   "execution_count": 15,
   "metadata": {
    "id": "phfgI0Mt9VOT"
   },
   "outputs": [
    {
     "data": {
      "image/png": "[encoded data removed]",
      "text/plain": [
       "<Figure size 432x432 with 1 Axes>"
      ]
     },
     "metadata": {},
     "output_type": "display_data"
    }
   ],
   "source": [
    "dados1.Q025.value_counts().plot(figsize=(6,6),kind='pie', autopct='%.1f%%')\n",
    "plt.axis('equal');"
   ]
  },
  {
   "cell_type": "markdown",
   "metadata": {
    "id": "yA6jkPbCHEDt"
   },
   "source": [
    "![Q024.png](data:image/png;base64,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)"
   ]
  },
  {
   "cell_type": "code",
   "execution_count": 16,
   "metadata": {
    "id": "rxS_0P3k44pt"
   },
   "outputs": [
    {
     "data": {
      "text/plain": [
       "B    284913\n",
       "A    186145\n",
       "C     48640\n",
       "D     13602\n",
       "E      5596\n",
       "Name: Q024, dtype: int64"
      ]
     },
     "execution_count": 16,
     "metadata": {},
     "output_type": "execute_result"
    }
   ],
   "source": [
    "dados1['Q024'].value_counts()\n"
   ]
  },
  {
   "cell_type": "code",
   "execution_count": 17,
   "metadata": {
    "id": "D__sbCdd-OXZ"
   },
   "outputs": [
    {
     "data": {
      "image/png": "[encoded data removed]",
      "text/plain": [
       "<Figure size 432x288 with 1 Axes>"
      ]
     },
     "metadata": {
      "needs_background": "light"
     },
     "output_type": "display_data"
    }
   ],
   "source": [
    "dados1.Q024.hist(bins=7)\n",
    "plt.title('Número de computadores')\n",
    "plt.show()"
   ]
  },
  {
   "cell_type": "markdown",
   "metadata": {
    "id": "lHcS7FmGINW7"
   },
   "source": [
    "![Q023.png](data:image/png;base64,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)"
   ]
  },
  {
   "cell_type": "code",
   "execution_count": 18,
   "metadata": {
    "id": "b_N2hHsY5K3k"
   },
   "outputs": [
    {
     "data": {
      "text/plain": [
       "A    389688\n",
       "B    149208\n",
       "Name: Q023, dtype: int64"
      ]
     },
     "execution_count": 18,
     "metadata": {},
     "output_type": "execute_result"
    }
   ],
   "source": [
    "dados1['Q023'].value_counts()"
   ]
  },
  {
   "cell_type": "code",
   "execution_count": 19,
   "metadata": {
    "id": "VNW0R_2RXabm"
   },
   "outputs": [
    {
     "data": {
      "image/png": "[encoded data removed]",
      "text/plain": [
       "<Figure size 432x288 with 1 Axes>"
      ]
     },
     "metadata": {
      "needs_background": "light"
     },
     "output_type": "display_data"
    }
   ],
   "source": [
    "sns.countplot(dados1['Q023']);"
   ]
  },
  {
   "cell_type": "markdown",
   "metadata": {
    "id": "r8-mCZszIWZ-"
   },
   "source": [
    "![Q022.png](data:image/png;base64,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)"
   ]
  },
  {
   "cell_type": "code",
   "execution_count": 20,
   "metadata": {
    "id": "6Pf2kdBw5TYL"
   },
   "outputs": [
    {
     "data": {
      "text/plain": [
       "D    167238\n",
       "C    162676\n",
       "E    117737\n",
       "B     84284\n",
       "A      6961\n",
       "Name: Q022, dtype: int64"
      ]
     },
     "execution_count": 20,
     "metadata": {},
     "output_type": "execute_result"
    }
   ],
   "source": [
    "dados1['Q022'].value_counts()"
   ]
  },
  {
   "cell_type": "code",
   "execution_count": 21,
   "metadata": {
    "id": "A9LJuxba-T-s"
   },
   "outputs": [
    {
     "data": {
      "image/png": "[encoded data removed]",
      "text/plain": [
       "<Figure size 432x288 with 1 Axes>"
      ]
     },
     "metadata": {
      "needs_background": "light"
     },
     "output_type": "display_data"
    }
   ],
   "source": [
    "sns.countplot(dados1['Q022']);"
   ]
  },
  {
   "cell_type": "markdown",
   "metadata": {
    "id": "Ty2Y8M9vIrmA"
   },
   "source": [
    "![Q021.png](data:image/png;base64,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)"
   ]
  },
  {
   "cell_type": "code",
   "execution_count": 22,
   "metadata": {
    "id": "FH0K7EuW5nKD"
   },
   "outputs": [
    {
     "data": {
      "text/plain": [
       "A    406532\n",
       "B    132364\n",
       "Name: Q021, dtype: int64"
      ]
     },
     "execution_count": 22,
     "metadata": {},
     "output_type": "execute_result"
    }
   ],
   "source": [
    "dados1['Q021'].value_counts()"
   ]
  },
  {
   "cell_type": "code",
   "execution_count": 23,
   "metadata": {
    "id": "D7gDE5fnF5Gd"
   },
   "outputs": [
    {
     "data": {
      "image/png": "[encoded data removed]",
      "text/plain": [
       "<Figure size 432x288 with 1 Axes>"
      ]
     },
     "metadata": {
      "needs_background": "light"
     },
     "output_type": "display_data"
    }
   ],
   "source": [
    "sns.countplot(dados1['Q021']);"
   ]
  },
  {
   "cell_type": "markdown",
   "metadata": {
    "id": "IpfINeq1I_zK"
   },
   "source": [
    "![Q009.png](data:image/png;base64,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)"
   ]
  },
  {
   "cell_type": "code",
   "execution_count": 24,
   "metadata": {
    "id": "Oe6Yz7qp54iV"
   },
   "outputs": [
    {
     "data": {
      "text/plain": [
       "C    237301\n",
       "D    224848\n",
       "B     38168\n",
       "E     37425\n",
       "A      1154\n",
       "Name: Q009, dtype: int64"
      ]
     },
     "execution_count": 24,
     "metadata": {},
     "output_type": "execute_result"
    }
   ],
   "source": [
    "dados1['Q009'].value_counts()"
   ]
  },
  {
   "cell_type": "code",
   "execution_count": 25,
   "metadata": {
    "id": "wv4U6llo-YrV"
   },
   "outputs": [
    {
     "data": {
      "image/png": "[encoded data removed]",
      "text/plain": [
       "<Figure size 432x288 with 1 Axes>"
      ]
     },
     "metadata": {
      "needs_background": "light"
     },
     "output_type": "display_data"
    }
   ],
   "source": [
    "sns.countplot(dados1['Q009']);"
   ]
  },
  {
   "cell_type": "markdown",
   "metadata": {
    "id": "Ytj0IbXeJUUx"
   },
   "source": [
    "![Q006.png](data:image/png;base64,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)"
   ]
  },
  {
   "cell_type": "code",
   "execution_count": 26,
   "metadata": {
    "id": "jaoN-cbl6NUS"
   },
   "outputs": [
    {
     "data": {
      "text/plain": [
       "C    142297\n",
       "B     97839\n",
       "D     63327\n",
       "E     61486\n",
       "G     39732\n",
       "F     29265\n",
       "H     24125\n",
       "I     17697\n",
       "A     12755\n",
       "J      9561\n",
       "N      7192\n",
       "K      6997\n",
       "O      5798\n",
       "Q      5698\n",
       "L      5295\n",
       "M      5157\n",
       "P      4675\n",
       "Name: Q006, dtype: int64"
      ]
     },
     "execution_count": 26,
     "metadata": {},
     "output_type": "execute_result"
    }
   ],
   "source": [
    "dados1['Q006'].value_counts()"
   ]
  },
  {
   "cell_type": "code",
   "execution_count": 27,
   "metadata": {
    "id": "9r4i0bE8Vxz_"
   },
   "outputs": [
    {
     "data": {
      "image/png": "[encoded data removed]",
      "text/plain": [
       "<Figure size 432x288 with 1 Axes>"
      ]
     },
     "metadata": {
      "needs_background": "light"
     },
     "output_type": "display_data"
    }
   ],
   "source": [
    "sns.countplot(dados1['Q006']);"
   ]
  },
  {
   "cell_type": "markdown",
   "metadata": {
    "id": "FAgXmV2OJkPx"
   },
   "source": [
    "![Q005.png](data:image/png;base64,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)"
   ]
  },
  {
   "cell_type": "code",
   "execution_count": 28,
   "metadata": {
    "id": "YN9gk6Tf6xaQ"
   },
   "outputs": [
    {
     "data": {
      "text/plain": [
       "4     183790\n",
       "3     143724\n",
       "5      83280\n",
       "2      69479\n",
       "6      26309\n",
       "1      16201\n",
       "7       9598\n",
       "8       3703\n",
       "9       1367\n",
       "10       745\n",
       "11       264\n",
       "12       175\n",
       "13        86\n",
       "14        47\n",
       "15        41\n",
       "20        37\n",
       "16        20\n",
       "19        14\n",
       "17         8\n",
       "18         8\n",
       "Name: Q005, dtype: int64"
      ]
     },
     "execution_count": 28,
     "metadata": {},
     "output_type": "execute_result"
    }
   ],
   "source": [
    "dados1['Q005'].value_counts()"
   ]
  },
  {
   "cell_type": "code",
   "execution_count": 29,
   "metadata": {
    "id": "NZeYCA6x-mQN"
   },
   "outputs": [
    {
     "data": {
      "image/png": "[encoded data removed]",
      "text/plain": [
       "<Figure size 432x288 with 1 Axes>"
      ]
     },
     "metadata": {
      "needs_background": "light"
     },
     "output_type": "display_data"
    }
   ],
   "source": [
    "sns.countplot(dados1['Q005']);"
   ]
  },
  {
   "cell_type": "code",
   "execution_count": 30,
   "metadata": {
    "id": "DTPxrnBN4anZ"
   },
   "outputs": [
    {
     "data": {
      "text/plain": [
       "NU_INSCRICAO               object\n",
       "NO_MUNICIPIO_RESIDENCIA    object\n",
       "TP_SEXO                    object\n",
       "Q005                        int64\n",
       "Q006                       object\n",
       "Q007                       object\n",
       "Q008                       object\n",
       "Q009                       object\n",
       "Q010                       object\n",
       "Q011                       object\n",
       "Q012                       object\n",
       "Q014                       object\n",
       "Q015                       object\n",
       "Q016                       object\n",
       "Q017                       object\n",
       "Q019                       object\n",
       "Q021                       object\n",
       "Q022                       object\n",
       "Q023                       object\n",
       "Q024                       object\n",
       "Q025                       object\n",
       "dtype: object"
      ]
     },
     "execution_count": 30,
     "metadata": {},
     "output_type": "execute_result"
    }
   ],
   "source": [
    "dados1.dtypes"
   ]
  },
  {
   "cell_type": "code",
   "execution_count": 31,
   "metadata": {
    "id": "zpOZMH22tMme"
   },
   "outputs": [
    {
     "data": {
      "text/html": [
       "<div>\n",
       "<style scoped>\n",
       "    .dataframe tbody tr th:only-of-type {\n",
       "        vertical-align: middle;\n",
       "    }\n",
       "\n",
       "    .dataframe tbody tr th {\n",
       "        vertical-align: top;\n",
       "    }\n",
       "\n",
       "    .dataframe thead th {\n",
       "        text-align: right;\n",
       "    }\n",
       "</style>\n",
       "<table border=\"1\" class=\"dataframe\">\n",
       "  <thead>\n",
       "    <tr style=\"text-align: right;\">\n",
       "      <th></th>\n",
       "      <th>NU_INSCRICAO</th>\n",
       "      <th>NO_MUNICIPIO_RESIDENCIA</th>\n",
       "      <th>TP_SEXO</th>\n",
       "      <th>Q005</th>\n",
       "      <th>Q006</th>\n",
       "      <th>Q007</th>\n",
       "      <th>Q008</th>\n",
       "      <th>Q009</th>\n",
       "      <th>Q010</th>\n",
       "      <th>Q011</th>\n",
       "      <th>...</th>\n",
       "      <th>Q014</th>\n",
       "      <th>Q015</th>\n",
       "      <th>Q016</th>\n",
       "      <th>Q017</th>\n",
       "      <th>Q019</th>\n",
       "      <th>Q021</th>\n",
       "      <th>Q022</th>\n",
       "      <th>Q023</th>\n",
       "      <th>Q024</th>\n",
       "      <th>Q025</th>\n",
       "    </tr>\n",
       "  </thead>\n",
       "  <tbody>\n",
       "    <tr>\n",
       "      <th>0</th>\n",
       "      <td>1,90001E+11</td>\n",
       "      <td>Uberlândia</td>\n",
       "      <td>M</td>\n",
       "      <td>3</td>\n",
       "      <td>I</td>\n",
       "      <td>A</td>\n",
       "      <td>C</td>\n",
       "      <td>D</td>\n",
       "      <td>B</td>\n",
       "      <td>A</td>\n",
       "      <td>...</td>\n",
       "      <td>B</td>\n",
       "      <td>A</td>\n",
       "      <td>B</td>\n",
       "      <td>A</td>\n",
       "      <td>D</td>\n",
       "      <td>A</td>\n",
       "      <td>D</td>\n",
       "      <td>B</td>\n",
       "      <td>B</td>\n",
       "      <td>B</td>\n",
       "    </tr>\n",
       "    <tr>\n",
       "      <th>1</th>\n",
       "      <td>1,90001E+11</td>\n",
       "      <td>Canaã</td>\n",
       "      <td>M</td>\n",
       "      <td>5</td>\n",
       "      <td>D</td>\n",
       "      <td>A</td>\n",
       "      <td>B</td>\n",
       "      <td>C</td>\n",
       "      <td>A</td>\n",
       "      <td>B</td>\n",
       "      <td>...</td>\n",
       "      <td>A</td>\n",
       "      <td>A</td>\n",
       "      <td>A</td>\n",
       "      <td>A</td>\n",
       "      <td>B</td>\n",
       "      <td>A</td>\n",
       "      <td>C</td>\n",
       "      <td>A</td>\n",
       "      <td>A</td>\n",
       "      <td>A</td>\n",
       "    </tr>\n",
       "    <tr>\n",
       "      <th>2</th>\n",
       "      <td>1,90001E+11</td>\n",
       "      <td>Araxá</td>\n",
       "      <td>M</td>\n",
       "      <td>3</td>\n",
       "      <td>F</td>\n",
       "      <td>A</td>\n",
       "      <td>B</td>\n",
       "      <td>D</td>\n",
       "      <td>A</td>\n",
       "      <td>A</td>\n",
       "      <td>...</td>\n",
       "      <td>B</td>\n",
       "      <td>B</td>\n",
       "      <td>A</td>\n",
       "      <td>A</td>\n",
       "      <td>C</td>\n",
       "      <td>A</td>\n",
       "      <td>C</td>\n",
       "      <td>A</td>\n",
       "      <td>A</td>\n",
       "      <td>B</td>\n",
       "    </tr>\n",
       "    <tr>\n",
       "      <th>3</th>\n",
       "      <td>1,90001E+11</td>\n",
       "      <td>Belo Horizonte</td>\n",
       "      <td>M</td>\n",
       "      <td>3</td>\n",
       "      <td>P</td>\n",
       "      <td>B</td>\n",
       "      <td>D</td>\n",
       "      <td>D</td>\n",
       "      <td>C</td>\n",
       "      <td>A</td>\n",
       "      <td>...</td>\n",
       "      <td>B</td>\n",
       "      <td>A</td>\n",
       "      <td>B</td>\n",
       "      <td>A</td>\n",
       "      <td>B</td>\n",
       "      <td>A</td>\n",
       "      <td>D</td>\n",
       "      <td>A</td>\n",
       "      <td>D</td>\n",
       "      <td>B</td>\n",
       "    </tr>\n",
       "    <tr>\n",
       "      <th>4</th>\n",
       "      <td>1,90001E+11</td>\n",
       "      <td>São João da Ponte</td>\n",
       "      <td>M</td>\n",
       "      <td>3</td>\n",
       "      <td>D</td>\n",
       "      <td>A</td>\n",
       "      <td>B</td>\n",
       "      <td>D</td>\n",
       "      <td>B</td>\n",
       "      <td>B</td>\n",
       "      <td>...</td>\n",
       "      <td>A</td>\n",
       "      <td>A</td>\n",
       "      <td>A</td>\n",
       "      <td>A</td>\n",
       "      <td>B</td>\n",
       "      <td>A</td>\n",
       "      <td>C</td>\n",
       "      <td>A</td>\n",
       "      <td>B</td>\n",
       "      <td>A</td>\n",
       "    </tr>\n",
       "  </tbody>\n",
       "</table>\n",
       "<p>5 rows × 21 columns</p>\n",
       "</div>"
      ],
      "text/plain": [
       "  NU_INSCRICAO NO_MUNICIPIO_RESIDENCIA TP_SEXO  Q005 Q006 Q007 Q008 Q009 Q010  \\\n",
       "0  1,90001E+11              Uberlândia       M     3    I    A    C    D    B   \n",
       "1  1,90001E+11                   Canaã       M     5    D    A    B    C    A   \n",
       "2  1,90001E+11                   Araxá       M     3    F    A    B    D    A   \n",
       "3  1,90001E+11          Belo Horizonte       M     3    P    B    D    D    C   \n",
       "4  1,90001E+11       São João da Ponte       M     3    D    A    B    D    B   \n",
       "\n",
       "  Q011  ... Q014 Q015 Q016 Q017 Q019 Q021 Q022 Q023 Q024 Q025  \n",
       "0    A  ...    B    A    B    A    D    A    D    B    B    B  \n",
       "1    B  ...    A    A    A    A    B    A    C    A    A    A  \n",
       "2    A  ...    B    B    A    A    C    A    C    A    A    B  \n",
       "3    A  ...    B    A    B    A    B    A    D    A    D    B  \n",
       "4    B  ...    A    A    A    A    B    A    C    A    B    A  \n",
       "\n",
       "[5 rows x 21 columns]"
      ]
     },
     "execution_count": 31,
     "metadata": {},
     "output_type": "execute_result"
    }
   ],
   "source": [
    "dados1.head()"
   ]
  },
  {
   "cell_type": "code",
   "execution_count": 32,
   "metadata": {
    "id": "QGk03UDbJ7Nk"
   },
   "outputs": [],
   "source": [
    "dados2 = dados1.drop(columns=['NU_INSCRICAO','NO_MUNICIPIO_RESIDENCIA','TP_SEXO'],)"
   ]
  },
  {
   "cell_type": "code",
   "execution_count": 33,
   "metadata": {
    "id": "bPgh3CBm03mf"
   },
   "outputs": [
    {
     "data": {
      "text/html": [
       "<div>\n",
       "<style scoped>\n",
       "    .dataframe tbody tr th:only-of-type {\n",
       "        vertical-align: middle;\n",
       "    }\n",
       "\n",
       "    .dataframe tbody tr th {\n",
       "        vertical-align: top;\n",
       "    }\n",
       "\n",
       "    .dataframe thead th {\n",
       "        text-align: right;\n",
       "    }\n",
       "</style>\n",
       "<table border=\"1\" class=\"dataframe\">\n",
       "  <thead>\n",
       "    <tr style=\"text-align: right;\">\n",
       "      <th></th>\n",
       "      <th>Q005</th>\n",
       "      <th>Q006</th>\n",
       "      <th>Q007</th>\n",
       "      <th>Q008</th>\n",
       "      <th>Q009</th>\n",
       "      <th>Q010</th>\n",
       "      <th>Q011</th>\n",
       "      <th>Q012</th>\n",
       "      <th>Q014</th>\n",
       "      <th>Q015</th>\n",
       "      <th>Q016</th>\n",
       "      <th>Q017</th>\n",
       "      <th>Q019</th>\n",
       "      <th>Q021</th>\n",
       "      <th>Q022</th>\n",
       "      <th>Q023</th>\n",
       "      <th>Q024</th>\n",
       "      <th>Q025</th>\n",
       "    </tr>\n",
       "  </thead>\n",
       "  <tbody>\n",
       "    <tr>\n",
       "      <th>0</th>\n",
       "      <td>3</td>\n",
       "      <td>I</td>\n",
       "      <td>A</td>\n",
       "      <td>C</td>\n",
       "      <td>D</td>\n",
       "      <td>B</td>\n",
       "      <td>A</td>\n",
       "      <td>B</td>\n",
       "      <td>B</td>\n",
       "      <td>A</td>\n",
       "      <td>B</td>\n",
       "      <td>A</td>\n",
       "      <td>D</td>\n",
       "      <td>A</td>\n",
       "      <td>D</td>\n",
       "      <td>B</td>\n",
       "      <td>B</td>\n",
       "      <td>B</td>\n",
       "    </tr>\n",
       "    <tr>\n",
       "      <th>1</th>\n",
       "      <td>5</td>\n",
       "      <td>D</td>\n",
       "      <td>A</td>\n",
       "      <td>B</td>\n",
       "      <td>C</td>\n",
       "      <td>A</td>\n",
       "      <td>B</td>\n",
       "      <td>B</td>\n",
       "      <td>A</td>\n",
       "      <td>A</td>\n",
       "      <td>A</td>\n",
       "      <td>A</td>\n",
       "      <td>B</td>\n",
       "      <td>A</td>\n",
       "      <td>C</td>\n",
       "      <td>A</td>\n",
       "      <td>A</td>\n",
       "      <td>A</td>\n",
       "    </tr>\n",
       "    <tr>\n",
       "      <th>2</th>\n",
       "      <td>3</td>\n",
       "      <td>F</td>\n",
       "      <td>A</td>\n",
       "      <td>B</td>\n",
       "      <td>D</td>\n",
       "      <td>A</td>\n",
       "      <td>A</td>\n",
       "      <td>B</td>\n",
       "      <td>B</td>\n",
       "      <td>B</td>\n",
       "      <td>A</td>\n",
       "      <td>A</td>\n",
       "      <td>C</td>\n",
       "      <td>A</td>\n",
       "      <td>C</td>\n",
       "      <td>A</td>\n",
       "      <td>A</td>\n",
       "      <td>B</td>\n",
       "    </tr>\n",
       "    <tr>\n",
       "      <th>3</th>\n",
       "      <td>3</td>\n",
       "      <td>P</td>\n",
       "      <td>B</td>\n",
       "      <td>D</td>\n",
       "      <td>D</td>\n",
       "      <td>C</td>\n",
       "      <td>A</td>\n",
       "      <td>B</td>\n",
       "      <td>B</td>\n",
       "      <td>A</td>\n",
       "      <td>B</td>\n",
       "      <td>A</td>\n",
       "      <td>B</td>\n",
       "      <td>A</td>\n",
       "      <td>D</td>\n",
       "      <td>A</td>\n",
       "      <td>D</td>\n",
       "      <td>B</td>\n",
       "    </tr>\n",
       "    <tr>\n",
       "      <th>4</th>\n",
       "      <td>3</td>\n",
       "      <td>D</td>\n",
       "      <td>A</td>\n",
       "      <td>B</td>\n",
       "      <td>D</td>\n",
       "      <td>B</td>\n",
       "      <td>B</td>\n",
       "      <td>B</td>\n",
       "      <td>A</td>\n",
       "      <td>A</td>\n",
       "      <td>A</td>\n",
       "      <td>A</td>\n",
       "      <td>B</td>\n",
       "      <td>A</td>\n",
       "      <td>C</td>\n",
       "      <td>A</td>\n",
       "      <td>B</td>\n",
       "      <td>A</td>\n",
       "    </tr>\n",
       "  </tbody>\n",
       "</table>\n",
       "</div>"
      ],
      "text/plain": [
       "   Q005 Q006 Q007 Q008 Q009 Q010 Q011 Q012 Q014 Q015 Q016 Q017 Q019 Q021 Q022  \\\n",
       "0     3    I    A    C    D    B    A    B    B    A    B    A    D    A    D   \n",
       "1     5    D    A    B    C    A    B    B    A    A    A    A    B    A    C   \n",
       "2     3    F    A    B    D    A    A    B    B    B    A    A    C    A    C   \n",
       "3     3    P    B    D    D    C    A    B    B    A    B    A    B    A    D   \n",
       "4     3    D    A    B    D    B    B    B    A    A    A    A    B    A    C   \n",
       "\n",
       "  Q023 Q024 Q025  \n",
       "0    B    B    B  \n",
       "1    A    A    A  \n",
       "2    A    A    B  \n",
       "3    A    D    B  \n",
       "4    A    B    A  "
      ]
     },
     "execution_count": 33,
     "metadata": {},
     "output_type": "execute_result"
    }
   ],
   "source": [
    "dados2.head()"
   ]
  },
  {
   "cell_type": "code",
   "execution_count": 34,
   "metadata": {
    "id": "De4bIhhkwdYb"
   },
   "outputs": [
    {
     "data": {
      "text/html": [
       "<div>\n",
       "<style scoped>\n",
       "    .dataframe tbody tr th:only-of-type {\n",
       "        vertical-align: middle;\n",
       "    }\n",
       "\n",
       "    .dataframe tbody tr th {\n",
       "        vertical-align: top;\n",
       "    }\n",
       "\n",
       "    .dataframe thead th {\n",
       "        text-align: right;\n",
       "    }\n",
       "</style>\n",
       "<table border=\"1\" class=\"dataframe\">\n",
       "  <thead>\n",
       "    <tr style=\"text-align: right;\">\n",
       "      <th></th>\n",
       "      <th>NU_INSCRICAO</th>\n",
       "      <th>NO_MUNICIPIO_RESIDENCIA</th>\n",
       "      <th>TP_SEXO</th>\n",
       "      <th>Q005</th>\n",
       "      <th>Q006</th>\n",
       "      <th>Q007</th>\n",
       "      <th>Q008</th>\n",
       "      <th>Q009</th>\n",
       "      <th>Q010</th>\n",
       "      <th>Q011</th>\n",
       "      <th>...</th>\n",
       "      <th>Q014</th>\n",
       "      <th>Q015</th>\n",
       "      <th>Q016</th>\n",
       "      <th>Q017</th>\n",
       "      <th>Q019</th>\n",
       "      <th>Q021</th>\n",
       "      <th>Q022</th>\n",
       "      <th>Q023</th>\n",
       "      <th>Q024</th>\n",
       "      <th>Q025</th>\n",
       "    </tr>\n",
       "  </thead>\n",
       "  <tbody>\n",
       "    <tr>\n",
       "      <th>0</th>\n",
       "      <td>1,90001E+11</td>\n",
       "      <td>Uberlândia</td>\n",
       "      <td>M</td>\n",
       "      <td>3</td>\n",
       "      <td>I</td>\n",
       "      <td>A</td>\n",
       "      <td>C</td>\n",
       "      <td>D</td>\n",
       "      <td>B</td>\n",
       "      <td>A</td>\n",
       "      <td>...</td>\n",
       "      <td>B</td>\n",
       "      <td>A</td>\n",
       "      <td>B</td>\n",
       "      <td>A</td>\n",
       "      <td>D</td>\n",
       "      <td>A</td>\n",
       "      <td>D</td>\n",
       "      <td>B</td>\n",
       "      <td>B</td>\n",
       "      <td>B</td>\n",
       "    </tr>\n",
       "    <tr>\n",
       "      <th>1</th>\n",
       "      <td>1,90001E+11</td>\n",
       "      <td>Canaã</td>\n",
       "      <td>M</td>\n",
       "      <td>5</td>\n",
       "      <td>D</td>\n",
       "      <td>A</td>\n",
       "      <td>B</td>\n",
       "      <td>C</td>\n",
       "      <td>A</td>\n",
       "      <td>B</td>\n",
       "      <td>...</td>\n",
       "      <td>A</td>\n",
       "      <td>A</td>\n",
       "      <td>A</td>\n",
       "      <td>A</td>\n",
       "      <td>B</td>\n",
       "      <td>A</td>\n",
       "      <td>C</td>\n",
       "      <td>A</td>\n",
       "      <td>A</td>\n",
       "      <td>A</td>\n",
       "    </tr>\n",
       "    <tr>\n",
       "      <th>2</th>\n",
       "      <td>1,90001E+11</td>\n",
       "      <td>Araxá</td>\n",
       "      <td>M</td>\n",
       "      <td>3</td>\n",
       "      <td>F</td>\n",
       "      <td>A</td>\n",
       "      <td>B</td>\n",
       "      <td>D</td>\n",
       "      <td>A</td>\n",
       "      <td>A</td>\n",
       "      <td>...</td>\n",
       "      <td>B</td>\n",
       "      <td>B</td>\n",
       "      <td>A</td>\n",
       "      <td>A</td>\n",
       "      <td>C</td>\n",
       "      <td>A</td>\n",
       "      <td>C</td>\n",
       "      <td>A</td>\n",
       "      <td>A</td>\n",
       "      <td>B</td>\n",
       "    </tr>\n",
       "    <tr>\n",
       "      <th>3</th>\n",
       "      <td>1,90001E+11</td>\n",
       "      <td>Belo Horizonte</td>\n",
       "      <td>M</td>\n",
       "      <td>3</td>\n",
       "      <td>P</td>\n",
       "      <td>B</td>\n",
       "      <td>D</td>\n",
       "      <td>D</td>\n",
       "      <td>C</td>\n",
       "      <td>A</td>\n",
       "      <td>...</td>\n",
       "      <td>B</td>\n",
       "      <td>A</td>\n",
       "      <td>B</td>\n",
       "      <td>A</td>\n",
       "      <td>B</td>\n",
       "      <td>A</td>\n",
       "      <td>D</td>\n",
       "      <td>A</td>\n",
       "      <td>D</td>\n",
       "      <td>B</td>\n",
       "    </tr>\n",
       "    <tr>\n",
       "      <th>4</th>\n",
       "      <td>1,90001E+11</td>\n",
       "      <td>São João da Ponte</td>\n",
       "      <td>M</td>\n",
       "      <td>3</td>\n",
       "      <td>D</td>\n",
       "      <td>A</td>\n",
       "      <td>B</td>\n",
       "      <td>D</td>\n",
       "      <td>B</td>\n",
       "      <td>B</td>\n",
       "      <td>...</td>\n",
       "      <td>A</td>\n",
       "      <td>A</td>\n",
       "      <td>A</td>\n",
       "      <td>A</td>\n",
       "      <td>B</td>\n",
       "      <td>A</td>\n",
       "      <td>C</td>\n",
       "      <td>A</td>\n",
       "      <td>B</td>\n",
       "      <td>A</td>\n",
       "    </tr>\n",
       "  </tbody>\n",
       "</table>\n",
       "<p>5 rows × 21 columns</p>\n",
       "</div>"
      ],
      "text/plain": [
       "  NU_INSCRICAO NO_MUNICIPIO_RESIDENCIA TP_SEXO  Q005 Q006 Q007 Q008 Q009 Q010  \\\n",
       "0  1,90001E+11              Uberlândia       M     3    I    A    C    D    B   \n",
       "1  1,90001E+11                   Canaã       M     5    D    A    B    C    A   \n",
       "2  1,90001E+11                   Araxá       M     3    F    A    B    D    A   \n",
       "3  1,90001E+11          Belo Horizonte       M     3    P    B    D    D    C   \n",
       "4  1,90001E+11       São João da Ponte       M     3    D    A    B    D    B   \n",
       "\n",
       "  Q011  ... Q014 Q015 Q016 Q017 Q019 Q021 Q022 Q023 Q024 Q025  \n",
       "0    A  ...    B    A    B    A    D    A    D    B    B    B  \n",
       "1    B  ...    A    A    A    A    B    A    C    A    A    A  \n",
       "2    A  ...    B    B    A    A    C    A    C    A    A    B  \n",
       "3    A  ...    B    A    B    A    B    A    D    A    D    B  \n",
       "4    B  ...    A    A    A    A    B    A    C    A    B    A  \n",
       "\n",
       "[5 rows x 21 columns]"
      ]
     },
     "execution_count": 34,
     "metadata": {},
     "output_type": "execute_result"
    }
   ],
   "source": [
    "dados1.head()"
   ]
  },
  {
   "cell_type": "code",
   "execution_count": 35,
   "metadata": {
    "id": "MJv1DeAqQKgB"
   },
   "outputs": [],
   "source": [
    "dados2.to_csv(r'C:\\Users\\Optimus\\GitHUB\\cursos_udemy\\py3_rna\\planilhas\\dados_tratados.csv', encoding = 'iso-8859-1', index = False)"
   ]
  },
  {
   "cell_type": "code",
   "execution_count": null,
   "metadata": {},
   "outputs": [],
   "source": []
  }
 ],
 "metadata": {
  "colab": {
   "collapsed_sections": [],
   "name": "socioeconomico_mg",
   "provenance": []
  },
  "kernelspec": {
   "display_name": "Python 3",
   "language": "python",
   "name": "python3"
  },
  "language_info": {
   "codemirror_mode": {
    "name": "ipython",
    "version": 3
   },
   "file_extension": ".py",
   "mimetype": "text/x-python",
   "name": "python",
   "nbconvert_exporter": "python",
   "pygments_lexer": "ipython3",
   "version": "3.8.2"
  }
 },
 "nbformat": 4,
 "nbformat_minor": 1
}
